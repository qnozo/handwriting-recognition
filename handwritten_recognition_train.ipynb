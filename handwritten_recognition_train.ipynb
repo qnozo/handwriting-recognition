{
  "cells": [
    {
      "cell_type": "markdown",
      "metadata": {
        "id": "fMjqx1llcHVV"
      },
      "source": [
        "## 1.   Libraries\n",
        "\n",
        "\n",
        "\n",
        "\n",
        "\n",
        "\n"
      ]
    },
    {
      "cell_type": "code",
      "source": [
        "!nvidia-smi"
      ],
      "metadata": {
        "id": "wPblqbeOBGT1"
      },
      "execution_count": null,
      "outputs": []
    },
    {
      "cell_type": "code",
      "execution_count": null,
      "metadata": {
        "id": "4xYblWbabTGv",
        "colab": {
          "base_uri": "https://localhost:8080/"
        },
        "outputId": "ba8ae8ef-9719-4b05-b526-de6c120c60e0"
      },
      "outputs": [
        {
          "output_type": "stream",
          "name": "stdout",
          "text": [
            "\u001b[?25l\r\u001b[K     |█▍                              | 10 kB 24.0 MB/s eta 0:00:01\r\u001b[K     |██▊                             | 20 kB 5.9 MB/s eta 0:00:01\r\u001b[K     |████▏                           | 30 kB 8.5 MB/s eta 0:00:01\r\u001b[K     |█████▌                          | 40 kB 3.4 MB/s eta 0:00:01\r\u001b[K     |██████▉                         | 51 kB 3.7 MB/s eta 0:00:01\r\u001b[K     |████████▎                       | 61 kB 4.3 MB/s eta 0:00:01\r\u001b[K     |█████████▋                      | 71 kB 4.4 MB/s eta 0:00:01\r\u001b[K     |███████████                     | 81 kB 4.7 MB/s eta 0:00:01\r\u001b[K     |████████████▍                   | 92 kB 5.2 MB/s eta 0:00:01\r\u001b[K     |█████████████▊                  | 102 kB 4.0 MB/s eta 0:00:01\r\u001b[K     |███████████████                 | 112 kB 4.0 MB/s eta 0:00:01\r\u001b[K     |████████████████▌               | 122 kB 4.0 MB/s eta 0:00:01\r\u001b[K     |█████████████████▉              | 133 kB 4.0 MB/s eta 0:00:01\r\u001b[K     |███████████████████▏            | 143 kB 4.0 MB/s eta 0:00:01\r\u001b[K     |████████████████████▋           | 153 kB 4.0 MB/s eta 0:00:01\r\u001b[K     |██████████████████████          | 163 kB 4.0 MB/s eta 0:00:01\r\u001b[K     |███████████████████████▎        | 174 kB 4.0 MB/s eta 0:00:01\r\u001b[K     |████████████████████████▊       | 184 kB 4.0 MB/s eta 0:00:01\r\u001b[K     |██████████████████████████      | 194 kB 4.0 MB/s eta 0:00:01\r\u001b[K     |███████████████████████████▍    | 204 kB 4.0 MB/s eta 0:00:01\r\u001b[K     |████████████████████████████▉   | 215 kB 4.0 MB/s eta 0:00:01\r\u001b[K     |██████████████████████████████▏ | 225 kB 4.0 MB/s eta 0:00:01\r\u001b[K     |███████████████████████████████▌| 235 kB 4.0 MB/s eta 0:00:01\r\u001b[K     |████████████████████████████████| 238 kB 4.0 MB/s \n",
            "\u001b[?25h"
          ]
        }
      ],
      "source": [
        "import numpy as np\n",
        "\n",
        "\n",
        "\n",
        "import cv2\n",
        "from google.colab.patches import cv2_imshow\n",
        "\n",
        "\n",
        "\n",
        "from pathlib import Path\n",
        "from google.colab import drive\n",
        "from tqdm import tqdm\n",
        "import os\n",
        "import pandas as pd\n",
        "import matplotlib.pyplot as plt\n",
        "import pickle\n",
        "\n",
        "import keras\n",
        "import tensorflow as tf\n",
        "from keras.models import Sequential\n",
        "from keras.layers import Dense, Flatten, Conv2D, MaxPooling2D, Dropout, LeakyReLU, AveragePooling2D, Reshape, DepthwiseConv2D, BatchNormalization, ReLU\n",
        "from keras.callbacks import ReduceLROnPlateau, EarlyStopping\n",
        "from keras.losses import SparseCategoricalCrossentropy\n",
        "\n",
        "!pip install -q tensorflow-model-optimization\n",
        "\n",
        "import tensorflow_model_optimization as tfmot\n",
        "\n",
        "import sklearn\n",
        "from sklearn.metrics import accuracy_score\n",
        "\n",
        "BATCH_SIZE = 32\n",
        "EPOCHS = 100\n",
        "img_height = 28\n",
        "img_width = 28\n",
        "N_CLASSES = 62"
      ]
    },
    {
      "cell_type": "code",
      "execution_count": null,
      "metadata": {
        "id": "MofMWJrvcB46",
        "colab": {
          "base_uri": "https://localhost:8080/"
        },
        "outputId": "2e6791a0-961c-415c-abc9-d02cfda72b40"
      },
      "outputs": [
        {
          "output_type": "stream",
          "name": "stdout",
          "text": [
            "Mounted at /content/gdrive\n"
          ]
        },
        {
          "output_type": "execute_result",
          "data": {
            "text/plain": [
              "True"
            ]
          },
          "metadata": {},
          "execution_count": 3
        }
      ],
      "source": [
        "drive.mount('/content/gdrive', force_remount=True)\n",
        "\n",
        "data_path = '/content/gdrive/MyDrive/Internet of Things/data'\n",
        "os.path.exists(data_path)"
      ]
    },
    {
      "cell_type": "code",
      "source": [
        "model_path = '/content/gdrive/MyDrive/Internet of Things/Modelli/'"
      ],
      "metadata": {
        "id": "G7OcY4fKj3ye"
      },
      "execution_count": null,
      "outputs": []
    },
    {
      "cell_type": "markdown",
      "metadata": {
        "id": "ovE-J7ZDQxBP"
      },
      "source": [
        "## 2.   Load and preprocess images\n",
        "\n",
        "the dataset is composed of the image path and the label. So we first need to load the image from the disk and apply the preprocessing (standardize resizing and convert to grayscale)."
      ]
    },
    {
      "cell_type": "code",
      "execution_count": null,
      "metadata": {
        "colab": {
          "base_uri": "https://localhost:8080/",
          "height": 224
        },
        "id": "f8G5zvy0menw",
        "outputId": "e1c71aae-eb38-4753-b62b-9346d9ce964b"
      },
      "outputs": [
        {
          "output_type": "stream",
          "name": "stdout",
          "text": [
            "(3410, 2)\n"
          ]
        },
        {
          "output_type": "execute_result",
          "data": {
            "text/plain": [
              "                         image label\n",
              "0  /dataset/Img/img001-001.png     0\n",
              "1  /dataset/Img/img001-002.png     0\n",
              "2  /dataset/Img/img001-003.png     0\n",
              "3  /dataset/Img/img001-004.png     0\n",
              "4  /dataset/Img/img001-005.png     0"
            ],
            "text/html": [
              "\n",
              "  <div id=\"df-fedb39f7-7b55-4ac7-a5cb-fef7cc74ec6a\">\n",
              "    <div class=\"colab-df-container\">\n",
              "      <div>\n",
              "<style scoped>\n",
              "    .dataframe tbody tr th:only-of-type {\n",
              "        vertical-align: middle;\n",
              "    }\n",
              "\n",
              "    .dataframe tbody tr th {\n",
              "        vertical-align: top;\n",
              "    }\n",
              "\n",
              "    .dataframe thead th {\n",
              "        text-align: right;\n",
              "    }\n",
              "</style>\n",
              "<table border=\"1\" class=\"dataframe\">\n",
              "  <thead>\n",
              "    <tr style=\"text-align: right;\">\n",
              "      <th></th>\n",
              "      <th>image</th>\n",
              "      <th>label</th>\n",
              "    </tr>\n",
              "  </thead>\n",
              "  <tbody>\n",
              "    <tr>\n",
              "      <th>0</th>\n",
              "      <td>/dataset/Img/img001-001.png</td>\n",
              "      <td>0</td>\n",
              "    </tr>\n",
              "    <tr>\n",
              "      <th>1</th>\n",
              "      <td>/dataset/Img/img001-002.png</td>\n",
              "      <td>0</td>\n",
              "    </tr>\n",
              "    <tr>\n",
              "      <th>2</th>\n",
              "      <td>/dataset/Img/img001-003.png</td>\n",
              "      <td>0</td>\n",
              "    </tr>\n",
              "    <tr>\n",
              "      <th>3</th>\n",
              "      <td>/dataset/Img/img001-004.png</td>\n",
              "      <td>0</td>\n",
              "    </tr>\n",
              "    <tr>\n",
              "      <th>4</th>\n",
              "      <td>/dataset/Img/img001-005.png</td>\n",
              "      <td>0</td>\n",
              "    </tr>\n",
              "  </tbody>\n",
              "</table>\n",
              "</div>\n",
              "      <button class=\"colab-df-convert\" onclick=\"convertToInteractive('df-fedb39f7-7b55-4ac7-a5cb-fef7cc74ec6a')\"\n",
              "              title=\"Convert this dataframe to an interactive table.\"\n",
              "              style=\"display:none;\">\n",
              "        \n",
              "  <svg xmlns=\"http://www.w3.org/2000/svg\" height=\"24px\"viewBox=\"0 0 24 24\"\n",
              "       width=\"24px\">\n",
              "    <path d=\"M0 0h24v24H0V0z\" fill=\"none\"/>\n",
              "    <path d=\"M18.56 5.44l.94 2.06.94-2.06 2.06-.94-2.06-.94-.94-2.06-.94 2.06-2.06.94zm-11 1L8.5 8.5l.94-2.06 2.06-.94-2.06-.94L8.5 2.5l-.94 2.06-2.06.94zm10 10l.94 2.06.94-2.06 2.06-.94-2.06-.94-.94-2.06-.94 2.06-2.06.94z\"/><path d=\"M17.41 7.96l-1.37-1.37c-.4-.4-.92-.59-1.43-.59-.52 0-1.04.2-1.43.59L10.3 9.45l-7.72 7.72c-.78.78-.78 2.05 0 2.83L4 21.41c.39.39.9.59 1.41.59.51 0 1.02-.2 1.41-.59l7.78-7.78 2.81-2.81c.8-.78.8-2.07 0-2.86zM5.41 20L4 18.59l7.72-7.72 1.47 1.35L5.41 20z\"/>\n",
              "  </svg>\n",
              "      </button>\n",
              "      \n",
              "  <style>\n",
              "    .colab-df-container {\n",
              "      display:flex;\n",
              "      flex-wrap:wrap;\n",
              "      gap: 12px;\n",
              "    }\n",
              "\n",
              "    .colab-df-convert {\n",
              "      background-color: #E8F0FE;\n",
              "      border: none;\n",
              "      border-radius: 50%;\n",
              "      cursor: pointer;\n",
              "      display: none;\n",
              "      fill: #1967D2;\n",
              "      height: 32px;\n",
              "      padding: 0 0 0 0;\n",
              "      width: 32px;\n",
              "    }\n",
              "\n",
              "    .colab-df-convert:hover {\n",
              "      background-color: #E2EBFA;\n",
              "      box-shadow: 0px 1px 2px rgba(60, 64, 67, 0.3), 0px 1px 3px 1px rgba(60, 64, 67, 0.15);\n",
              "      fill: #174EA6;\n",
              "    }\n",
              "\n",
              "    [theme=dark] .colab-df-convert {\n",
              "      background-color: #3B4455;\n",
              "      fill: #D2E3FC;\n",
              "    }\n",
              "\n",
              "    [theme=dark] .colab-df-convert:hover {\n",
              "      background-color: #434B5C;\n",
              "      box-shadow: 0px 1px 3px 1px rgba(0, 0, 0, 0.15);\n",
              "      filter: drop-shadow(0px 1px 2px rgba(0, 0, 0, 0.3));\n",
              "      fill: #FFFFFF;\n",
              "    }\n",
              "  </style>\n",
              "\n",
              "      <script>\n",
              "        const buttonEl =\n",
              "          document.querySelector('#df-fedb39f7-7b55-4ac7-a5cb-fef7cc74ec6a button.colab-df-convert');\n",
              "        buttonEl.style.display =\n",
              "          google.colab.kernel.accessAllowed ? 'block' : 'none';\n",
              "\n",
              "        async function convertToInteractive(key) {\n",
              "          const element = document.querySelector('#df-fedb39f7-7b55-4ac7-a5cb-fef7cc74ec6a');\n",
              "          const dataTable =\n",
              "            await google.colab.kernel.invokeFunction('convertToInteractive',\n",
              "                                                     [key], {});\n",
              "          if (!dataTable) return;\n",
              "\n",
              "          const docLinkHtml = 'Like what you see? Visit the ' +\n",
              "            '<a target=\"_blank\" href=https://colab.research.google.com/notebooks/data_table.ipynb>data table notebook</a>'\n",
              "            + ' to learn more about interactive tables.';\n",
              "          element.innerHTML = '';\n",
              "          dataTable['output_type'] = 'display_data';\n",
              "          await google.colab.output.renderOutput(dataTable, element);\n",
              "          const docLink = document.createElement('div');\n",
              "          docLink.innerHTML = docLinkHtml;\n",
              "          element.appendChild(docLink);\n",
              "        }\n",
              "      </script>\n",
              "    </div>\n",
              "  </div>\n",
              "  "
            ]
          },
          "metadata": {},
          "execution_count": 5
        }
      ],
      "source": [
        "df = pd.read_csv(os.path.join(data_path, \"dataset\", \"english.csv\"))\n",
        "df.image = \"/dataset/\" + df.image\n",
        "print(df.shape)\n",
        "df.head()"
      ]
    },
    {
      "cell_type": "code",
      "execution_count": null,
      "metadata": {
        "colab": {
          "base_uri": "https://localhost:8080/",
          "height": 224
        },
        "id": "0pOfU7bT--cu",
        "outputId": "9a177d8b-3514-49f1-d0c5-5fcfd5c576c2"
      },
      "outputs": [
        {
          "output_type": "stream",
          "name": "stdout",
          "text": [
            "(1984, 2)\n"
          ]
        },
        {
          "output_type": "execute_result",
          "data": {
            "text/plain": [
              "                        image label\n",
              "0  /handmade/Img/img-0000.png     h\n",
              "1  /handmade/Img/img-0001.png     h\n",
              "2  /handmade/Img/img-0002.png     h\n",
              "3  /handmade/Img/img-0003.png     h\n",
              "4  /handmade/Img/img-0004.png     h"
            ],
            "text/html": [
              "\n",
              "  <div id=\"df-d86ecbad-4e62-4ad9-af8b-e771355ae2c4\">\n",
              "    <div class=\"colab-df-container\">\n",
              "      <div>\n",
              "<style scoped>\n",
              "    .dataframe tbody tr th:only-of-type {\n",
              "        vertical-align: middle;\n",
              "    }\n",
              "\n",
              "    .dataframe tbody tr th {\n",
              "        vertical-align: top;\n",
              "    }\n",
              "\n",
              "    .dataframe thead th {\n",
              "        text-align: right;\n",
              "    }\n",
              "</style>\n",
              "<table border=\"1\" class=\"dataframe\">\n",
              "  <thead>\n",
              "    <tr style=\"text-align: right;\">\n",
              "      <th></th>\n",
              "      <th>image</th>\n",
              "      <th>label</th>\n",
              "    </tr>\n",
              "  </thead>\n",
              "  <tbody>\n",
              "    <tr>\n",
              "      <th>0</th>\n",
              "      <td>/handmade/Img/img-0000.png</td>\n",
              "      <td>h</td>\n",
              "    </tr>\n",
              "    <tr>\n",
              "      <th>1</th>\n",
              "      <td>/handmade/Img/img-0001.png</td>\n",
              "      <td>h</td>\n",
              "    </tr>\n",
              "    <tr>\n",
              "      <th>2</th>\n",
              "      <td>/handmade/Img/img-0002.png</td>\n",
              "      <td>h</td>\n",
              "    </tr>\n",
              "    <tr>\n",
              "      <th>3</th>\n",
              "      <td>/handmade/Img/img-0003.png</td>\n",
              "      <td>h</td>\n",
              "    </tr>\n",
              "    <tr>\n",
              "      <th>4</th>\n",
              "      <td>/handmade/Img/img-0004.png</td>\n",
              "      <td>h</td>\n",
              "    </tr>\n",
              "  </tbody>\n",
              "</table>\n",
              "</div>\n",
              "      <button class=\"colab-df-convert\" onclick=\"convertToInteractive('df-d86ecbad-4e62-4ad9-af8b-e771355ae2c4')\"\n",
              "              title=\"Convert this dataframe to an interactive table.\"\n",
              "              style=\"display:none;\">\n",
              "        \n",
              "  <svg xmlns=\"http://www.w3.org/2000/svg\" height=\"24px\"viewBox=\"0 0 24 24\"\n",
              "       width=\"24px\">\n",
              "    <path d=\"M0 0h24v24H0V0z\" fill=\"none\"/>\n",
              "    <path d=\"M18.56 5.44l.94 2.06.94-2.06 2.06-.94-2.06-.94-.94-2.06-.94 2.06-2.06.94zm-11 1L8.5 8.5l.94-2.06 2.06-.94-2.06-.94L8.5 2.5l-.94 2.06-2.06.94zm10 10l.94 2.06.94-2.06 2.06-.94-2.06-.94-.94-2.06-.94 2.06-2.06.94z\"/><path d=\"M17.41 7.96l-1.37-1.37c-.4-.4-.92-.59-1.43-.59-.52 0-1.04.2-1.43.59L10.3 9.45l-7.72 7.72c-.78.78-.78 2.05 0 2.83L4 21.41c.39.39.9.59 1.41.59.51 0 1.02-.2 1.41-.59l7.78-7.78 2.81-2.81c.8-.78.8-2.07 0-2.86zM5.41 20L4 18.59l7.72-7.72 1.47 1.35L5.41 20z\"/>\n",
              "  </svg>\n",
              "      </button>\n",
              "      \n",
              "  <style>\n",
              "    .colab-df-container {\n",
              "      display:flex;\n",
              "      flex-wrap:wrap;\n",
              "      gap: 12px;\n",
              "    }\n",
              "\n",
              "    .colab-df-convert {\n",
              "      background-color: #E8F0FE;\n",
              "      border: none;\n",
              "      border-radius: 50%;\n",
              "      cursor: pointer;\n",
              "      display: none;\n",
              "      fill: #1967D2;\n",
              "      height: 32px;\n",
              "      padding: 0 0 0 0;\n",
              "      width: 32px;\n",
              "    }\n",
              "\n",
              "    .colab-df-convert:hover {\n",
              "      background-color: #E2EBFA;\n",
              "      box-shadow: 0px 1px 2px rgba(60, 64, 67, 0.3), 0px 1px 3px 1px rgba(60, 64, 67, 0.15);\n",
              "      fill: #174EA6;\n",
              "    }\n",
              "\n",
              "    [theme=dark] .colab-df-convert {\n",
              "      background-color: #3B4455;\n",
              "      fill: #D2E3FC;\n",
              "    }\n",
              "\n",
              "    [theme=dark] .colab-df-convert:hover {\n",
              "      background-color: #434B5C;\n",
              "      box-shadow: 0px 1px 3px 1px rgba(0, 0, 0, 0.15);\n",
              "      filter: drop-shadow(0px 1px 2px rgba(0, 0, 0, 0.3));\n",
              "      fill: #FFFFFF;\n",
              "    }\n",
              "  </style>\n",
              "\n",
              "      <script>\n",
              "        const buttonEl =\n",
              "          document.querySelector('#df-d86ecbad-4e62-4ad9-af8b-e771355ae2c4 button.colab-df-convert');\n",
              "        buttonEl.style.display =\n",
              "          google.colab.kernel.accessAllowed ? 'block' : 'none';\n",
              "\n",
              "        async function convertToInteractive(key) {\n",
              "          const element = document.querySelector('#df-d86ecbad-4e62-4ad9-af8b-e771355ae2c4');\n",
              "          const dataTable =\n",
              "            await google.colab.kernel.invokeFunction('convertToInteractive',\n",
              "                                                     [key], {});\n",
              "          if (!dataTable) return;\n",
              "\n",
              "          const docLinkHtml = 'Like what you see? Visit the ' +\n",
              "            '<a target=\"_blank\" href=https://colab.research.google.com/notebooks/data_table.ipynb>data table notebook</a>'\n",
              "            + ' to learn more about interactive tables.';\n",
              "          element.innerHTML = '';\n",
              "          dataTable['output_type'] = 'display_data';\n",
              "          await google.colab.output.renderOutput(dataTable, element);\n",
              "          const docLink = document.createElement('div');\n",
              "          docLink.innerHTML = docLinkHtml;\n",
              "          element.appendChild(docLink);\n",
              "        }\n",
              "      </script>\n",
              "    </div>\n",
              "  </div>\n",
              "  "
            ]
          },
          "metadata": {},
          "execution_count": 6
        }
      ],
      "source": [
        "df_handmade = pd.read_csv(os.path.join(data_path, \"handmade\", \"english.csv\"))\n",
        "df_handmade.image = \"/handmade/\" + df_handmade.image\n",
        "print(df_handmade.shape)\n",
        "\n",
        "df_handmade.head()"
      ]
    },
    {
      "cell_type": "code",
      "execution_count": null,
      "metadata": {
        "id": "etuPXTqXYw7Q"
      },
      "outputs": [],
      "source": [
        "def generate_dataset( df):\n",
        "  imgs = []\n",
        "  labels = []\n",
        "  for name, label in tqdm(df.values):\n",
        "    path = data_path + name\n",
        "    img = cv2.imread(path, cv2.IMREAD_GRAYSCALE)\n",
        "    img = cv2.resize(img, (img_width, img_height))\n",
        "    img = img / 255\n",
        "\n",
        "    imgs.append(img)\n",
        "    labels.append(label)\n",
        "\n",
        "  imgs = np.array(imgs)\n",
        "  labels = np.array(labels)\n",
        "  return imgs, labels\n",
        "\n"
      ]
    },
    {
      "cell_type": "code",
      "execution_count": null,
      "metadata": {
        "id": "zdED6GelyYB4"
      },
      "outputs": [],
      "source": [
        "imgs, labels = generate_dataset(df)\n",
        "with open(os.path.join(data_path, \"data_28.pickle\"), 'wb') as f:\n",
        "    pickle.dump((imgs, labels), f)"
      ]
    },
    {
      "cell_type": "code",
      "execution_count": null,
      "metadata": {
        "id": "91h5nc5SzjRZ"
      },
      "outputs": [],
      "source": [
        "imgs_hd, labels_hd = generate_dataset(df_handmade)\n",
        "with open(os.path.join(data_path, \"data_handmade_28.pickle\"), 'wb') as f:\n",
        "    pickle.dump((imgs_hd, labels_hd), f)"
      ]
    },
    {
      "cell_type": "code",
      "execution_count": null,
      "metadata": {
        "id": "zC10eOHT5bG5"
      },
      "outputs": [],
      "source": [
        "with open(os.path.join(data_path, \"data_28.pickle\"), 'rb') as f:\n",
        "    (imgs, labels) = pickle.load(f)\n",
        "\n",
        "with open(os.path.join(data_path, \"data_handmade_28.pickle\"), 'rb') as f:\n",
        "    (imgs_hd, labels_hd) = pickle.load(f)"
      ]
    },
    {
      "cell_type": "code",
      "source": [
        "\n",
        "with open(os.path.join(data_path, \"data.pickle\"), 'rb') as f:\n",
        "    (small_imgs, small_labels) = pickle.load(f)\n",
        "    \n",
        "with open(os.path.join(data_path, \"data_handmade.pickle\"), 'rb') as f:\n",
        "    (small_imgs_hd, small_labels_hd) = pickle.load(f)\n"
      ],
      "metadata": {
        "id": "Pgq7_4wur7Hd"
      },
      "execution_count": null,
      "outputs": []
    },
    {
      "cell_type": "markdown",
      "source": [
        "example of the image and label in both size (28x28 and 23x30)"
      ],
      "metadata": {
        "id": "8rIVXwfdcr6j"
      }
    },
    {
      "cell_type": "code",
      "execution_count": null,
      "metadata": {
        "id": "0zPe5V6E4yYE",
        "colab": {
          "base_uri": "https://localhost:8080/",
          "height": 97
        },
        "outputId": "cde171a5-ac1e-4927-f37a-ef48db605a39"
      },
      "outputs": [
        {
          "output_type": "stream",
          "name": "stdout",
          "text": [
            "label: A \n",
            "\n"
          ]
        },
        {
          "output_type": "display_data",
          "data": {
            "text/plain": [
              "<PIL.Image.Image image mode=L size=28x28 at 0x7F0C0BBBEA90>"
            ],
            "image/png": "[encoded data removed]"
          },
          "metadata": {}
        },
        {
          "output_type": "stream",
          "name": "stdout",
          "text": [
            "(28, 28)\n"
          ]
        }
      ],
      "source": [
        "\n",
        "img_idx = np.random.randint(0, imgs.shape[0])\n",
        "print(f\"label: {labels[img_idx]} \\n\")\n",
        "cv2_imshow(imgs[img_idx] * 255)\n",
        "print(imgs[img_idx].shape)"
      ]
    },
    {
      "cell_type": "code",
      "source": [
        "img_idx = np.random.randint(0,  small_imgs.shape[0])\n",
        "print(f\"label: {small_labels_hd[img_idx]} \\n\")\n",
        "cv2_imshow(small_imgs_hd[img_idx] * 255)\n",
        "print(small_imgs_hd[img_idx].shape)"
      ],
      "metadata": {
        "colab": {
          "base_uri": "https://localhost:8080/",
          "height": 92
        },
        "id": "rzcS6DzCsCnR",
        "outputId": "b52c8966-6025-40f3-fc1d-aeecab369224"
      },
      "execution_count": null,
      "outputs": [
        {
          "output_type": "stream",
          "name": "stdout",
          "text": [
            "label: J \n",
            "\n"
          ]
        },
        {
          "output_type": "display_data",
          "data": {
            "text/plain": [
              "<PIL.Image.Image image mode=L size=30x23 at 0x7F0C0BB754D0>"
            ],
            "image/png": "[encoded data removed]"
          },
          "metadata": {}
        },
        {
          "output_type": "stream",
          "name": "stdout",
          "text": [
            "(23, 30)\n"
          ]
        }
      ]
    },
    {
      "cell_type": "markdown",
      "source": [
        "We cannot directly predict the alphanumeric label but we need first to map it to an integer number."
      ],
      "metadata": {
        "id": "T_zUyADLc7mL"
      }
    },
    {
      "cell_type": "code",
      "execution_count": null,
      "metadata": {
        "id": "UvsIYPVBcOxo"
      },
      "outputs": [],
      "source": [
        "label_to_index_mapping = {x: i for i, x in enumerate(np.unique(labels))}\n",
        "index_to_labels_mapping = { i:x for i,x in enumerate(np.unique(labels))}\n",
        "labels_index = np.array([label_to_index_mapping[label] for label in labels])\n",
        "labels_index_hd = np.array([label_to_index_mapping[label] for label in labels_hd])"
      ]
    },
    {
      "cell_type": "code",
      "source": [
        "small_labels_index = np.array([label_to_index_mapping[label] for label in small_labels])\n",
        "small_labels_index_hd = np.array([label_to_index_mapping[label] for label in small_labels_hd])"
      ],
      "metadata": {
        "id": "NcMdmJi8sQ-M"
      },
      "execution_count": null,
      "outputs": []
    },
    {
      "cell_type": "code",
      "source": [
        "label_to_index_mapping"
      ],
      "metadata": {
        "id": "vpDZqsFGObt8",
        "colab": {
          "base_uri": "https://localhost:8080/"
        },
        "outputId": "f5d1eccb-420c-4d8a-c7d3-990090195d1b"
      },
      "execution_count": null,
      "outputs": [
        {
          "output_type": "execute_result",
          "data": {
            "text/plain": [
              "{'0': 0,\n",
              " '1': 1,\n",
              " '2': 2,\n",
              " '3': 3,\n",
              " '4': 4,\n",
              " '5': 5,\n",
              " '6': 6,\n",
              " '7': 7,\n",
              " '8': 8,\n",
              " '9': 9,\n",
              " 'A': 10,\n",
              " 'B': 11,\n",
              " 'C': 12,\n",
              " 'D': 13,\n",
              " 'E': 14,\n",
              " 'F': 15,\n",
              " 'G': 16,\n",
              " 'H': 17,\n",
              " 'I': 18,\n",
              " 'J': 19,\n",
              " 'K': 20,\n",
              " 'L': 21,\n",
              " 'M': 22,\n",
              " 'N': 23,\n",
              " 'O': 24,\n",
              " 'P': 25,\n",
              " 'Q': 26,\n",
              " 'R': 27,\n",
              " 'S': 28,\n",
              " 'T': 29,\n",
              " 'U': 30,\n",
              " 'V': 31,\n",
              " 'W': 32,\n",
              " 'X': 33,\n",
              " 'Y': 34,\n",
              " 'Z': 35,\n",
              " 'a': 36,\n",
              " 'b': 37,\n",
              " 'c': 38,\n",
              " 'd': 39,\n",
              " 'e': 40,\n",
              " 'f': 41,\n",
              " 'g': 42,\n",
              " 'h': 43,\n",
              " 'i': 44,\n",
              " 'j': 45,\n",
              " 'k': 46,\n",
              " 'l': 47,\n",
              " 'm': 48,\n",
              " 'n': 49,\n",
              " 'o': 50,\n",
              " 'p': 51,\n",
              " 'q': 52,\n",
              " 'r': 53,\n",
              " 's': 54,\n",
              " 't': 55,\n",
              " 'u': 56,\n",
              " 'v': 57,\n",
              " 'w': 58,\n",
              " 'x': 59,\n",
              " 'y': 60,\n",
              " 'z': 61}"
            ]
          },
          "metadata": {},
          "execution_count": 17
        }
      ]
    },
    {
      "cell_type": "code",
      "execution_count": null,
      "metadata": {
        "id": "0zHEeRZIG8OU"
      },
      "outputs": [],
      "source": [
        "imgs_concat = np.concatenate([imgs, imgs_hd])\n",
        "labels_concat = np.concatenate([labels_index, labels_index_hd])\n",
        "\n",
        "small_imgs_concat = np.concatenate([small_imgs, small_imgs_hd])\n",
        "small_labels_concat = np.concatenate([small_labels_index, small_labels_index_hd])"
      ]
    },
    {
      "cell_type": "markdown",
      "source": [
        "### 2.1. Train test split"
      ],
      "metadata": {
        "id": "Fo67DPaor1XU"
      }
    },
    {
      "cell_type": "markdown",
      "source": [
        "we split the dataset in train validation and test set."
      ],
      "metadata": {
        "id": "pKtzcotOdVft"
      }
    },
    {
      "cell_type": "code",
      "execution_count": null,
      "metadata": {
        "id": "kpOFO7-g21_z"
      },
      "outputs": [],
      "source": [
        "def train_test_split(data, train_size):\n",
        "  imgs, labels = data\n",
        "  X_train = []\n",
        "  y_train = []\n",
        "  X_test = []\n",
        "  y_test = []\n",
        "  indexes = np.argsort(labels)\n",
        "  for group in tqdm(np.split(indexes, N_CLASSES)):\n",
        "    np.random.shuffle(group)\n",
        "    X_train.extend(imgs[group[:train_size]])\n",
        "    y_train.extend(labels[group[:train_size]])\n",
        "\n",
        "    X_test.extend(imgs[group[train_size:]])\n",
        "    y_test.extend(labels[group[train_size:]])\n",
        "\n",
        "  return np.array(X_train), np.array(X_test), np.array(y_train), np.array(y_test)"
      ]
    },
    {
      "cell_type": "markdown",
      "source": [
        "#### train test split 28x28 images"
      ],
      "metadata": {
        "id": "BQ3J9BlXRrvN"
      }
    },
    {
      "cell_type": "code",
      "execution_count": null,
      "metadata": {
        "id": "11Dp_0x7h55M",
        "colab": {
          "base_uri": "https://localhost:8080/"
        },
        "outputId": "1245a757-acfa-444b-ae21-d878e7387195"
      },
      "outputs": [
        {
          "output_type": "stream",
          "name": "stderr",
          "text": [
            "100%|██████████| 62/62 [00:00<00:00, 3027.99it/s]\n",
            "100%|██████████| 62/62 [00:00<00:00, 4589.60it/s]"
          ]
        },
        {
          "output_type": "stream",
          "name": "stdout",
          "text": [
            "\n",
            "\n",
            "train size: 2914, val size: 310, test size: 186\n"
          ]
        },
        {
          "output_type": "stream",
          "name": "stderr",
          "text": [
            "\n"
          ]
        }
      ],
      "source": [
        "\n",
        "train_size = round(55 * .95)\n",
        "\n",
        "X_train, X_test, y_train, y_test = train_test_split((imgs, labels_index), train_size)\n",
        "X_train, X_val, y_train, y_val = train_test_split((X_train, y_train), round(55 * .85))\n",
        "print(f\"\\n\\ntrain size: {X_train.shape[0]}, val size: {X_val.shape[0]}, test size: {X_test.shape[0]}\")"
      ]
    },
    {
      "cell_type": "code",
      "execution_count": null,
      "metadata": {
        "id": "GB-70U7p7UmU",
        "colab": {
          "base_uri": "https://localhost:8080/"
        },
        "outputId": "ac811357-a2b5-4778-de37-8443f3b970f3"
      },
      "outputs": [
        {
          "output_type": "stream",
          "name": "stderr",
          "text": [
            "100%|██████████| 62/62 [00:00<00:00, 8997.85it/s]\n",
            "100%|██████████| 62/62 [00:00<00:00, 6653.54it/s]"
          ]
        },
        {
          "output_type": "stream",
          "name": "stdout",
          "text": [
            "\n",
            "\n",
            "train size: 1674, val size: 186, test size: 124\n"
          ]
        },
        {
          "output_type": "stream",
          "name": "stderr",
          "text": [
            "\n"
          ]
        }
      ],
      "source": [
        "train_size = round(32 * .95)\n",
        "\n",
        "X_train_hd, X_test_hd, y_train_hd, y_test_hd = train_test_split((imgs_hd, labels_index_hd), train_size)\n",
        "X_train_hd, X_val_hd, y_train_hd, y_val_hd = train_test_split((X_train_hd, y_train_hd), round(32 * .85))\n",
        "print(f\"\\n\\ntrain size: {X_train_hd.shape[0]}, val size: {X_val_hd.shape[0]}, test size: {X_test_hd.shape[0]}\")\n"
      ]
    },
    {
      "cell_type": "code",
      "execution_count": null,
      "metadata": {
        "id": "rwYCZZRYKFOG",
        "colab": {
          "base_uri": "https://localhost:8080/"
        },
        "outputId": "beb3ddee-a393-44c8-b7a0-3b547495209b"
      },
      "outputs": [
        {
          "output_type": "stream",
          "name": "stderr",
          "text": [
            "100%|██████████| 62/62 [00:00<00:00, 2598.47it/s]\n",
            "100%|██████████| 62/62 [00:00<00:00, 3889.48it/s]\n"
          ]
        },
        {
          "output_type": "stream",
          "name": "stdout",
          "text": [
            "\n",
            "\n",
            "train size: 4588, val size: 558, test size: 248\n"
          ]
        }
      ],
      "source": [
        "train_size = round(87 * .95)\n",
        "\n",
        "X_train_concat, X_test_concat, y_train_concat, y_test_concat = train_test_split((imgs_concat, labels_concat), train_size)\n",
        "X_train_concat, X_val_concat, y_train_concat, y_val_concat = train_test_split((X_train_concat, y_train_concat), round(87 * .85))\n",
        "\n",
        "print(f\"\\n\\ntrain size: {X_train_concat.shape[0]}, val size: {X_val_concat.shape[0]}, test size: {X_test_concat.shape[0]}\")\n"
      ]
    },
    {
      "cell_type": "markdown",
      "source": [
        "#### train test split 23x30  images"
      ],
      "metadata": {
        "id": "MZB2nWkERj96"
      }
    },
    {
      "cell_type": "code",
      "source": [
        "train_size = round(32 * .95)\n",
        "\n",
        "small_X_train, small_X_test, small_y_train, small_y_test = train_test_split((small_imgs, small_labels_index), train_size)\n",
        "small_X_train, small_X_val, small_y_train, small_y_val = train_test_split((small_X_train, small_y_train), round(32 * .85))\n",
        "print(f\"\\n\\ntrain size: {small_X_train.shape[0]}, val size: {small_X_val.shape[0]}, test size: {small_X_test.shape[0]}\")\n"
      ],
      "metadata": {
        "id": "0nVJTXeSHhKi",
        "colab": {
          "base_uri": "https://localhost:8080/"
        },
        "outputId": "054b90b6-64ae-4640-faf9-a04f1575f03a"
      },
      "execution_count": null,
      "outputs": [
        {
          "output_type": "stream",
          "name": "stderr",
          "text": [
            "100%|██████████| 62/62 [00:00<00:00, 4043.02it/s]\n",
            "100%|██████████| 62/62 [00:00<00:00, 9040.39it/s]\n"
          ]
        },
        {
          "output_type": "stream",
          "name": "stdout",
          "text": [
            "\n",
            "\n",
            "train size: 1674, val size: 186, test size: 1550\n"
          ]
        }
      ]
    },
    {
      "cell_type": "code",
      "source": [
        "train_size = round(32 * .95)\n",
        "\n",
        "small_X_train_hd, small_X_test_hd, small_y_train_hd, small_y_test_hd = train_test_split((small_imgs_hd, small_labels_index_hd), train_size)\n",
        "small_X_train_hd, small_X_val_hd, small_y_train_hd, small_y_val_hd = train_test_split((small_X_train_hd, small_y_train_hd), round(32 * .85))\n",
        "print(f\"\\n\\ntrain size: {small_X_train_hd.shape[0]}, val size: {small_X_val_hd.shape[0]}, test size: {small_X_test_hd.shape[0]}\")\n"
      ],
      "metadata": {
        "colab": {
          "base_uri": "https://localhost:8080/"
        },
        "id": "UJr_D09lsYmR",
        "outputId": "d9f04b80-fa02-417e-f232-af9160d2e8fa"
      },
      "execution_count": null,
      "outputs": [
        {
          "output_type": "stream",
          "name": "stderr",
          "text": [
            "100%|██████████| 62/62 [00:00<00:00, 5062.33it/s]\n",
            "100%|██████████| 62/62 [00:00<00:00, 9749.81it/s]"
          ]
        },
        {
          "output_type": "stream",
          "name": "stdout",
          "text": [
            "\n",
            "\n",
            "train size: 1674, val size: 186, test size: 124\n"
          ]
        },
        {
          "output_type": "stream",
          "name": "stderr",
          "text": [
            "\n"
          ]
        }
      ]
    },
    {
      "cell_type": "code",
      "source": [
        "train_size = round(87 * .95)\n",
        "\n",
        "small_X_train_concat, small_X_test_concat, small_y_train_concat, small_y_test_concat = train_test_split((small_imgs_concat, small_labels_concat), train_size)\n",
        "small_X_train_concat, small_X_val_concat, small_y_train_concat, small_y_val_concat = train_test_split((small_X_train_concat, small_y_train_concat), round(87 * .85))\n",
        "\n",
        "print(f\"\\n\\ntrain size: {small_X_train_concat.shape[0]}, val size: {small_X_val_concat.shape[0]}, test size: {small_X_test_concat.shape[0]}\")"
      ],
      "metadata": {
        "colab": {
          "base_uri": "https://localhost:8080/"
        },
        "id": "ek9UPTA3H0h4",
        "outputId": "ee5c298f-1a22-43c3-d224-5ed9d7b6e69f"
      },
      "execution_count": null,
      "outputs": [
        {
          "output_type": "stream",
          "name": "stderr",
          "text": [
            "100%|██████████| 62/62 [00:00<00:00, 4359.18it/s]\n",
            "100%|██████████| 62/62 [00:00<00:00, 3968.12it/s]\n"
          ]
        },
        {
          "output_type": "stream",
          "name": "stdout",
          "text": [
            "\n",
            "\n",
            "train size: 4588, val size: 558, test size: 248\n"
          ]
        }
      ]
    },
    {
      "cell_type": "markdown",
      "metadata": {
        "id": "EzQpoEkmUDsG"
      },
      "source": [
        "## 3. Create the model"
      ]
    },
    {
      "cell_type": "markdown",
      "source": [
        "Since we are restricted from the hardware capacity of the device we cannot use a complex model. So we rely on the lenet5 model and on a modified version."
      ],
      "metadata": {
        "id": "lSEXf839deIP"
      }
    },
    {
      "cell_type": "markdown",
      "source": [
        "### 3.1 lenet5 model"
      ],
      "metadata": {
        "id": "sbKYVsA1U7AA"
      }
    },
    {
      "cell_type": "code",
      "source": [
        "def lenet5():\n",
        "  lenet5 = Sequential()\n",
        "  lenet5.add(Reshape((img_height, img_width, 1), input_shape=(img_height, img_width))) # inpust shape 28x28\n",
        "\n",
        "  lenet5.add(Conv2D(filters=6, kernel_size=(5,5),  padding = 'same', activation='tanh' ))\n",
        "  lenet5.add(AveragePooling2D())\n",
        "  lenet5.add(Conv2D(filters=16, kernel_size=(5,5), activation='tanh', padding='valid'))\n",
        "\n",
        "\n",
        "  lenet5.add(AveragePooling2D())\n",
        "  lenet5.add(Conv2D(filters=120, kernel_size=(5,5),activation =\"tanh\", padding='valid'))\n",
        "  lenet5.add(Flatten())\n",
        "  lenet5.add(Dense(84,activation =\"relu\"))\n",
        "  lenet5.add(tf.keras.layers.Dropout(.4))\n",
        "  lenet5.add(Dense(N_CLASSES,activation =\"softmax\"))\n",
        "  lenet5.compile(optimizer='adam',\n",
        "              loss= SparseCategoricalCrossentropy(),\n",
        "              metrics=['accuracy'])\n",
        "  \n",
        "  return lenet5\n",
        "\n",
        "# trained on the main dataset\n",
        "model_lenet5 = lenet5()\n",
        "# trained on the handcrafted dataset\n",
        "model_lenet5_hd = lenet5()\n",
        "# trained on the concatenation of both dataset\n",
        "model_lenet5_concat = lenet5()\n",
        "\n",
        "model_lenet5.summary()"
      ],
      "metadata": {
        "colab": {
          "base_uri": "https://localhost:8080/"
        },
        "id": "HGXXGgxWpzKF",
        "outputId": "00100943-87c8-46c2-bd7e-9a0b235e93e4"
      },
      "execution_count": null,
      "outputs": [
        {
          "output_type": "stream",
          "name": "stdout",
          "text": [
            "Model: \"sequential\"\n",
            "_________________________________________________________________\n",
            " Layer (type)                Output Shape              Param #   \n",
            "=================================================================\n",
            " reshape (Reshape)           (None, 28, 28, 1)         0         \n",
            "                                                                 \n",
            " conv2d (Conv2D)             (None, 28, 28, 6)         156       \n",
            "                                                                 \n",
            " average_pooling2d (AverageP  (None, 14, 14, 6)        0         \n",
            " ooling2D)                                                       \n",
            "                                                                 \n",
            " conv2d_1 (Conv2D)           (None, 10, 10, 16)        2416      \n",
            "                                                                 \n",
            " average_pooling2d_1 (Averag  (None, 5, 5, 16)         0         \n",
            " ePooling2D)                                                     \n",
            "                                                                 \n",
            " conv2d_2 (Conv2D)           (None, 1, 1, 120)         48120     \n",
            "                                                                 \n",
            " flatten (Flatten)           (None, 120)               0         \n",
            "                                                                 \n",
            " dense (Dense)               (None, 84)                10164     \n",
            "                                                                 \n",
            " dropout (Dropout)           (None, 84)                0         \n",
            "                                                                 \n",
            " dense_1 (Dense)             (None, 62)                5270      \n",
            "                                                                 \n",
            "=================================================================\n",
            "Total params: 66,126\n",
            "Trainable params: 66,126\n",
            "Non-trainable params: 0\n",
            "_________________________________________________________________\n"
          ]
        }
      ]
    },
    {
      "cell_type": "code",
      "source": [
        "tf.keras.utils.plot_model(model_lenet5, show_shapes=True,)"
      ],
      "metadata": {
        "id": "lgeTEMpBVKaQ",
        "colab": {
          "base_uri": "https://localhost:8080/",
          "height": 1000
        },
        "outputId": "10458e89-7ec8-4de2-de08-51eaf892ccae"
      },
      "execution_count": null,
      "outputs": [
        {
          "output_type": "execute_result",
          "data": {
            "image/png": "[encoded data removed]",
            "text/plain": [
              "<IPython.core.display.Image object>"
            ]
          },
          "metadata": {},
          "execution_count": 27
        }
      ]
    },
    {
      "cell_type": "markdown",
      "source": [
        "## 3.2 modified lenet5"
      ],
      "metadata": {
        "id": "Lhi6qwRdVBLg"
      }
    },
    {
      "cell_type": "code",
      "execution_count": null,
      "metadata": {
        "id": "JOGDZkAptB7_",
        "colab": {
          "base_uri": "https://localhost:8080/"
        },
        "outputId": "936be516-2f76-455a-dd33-0c3ebd5ed44e"
      },
      "outputs": [
        {
          "output_type": "stream",
          "name": "stdout",
          "text": [
            "Model: \"sequential_4\"\n",
            "_________________________________________________________________\n",
            " Layer (type)                Output Shape              Param #   \n",
            "=================================================================\n",
            " reshape_4 (Reshape)         (None, 23, 30, 1)         0         \n",
            "                                                                 \n",
            " conv2d_11 (Conv2D)          (None, 23, 30, 6)         156       \n",
            "                                                                 \n",
            " average_pooling2d_8 (Averag  (None, 11, 15, 6)        0         \n",
            " ePooling2D)                                                     \n",
            "                                                                 \n",
            " conv2d_12 (Conv2D)          (None, 7, 11, 16)         2416      \n",
            "                                                                 \n",
            " average_pooling2d_9 (Averag  (None, 3, 5, 16)         0         \n",
            " ePooling2D)                                                     \n",
            "                                                                 \n",
            " flatten_4 (Flatten)         (None, 240)               0         \n",
            "                                                                 \n",
            " dense_8 (Dense)             (None, 256)               61696     \n",
            "                                                                 \n",
            " dropout_4 (Dropout)         (None, 256)               0         \n",
            "                                                                 \n",
            " dense_9 (Dense)             (None, 62)                15934     \n",
            "                                                                 \n",
            "=================================================================\n",
            "Total params: 80,202\n",
            "Trainable params: 80,202\n",
            "Non-trainable params: 0\n",
            "_________________________________________________________________\n"
          ]
        }
      ],
      "source": [
        "def modified_lenet():\n",
        "  modified_lenet = Sequential()\n",
        "  modified_lenet.add(Reshape((23, 30, 1), input_shape=(23, 30))) # input shape 23x30\n",
        "\n",
        "  modified_lenet.add(Conv2D(filters=6, kernel_size=(5,5),  padding = 'same', activation='tanh' ))\n",
        "  modified_lenet.add(AveragePooling2D())\n",
        "  modified_lenet.add(Conv2D(filters=16, kernel_size=(5,5), activation='tanh', padding='valid'))\n",
        "  modified_lenet.add(AveragePooling2D())\n",
        "  modified_lenet.add(Flatten())\n",
        "  modified_lenet.add(Dense(256, activation =\"relu\"))\n",
        "  modified_lenet.add(tf.keras.layers.Dropout(.4))\n",
        "  modified_lenet.add(Dense(N_CLASSES,activation =\"softmax\"))\n",
        "\n",
        "  modified_lenet.compile(optimizer='adam',\n",
        "              loss= SparseCategoricalCrossentropy(),\n",
        "              metrics=['accuracy'])\n",
        "  return modified_lenet\n",
        "\n",
        "# trained on the main dataset\n",
        "modified_model_lenet5 = modified_lenet()\n",
        "# trained on the handcrafted dataset\n",
        "modified_model_lenet5_hd = modified_lenet()\n",
        "# trained on the concatenation of both dataset\n",
        "modified_model_lenet5_concat = modified_lenet()\n",
        "modified_model_lenet5_hd.summary()"
      ]
    },
    {
      "cell_type": "code",
      "source": [
        "tf.keras.utils.plot_model(modified_model_lenet5, show_shapes=True,)"
      ],
      "metadata": {
        "colab": {
          "base_uri": "https://localhost:8080/",
          "height": 1000
        },
        "id": "rCrsiQzZRhVN",
        "outputId": "49e6055f-a50c-460b-e644-326d68a63066"
      },
      "execution_count": null,
      "outputs": [
        {
          "output_type": "execute_result",
          "data": {
            "image/png": "[encoded data removed]",
            "text/plain": [
              "<IPython.core.display.Image object>"
            ]
          },
          "metadata": {},
          "execution_count": 29
        }
      ]
    },
    {
      "cell_type": "markdown",
      "source": [
        "## 4. Train the model"
      ],
      "metadata": {
        "id": "8gx8k34gqHp0"
      }
    },
    {
      "cell_type": "markdown",
      "source": [
        "we train a different model for each dataset for 100 epochs on batch of size 32 elements. We apply an early stopping callback on the validation loss to avoid overfitting  the model. "
      ],
      "metadata": {
        "id": "achB3OPheD3H"
      }
    },
    {
      "cell_type": "markdown",
      "source": [
        "#### train on 28x28 dataset and original lenet5 model"
      ],
      "metadata": {
        "id": "7T3ZtmjNR7-J"
      }
    },
    {
      "cell_type": "code",
      "execution_count": null,
      "metadata": {
        "id": "q0h_zm_ETozK",
        "colab": {
          "base_uri": "https://localhost:8080/"
        },
        "outputId": "40f72c38-88ed-44f8-b708-d8e6cdebda63"
      },
      "outputs": [
        {
          "output_type": "stream",
          "name": "stdout",
          "text": [
            "Epoch 1/100\n",
            "92/92 [==============================] - 3s 25ms/step - loss: 4.1227 - accuracy: 0.0209 - val_loss: 4.0728 - val_accuracy: 0.0742\n",
            "Epoch 2/100\n",
            "92/92 [==============================] - 2s 23ms/step - loss: 3.8730 - accuracy: 0.0721 - val_loss: 3.5239 - val_accuracy: 0.1548\n",
            "Epoch 3/100\n",
            "92/92 [==============================] - 2s 23ms/step - loss: 3.4158 - accuracy: 0.1407 - val_loss: 3.1645 - val_accuracy: 0.2548\n",
            "Epoch 4/100\n",
            "92/92 [==============================] - 2s 23ms/step - loss: 3.0868 - accuracy: 0.2025 - val_loss: 2.9243 - val_accuracy: 0.2871\n",
            "Epoch 5/100\n",
            "92/92 [==============================] - 2s 23ms/step - loss: 2.8884 - accuracy: 0.2392 - val_loss: 2.7403 - val_accuracy: 0.3452\n",
            "Epoch 6/100\n",
            "92/92 [==============================] - 2s 23ms/step - loss: 2.6957 - accuracy: 0.2701 - val_loss: 2.6465 - val_accuracy: 0.3452\n",
            "Epoch 7/100\n",
            "92/92 [==============================] - 2s 23ms/step - loss: 2.5282 - accuracy: 0.3123 - val_loss: 2.5262 - val_accuracy: 0.3548\n",
            "Epoch 8/100\n",
            "92/92 [==============================] - 2s 23ms/step - loss: 2.4577 - accuracy: 0.3229 - val_loss: 2.4540 - val_accuracy: 0.3677\n",
            "Epoch 9/100\n",
            "92/92 [==============================] - 2s 23ms/step - loss: 2.3364 - accuracy: 0.3620 - val_loss: 2.3704 - val_accuracy: 0.3935\n",
            "Epoch 10/100\n",
            "92/92 [==============================] - 2s 23ms/step - loss: 2.2415 - accuracy: 0.3816 - val_loss: 2.3182 - val_accuracy: 0.4097\n",
            "Epoch 11/100\n",
            "92/92 [==============================] - 2s 23ms/step - loss: 2.1541 - accuracy: 0.3998 - val_loss: 2.2651 - val_accuracy: 0.4290\n",
            "Epoch 12/100\n",
            "92/92 [==============================] - 2s 23ms/step - loss: 2.0717 - accuracy: 0.4170 - val_loss: 2.2134 - val_accuracy: 0.4516\n",
            "Epoch 13/100\n",
            "92/92 [==============================] - 2s 23ms/step - loss: 1.9686 - accuracy: 0.4444 - val_loss: 2.1507 - val_accuracy: 0.4548\n",
            "Epoch 14/100\n",
            "92/92 [==============================] - 2s 23ms/step - loss: 1.9199 - accuracy: 0.4465 - val_loss: 2.1259 - val_accuracy: 0.4645\n",
            "Epoch 15/100\n",
            "92/92 [==============================] - 2s 23ms/step - loss: 1.8658 - accuracy: 0.4647 - val_loss: 2.0745 - val_accuracy: 0.4516\n",
            "Epoch 16/100\n",
            "92/92 [==============================] - 2s 23ms/step - loss: 1.8074 - accuracy: 0.4749 - val_loss: 2.0399 - val_accuracy: 0.4677\n",
            "Epoch 17/100\n",
            "92/92 [==============================] - 2s 23ms/step - loss: 1.7532 - accuracy: 0.4945 - val_loss: 2.0282 - val_accuracy: 0.4677\n",
            "Epoch 18/100\n",
            "92/92 [==============================] - 3s 36ms/step - loss: 1.6854 - accuracy: 0.5069 - val_loss: 1.9874 - val_accuracy: 0.4516\n",
            "Epoch 19/100\n",
            "92/92 [==============================] - 3s 31ms/step - loss: 1.6395 - accuracy: 0.5144 - val_loss: 1.9427 - val_accuracy: 0.5000\n",
            "Epoch 20/100\n",
            "92/92 [==============================] - 2s 23ms/step - loss: 1.5773 - accuracy: 0.5295 - val_loss: 1.9344 - val_accuracy: 0.4871\n",
            "Epoch 21/100\n",
            "92/92 [==============================] - 2s 23ms/step - loss: 1.5287 - accuracy: 0.5577 - val_loss: 1.9371 - val_accuracy: 0.5065\n",
            "Epoch 22/100\n",
            "92/92 [==============================] - 2s 22ms/step - loss: 1.4781 - accuracy: 0.5628 - val_loss: 1.8896 - val_accuracy: 0.5129\n",
            "Epoch 23/100\n",
            "92/92 [==============================] - 2s 22ms/step - loss: 1.4214 - accuracy: 0.5762 - val_loss: 1.8512 - val_accuracy: 0.5452\n",
            "Epoch 24/100\n",
            "92/92 [==============================] - 2s 22ms/step - loss: 1.4172 - accuracy: 0.5721 - val_loss: 1.8687 - val_accuracy: 0.5161\n",
            "Epoch 25/100\n",
            "92/92 [==============================] - 2s 21ms/step - loss: 1.3745 - accuracy: 0.5762 - val_loss: 1.8750 - val_accuracy: 0.5161\n",
            "Epoch 26/100\n",
            "92/92 [==============================] - 2s 22ms/step - loss: 1.3238 - accuracy: 0.5961 - val_loss: 1.8347 - val_accuracy: 0.5323\n",
            "Epoch 27/100\n",
            "92/92 [==============================] - 2s 21ms/step - loss: 1.2786 - accuracy: 0.6108 - val_loss: 1.8228 - val_accuracy: 0.5194\n",
            "Epoch 28/100\n",
            "92/92 [==============================] - 2s 22ms/step - loss: 1.2460 - accuracy: 0.6181 - val_loss: 1.7883 - val_accuracy: 0.5161\n",
            "Epoch 29/100\n",
            "92/92 [==============================] - 2s 22ms/step - loss: 1.1951 - accuracy: 0.6325 - val_loss: 1.7730 - val_accuracy: 0.5452\n",
            "Epoch 30/100\n",
            "92/92 [==============================] - 2s 22ms/step - loss: 1.1682 - accuracy: 0.6386 - val_loss: 1.7623 - val_accuracy: 0.5484\n",
            "Epoch 31/100\n",
            "92/92 [==============================] - 2s 23ms/step - loss: 1.1263 - accuracy: 0.6493 - val_loss: 1.7363 - val_accuracy: 0.5613\n",
            "Epoch 32/100\n",
            "92/92 [==============================] - 2s 22ms/step - loss: 1.1030 - accuracy: 0.6592 - val_loss: 1.7176 - val_accuracy: 0.5548\n",
            "Epoch 33/100\n",
            "92/92 [==============================] - 2s 23ms/step - loss: 1.0698 - accuracy: 0.6661 - val_loss: 1.7212 - val_accuracy: 0.5742\n",
            "Epoch 34/100\n",
            "92/92 [==============================] - 2s 24ms/step - loss: 1.0354 - accuracy: 0.6750 - val_loss: 1.7376 - val_accuracy: 0.5484\n",
            "Epoch 35/100\n",
            "92/92 [==============================] - 4s 48ms/step - loss: 1.0287 - accuracy: 0.6881 - val_loss: 1.7325 - val_accuracy: 0.5419\n",
            "Epoch 36/100\n",
            "92/92 [==============================] - 4s 43ms/step - loss: 1.0017 - accuracy: 0.6839 - val_loss: 1.7165 - val_accuracy: 0.5516\n",
            "Epoch 37/100\n",
            "92/92 [==============================] - 2s 23ms/step - loss: 0.9640 - accuracy: 0.6881 - val_loss: 1.7132 - val_accuracy: 0.5806\n",
            "Epoch 38/100\n",
            "92/92 [==============================] - 2s 23ms/step - loss: 0.9187 - accuracy: 0.7042 - val_loss: 1.7325 - val_accuracy: 0.5871\n",
            "Epoch 39/100\n",
            "92/92 [==============================] - 2s 23ms/step - loss: 0.8867 - accuracy: 0.7124 - val_loss: 1.7596 - val_accuracy: 0.5710\n",
            "Epoch 40/100\n",
            "92/92 [==============================] - 2s 23ms/step - loss: 0.8981 - accuracy: 0.7052 - val_loss: 1.6904 - val_accuracy: 0.5613\n",
            "Epoch 41/100\n",
            "92/92 [==============================] - 2s 24ms/step - loss: 0.8652 - accuracy: 0.7213 - val_loss: 1.7017 - val_accuracy: 0.5839\n",
            "Epoch 42/100\n",
            "92/92 [==============================] - 2s 23ms/step - loss: 0.8182 - accuracy: 0.7378 - val_loss: 1.7007 - val_accuracy: 0.5839\n",
            "Epoch 43/100\n",
            "92/92 [==============================] - 2s 24ms/step - loss: 0.8089 - accuracy: 0.7388 - val_loss: 1.7023 - val_accuracy: 0.5806\n",
            "Epoch 44/100\n",
            "92/92 [==============================] - 2s 23ms/step - loss: 0.8109 - accuracy: 0.7423 - val_loss: 1.7271 - val_accuracy: 0.5839\n",
            "Epoch 45/100\n",
            "92/92 [==============================] - 2s 24ms/step - loss: 0.7615 - accuracy: 0.7485 - val_loss: 1.6814 - val_accuracy: 0.5710\n",
            "Epoch 46/100\n",
            "92/92 [==============================] - 2s 23ms/step - loss: 0.7719 - accuracy: 0.7498 - val_loss: 1.7372 - val_accuracy: 0.5742\n",
            "Epoch 47/100\n",
            "92/92 [==============================] - 2s 23ms/step - loss: 0.7309 - accuracy: 0.7550 - val_loss: 1.7736 - val_accuracy: 0.5774\n",
            "Epoch 48/100\n",
            "92/92 [==============================] - 2s 23ms/step - loss: 0.7369 - accuracy: 0.7522 - val_loss: 1.7531 - val_accuracy: 0.5581\n",
            "Epoch 49/100\n",
            "92/92 [==============================] - 2s 23ms/step - loss: 0.6981 - accuracy: 0.7759 - val_loss: 1.7281 - val_accuracy: 0.5806\n",
            "Epoch 50/100\n",
            "92/92 [==============================] - 2s 24ms/step - loss: 0.6677 - accuracy: 0.7793 - val_loss: 1.7759 - val_accuracy: 0.5645\n",
            "Epoch 51/100\n",
            "92/92 [==============================] - 2s 24ms/step - loss: 0.6613 - accuracy: 0.7835 - val_loss: 1.7226 - val_accuracy: 0.5645\n",
            "Epoch 52/100\n",
            "92/92 [==============================] - 2s 23ms/step - loss: 0.6520 - accuracy: 0.7896 - val_loss: 1.7176 - val_accuracy: 0.5645\n",
            "Epoch 53/100\n",
            "92/92 [==============================] - 2s 23ms/step - loss: 0.6229 - accuracy: 0.8003 - val_loss: 1.8123 - val_accuracy: 0.5742\n",
            "Epoch 54/100\n",
            "92/92 [==============================] - 2s 23ms/step - loss: 0.6395 - accuracy: 0.7800 - val_loss: 1.7666 - val_accuracy: 0.5677\n",
            "Epoch 55/100\n",
            "92/92 [==============================] - 2s 23ms/step - loss: 0.5992 - accuracy: 0.8030 - val_loss: 1.7581 - val_accuracy: 0.5742\n"
          ]
        }
      ],
      "source": [
        "callback = tf.keras.callbacks.EarlyStopping(monitor='val_loss', patience=10, restore_best_weights=True)\n",
        "\n",
        "history = model_lenet5.fit(X_train, y_train, validation_data = (X_val, y_val), epochs=EPOCHS, batch_size=BATCH_SIZE,callbacks=[callback])"
      ]
    },
    {
      "cell_type": "code",
      "source": [
        "history = model_lenet5_hd.fit(X_train_hd, y_train_hd, validation_data = (X_val_hd, y_val_hd), epochs=EPOCHS, batch_size=BATCH_SIZE,callbacks=[callback])"
      ],
      "metadata": {
        "colab": {
          "base_uri": "https://localhost:8080/"
        },
        "id": "lQ9lfV1GsWHm",
        "outputId": "ad96f908-7d8d-4a8b-803d-b25023571368"
      },
      "execution_count": null,
      "outputs": [
        {
          "output_type": "stream",
          "name": "stdout",
          "text": [
            "Epoch 1/100\n",
            "53/53 [==============================] - 2s 27ms/step - loss: 4.1177 - accuracy: 0.0215 - val_loss: 4.0500 - val_accuracy: 0.0323\n",
            "Epoch 2/100\n",
            "53/53 [==============================] - 1s 24ms/step - loss: 3.8133 - accuracy: 0.0830 - val_loss: 3.2943 - val_accuracy: 0.2204\n",
            "Epoch 3/100\n",
            "53/53 [==============================] - 1s 24ms/step - loss: 3.0641 - accuracy: 0.2288 - val_loss: 2.4074 - val_accuracy: 0.4140\n",
            "Epoch 4/100\n",
            "53/53 [==============================] - 1s 24ms/step - loss: 2.3724 - accuracy: 0.3763 - val_loss: 1.8717 - val_accuracy: 0.5914\n",
            "Epoch 5/100\n",
            "53/53 [==============================] - 1s 24ms/step - loss: 1.9656 - accuracy: 0.4725 - val_loss: 1.5398 - val_accuracy: 0.6290\n",
            "Epoch 6/100\n",
            "53/53 [==============================] - 1s 24ms/step - loss: 1.6660 - accuracy: 0.5436 - val_loss: 1.2844 - val_accuracy: 0.7097\n",
            "Epoch 7/100\n",
            "53/53 [==============================] - 1s 24ms/step - loss: 1.4210 - accuracy: 0.6123 - val_loss: 1.1332 - val_accuracy: 0.7258\n",
            "Epoch 8/100\n",
            "53/53 [==============================] - 1s 24ms/step - loss: 1.2950 - accuracy: 0.6344 - val_loss: 1.0473 - val_accuracy: 0.7581\n",
            "Epoch 9/100\n",
            "53/53 [==============================] - 1s 24ms/step - loss: 1.1420 - accuracy: 0.6720 - val_loss: 0.9518 - val_accuracy: 0.7419\n",
            "Epoch 10/100\n",
            "53/53 [==============================] - 1s 25ms/step - loss: 1.0358 - accuracy: 0.7067 - val_loss: 0.8610 - val_accuracy: 0.7419\n",
            "Epoch 11/100\n",
            "53/53 [==============================] - 1s 24ms/step - loss: 0.9678 - accuracy: 0.7157 - val_loss: 0.8673 - val_accuracy: 0.7634\n",
            "Epoch 12/100\n",
            "53/53 [==============================] - 1s 24ms/step - loss: 0.8912 - accuracy: 0.7521 - val_loss: 0.8094 - val_accuracy: 0.7688\n",
            "Epoch 13/100\n",
            "53/53 [==============================] - 1s 25ms/step - loss: 0.8226 - accuracy: 0.7611 - val_loss: 0.7459 - val_accuracy: 0.7903\n",
            "Epoch 14/100\n",
            "53/53 [==============================] - 1s 24ms/step - loss: 0.7198 - accuracy: 0.7909 - val_loss: 0.7084 - val_accuracy: 0.8065\n",
            "Epoch 15/100\n",
            "53/53 [==============================] - 1s 24ms/step - loss: 0.7138 - accuracy: 0.7849 - val_loss: 0.7002 - val_accuracy: 0.8118\n",
            "Epoch 16/100\n",
            "53/53 [==============================] - 1s 25ms/step - loss: 0.6540 - accuracy: 0.8035 - val_loss: 0.6410 - val_accuracy: 0.8172\n",
            "Epoch 17/100\n",
            "53/53 [==============================] - 1s 24ms/step - loss: 0.6129 - accuracy: 0.8100 - val_loss: 0.6463 - val_accuracy: 0.8118\n",
            "Epoch 18/100\n",
            "53/53 [==============================] - 1s 24ms/step - loss: 0.5610 - accuracy: 0.8297 - val_loss: 0.6218 - val_accuracy: 0.8280\n",
            "Epoch 19/100\n",
            "53/53 [==============================] - 1s 24ms/step - loss: 0.5153 - accuracy: 0.8453 - val_loss: 0.5842 - val_accuracy: 0.8226\n",
            "Epoch 20/100\n",
            "53/53 [==============================] - 1s 24ms/step - loss: 0.4689 - accuracy: 0.8722 - val_loss: 0.5647 - val_accuracy: 0.8441\n",
            "Epoch 21/100\n",
            "53/53 [==============================] - 1s 24ms/step - loss: 0.4598 - accuracy: 0.8590 - val_loss: 0.5825 - val_accuracy: 0.8172\n",
            "Epoch 22/100\n",
            "53/53 [==============================] - 1s 24ms/step - loss: 0.4001 - accuracy: 0.8787 - val_loss: 0.5713 - val_accuracy: 0.8387\n",
            "Epoch 23/100\n",
            "53/53 [==============================] - 1s 24ms/step - loss: 0.3971 - accuracy: 0.8775 - val_loss: 0.5565 - val_accuracy: 0.8441\n",
            "Epoch 24/100\n",
            "53/53 [==============================] - 2s 32ms/step - loss: 0.3627 - accuracy: 0.8978 - val_loss: 0.5434 - val_accuracy: 0.8280\n",
            "Epoch 25/100\n",
            "53/53 [==============================] - 2s 32ms/step - loss: 0.3214 - accuracy: 0.9068 - val_loss: 0.5587 - val_accuracy: 0.8387\n",
            "Epoch 26/100\n",
            "53/53 [==============================] - 2s 30ms/step - loss: 0.3371 - accuracy: 0.9008 - val_loss: 0.5350 - val_accuracy: 0.8387\n",
            "Epoch 27/100\n",
            "53/53 [==============================] - 1s 24ms/step - loss: 0.3150 - accuracy: 0.9038 - val_loss: 0.4973 - val_accuracy: 0.8656\n",
            "Epoch 28/100\n",
            "53/53 [==============================] - 1s 24ms/step - loss: 0.3192 - accuracy: 0.9050 - val_loss: 0.4843 - val_accuracy: 0.8656\n",
            "Epoch 29/100\n",
            "53/53 [==============================] - 1s 25ms/step - loss: 0.2755 - accuracy: 0.9211 - val_loss: 0.4889 - val_accuracy: 0.8602\n",
            "Epoch 30/100\n",
            "53/53 [==============================] - 1s 24ms/step - loss: 0.2521 - accuracy: 0.9259 - val_loss: 0.5046 - val_accuracy: 0.8548\n",
            "Epoch 31/100\n",
            "53/53 [==============================] - 1s 25ms/step - loss: 0.2676 - accuracy: 0.9271 - val_loss: 0.4785 - val_accuracy: 0.8871\n",
            "Epoch 32/100\n",
            "53/53 [==============================] - 1s 24ms/step - loss: 0.2253 - accuracy: 0.9295 - val_loss: 0.4374 - val_accuracy: 0.8871\n",
            "Epoch 33/100\n",
            "53/53 [==============================] - 1s 25ms/step - loss: 0.2178 - accuracy: 0.9361 - val_loss: 0.4717 - val_accuracy: 0.8763\n",
            "Epoch 34/100\n",
            "53/53 [==============================] - 1s 24ms/step - loss: 0.2137 - accuracy: 0.9397 - val_loss: 0.4605 - val_accuracy: 0.8602\n",
            "Epoch 35/100\n",
            "53/53 [==============================] - 1s 25ms/step - loss: 0.2031 - accuracy: 0.9456 - val_loss: 0.4738 - val_accuracy: 0.8656\n",
            "Epoch 36/100\n",
            "53/53 [==============================] - 1s 25ms/step - loss: 0.1950 - accuracy: 0.9456 - val_loss: 0.4670 - val_accuracy: 0.8871\n",
            "Epoch 37/100\n",
            "53/53 [==============================] - 1s 24ms/step - loss: 0.1739 - accuracy: 0.9486 - val_loss: 0.4621 - val_accuracy: 0.8602\n",
            "Epoch 38/100\n",
            "53/53 [==============================] - 1s 25ms/step - loss: 0.1875 - accuracy: 0.9468 - val_loss: 0.4614 - val_accuracy: 0.8710\n",
            "Epoch 39/100\n",
            "53/53 [==============================] - 1s 25ms/step - loss: 0.1568 - accuracy: 0.9582 - val_loss: 0.4691 - val_accuracy: 0.8710\n",
            "Epoch 40/100\n",
            "53/53 [==============================] - 1s 25ms/step - loss: 0.1688 - accuracy: 0.9516 - val_loss: 0.4357 - val_accuracy: 0.8817\n",
            "Epoch 41/100\n",
            "53/53 [==============================] - 1s 25ms/step - loss: 0.1451 - accuracy: 0.9618 - val_loss: 0.4438 - val_accuracy: 0.8871\n",
            "Epoch 42/100\n",
            "53/53 [==============================] - 1s 25ms/step - loss: 0.1463 - accuracy: 0.9630 - val_loss: 0.4745 - val_accuracy: 0.8602\n",
            "Epoch 43/100\n",
            "53/53 [==============================] - 1s 25ms/step - loss: 0.1403 - accuracy: 0.9594 - val_loss: 0.4684 - val_accuracy: 0.8656\n",
            "Epoch 44/100\n",
            "53/53 [==============================] - 1s 25ms/step - loss: 0.1423 - accuracy: 0.9594 - val_loss: 0.4989 - val_accuracy: 0.8656\n",
            "Epoch 45/100\n",
            "53/53 [==============================] - 1s 25ms/step - loss: 0.1113 - accuracy: 0.9713 - val_loss: 0.4598 - val_accuracy: 0.8871\n",
            "Epoch 46/100\n",
            "53/53 [==============================] - 1s 25ms/step - loss: 0.1268 - accuracy: 0.9695 - val_loss: 0.4619 - val_accuracy: 0.8871\n",
            "Epoch 47/100\n",
            "53/53 [==============================] - 1s 26ms/step - loss: 0.1136 - accuracy: 0.9707 - val_loss: 0.4706 - val_accuracy: 0.8656\n",
            "Epoch 48/100\n",
            "53/53 [==============================] - 1s 24ms/step - loss: 0.1113 - accuracy: 0.9677 - val_loss: 0.4557 - val_accuracy: 0.8817\n",
            "Epoch 49/100\n",
            "53/53 [==============================] - 1s 25ms/step - loss: 0.1120 - accuracy: 0.9761 - val_loss: 0.5286 - val_accuracy: 0.8710\n",
            "Epoch 50/100\n",
            "53/53 [==============================] - 1s 25ms/step - loss: 0.1191 - accuracy: 0.9677 - val_loss: 0.5138 - val_accuracy: 0.8656\n"
          ]
        }
      ]
    },
    {
      "cell_type": "code",
      "source": [
        "history = model_lenet5_concat.fit(X_train_concat, y_train_concat, validation_data = (X_val_concat, y_val_concat), epochs=EPOCHS, batch_size=BATCH_SIZE,callbacks=[callback])"
      ],
      "metadata": {
        "colab": {
          "base_uri": "https://localhost:8080/"
        },
        "id": "dVpGHZcLsZcY",
        "outputId": "5c921467-2884-43e9-bf38-827ec70b658d"
      },
      "execution_count": null,
      "outputs": [
        {
          "output_type": "stream",
          "name": "stdout",
          "text": [
            "Epoch 1/100\n",
            "144/144 [==============================] - 4s 25ms/step - loss: 4.1205 - accuracy: 0.0218 - val_loss: 4.0462 - val_accuracy: 0.0484\n",
            "Epoch 2/100\n",
            "144/144 [==============================] - 4s 24ms/step - loss: 3.7743 - accuracy: 0.0769 - val_loss: 3.3154 - val_accuracy: 0.1864\n",
            "Epoch 3/100\n",
            "144/144 [==============================] - 4s 24ms/step - loss: 3.2380 - accuracy: 0.1731 - val_loss: 2.7891 - val_accuracy: 0.3154\n",
            "Epoch 4/100\n",
            "144/144 [==============================] - 4s 25ms/step - loss: 2.8149 - accuracy: 0.2685 - val_loss: 2.4243 - val_accuracy: 0.3853\n",
            "Epoch 5/100\n",
            "144/144 [==============================] - 4s 24ms/step - loss: 2.5660 - accuracy: 0.3211 - val_loss: 2.2642 - val_accuracy: 0.3996\n",
            "Epoch 6/100\n",
            "144/144 [==============================] - 3s 24ms/step - loss: 2.3566 - accuracy: 0.3640 - val_loss: 2.0646 - val_accuracy: 0.4552\n",
            "Epoch 7/100\n",
            "144/144 [==============================] - 3s 24ms/step - loss: 2.1560 - accuracy: 0.4039 - val_loss: 1.9187 - val_accuracy: 0.5000\n",
            "Epoch 8/100\n",
            "144/144 [==============================] - 4s 25ms/step - loss: 2.0434 - accuracy: 0.4324 - val_loss: 1.7956 - val_accuracy: 0.5466\n",
            "Epoch 9/100\n",
            "144/144 [==============================] - 5s 38ms/step - loss: 1.9090 - accuracy: 0.4732 - val_loss: 1.7594 - val_accuracy: 0.5323\n",
            "Epoch 10/100\n",
            "144/144 [==============================] - 4s 25ms/step - loss: 1.8080 - accuracy: 0.4874 - val_loss: 1.6411 - val_accuracy: 0.5771\n",
            "Epoch 11/100\n",
            "144/144 [==============================] - 4s 24ms/step - loss: 1.7090 - accuracy: 0.5183 - val_loss: 1.5900 - val_accuracy: 0.5860\n",
            "Epoch 12/100\n",
            "144/144 [==============================] - 4s 24ms/step - loss: 1.6364 - accuracy: 0.5368 - val_loss: 1.4976 - val_accuracy: 0.6272\n",
            "Epoch 13/100\n",
            "144/144 [==============================] - 3s 24ms/step - loss: 1.5492 - accuracy: 0.5501 - val_loss: 1.4634 - val_accuracy: 0.6111\n",
            "Epoch 14/100\n",
            "144/144 [==============================] - 3s 24ms/step - loss: 1.4637 - accuracy: 0.5676 - val_loss: 1.3787 - val_accuracy: 0.6326\n",
            "Epoch 15/100\n",
            "144/144 [==============================] - 4s 25ms/step - loss: 1.3962 - accuracy: 0.5874 - val_loss: 1.3375 - val_accuracy: 0.6487\n",
            "Epoch 16/100\n",
            "144/144 [==============================] - 4s 25ms/step - loss: 1.3433 - accuracy: 0.5970 - val_loss: 1.2792 - val_accuracy: 0.6595\n",
            "Epoch 17/100\n",
            "144/144 [==============================] - 4s 25ms/step - loss: 1.2822 - accuracy: 0.6192 - val_loss: 1.2832 - val_accuracy: 0.6523\n",
            "Epoch 18/100\n",
            "144/144 [==============================] - 4s 25ms/step - loss: 1.2331 - accuracy: 0.6356 - val_loss: 1.2675 - val_accuracy: 0.6685\n",
            "Epoch 19/100\n",
            "144/144 [==============================] - 4s 25ms/step - loss: 1.1867 - accuracy: 0.6491 - val_loss: 1.2249 - val_accuracy: 0.6882\n",
            "Epoch 20/100\n",
            "144/144 [==============================] - 4s 24ms/step - loss: 1.1492 - accuracy: 0.6556 - val_loss: 1.2383 - val_accuracy: 0.6720\n",
            "Epoch 21/100\n",
            "144/144 [==============================] - 4s 25ms/step - loss: 1.0754 - accuracy: 0.6720 - val_loss: 1.1858 - val_accuracy: 0.6774\n",
            "Epoch 22/100\n",
            "144/144 [==============================] - 4s 25ms/step - loss: 1.0562 - accuracy: 0.6765 - val_loss: 1.1714 - val_accuracy: 0.6828\n",
            "Epoch 23/100\n",
            "144/144 [==============================] - 4s 25ms/step - loss: 1.0172 - accuracy: 0.6848 - val_loss: 1.1365 - val_accuracy: 0.7007\n",
            "Epoch 24/100\n",
            "144/144 [==============================] - 4s 25ms/step - loss: 0.9747 - accuracy: 0.7025 - val_loss: 1.1141 - val_accuracy: 0.7043\n",
            "Epoch 25/100\n",
            "144/144 [==============================] - 4s 25ms/step - loss: 0.9232 - accuracy: 0.7195 - val_loss: 1.0786 - val_accuracy: 0.7079\n",
            "Epoch 26/100\n",
            "144/144 [==============================] - 4s 24ms/step - loss: 0.9180 - accuracy: 0.7105 - val_loss: 1.0946 - val_accuracy: 0.7133\n",
            "Epoch 27/100\n",
            "144/144 [==============================] - 3s 24ms/step - loss: 0.8678 - accuracy: 0.7293 - val_loss: 1.0920 - val_accuracy: 0.7133\n",
            "Epoch 28/100\n",
            "144/144 [==============================] - 3s 24ms/step - loss: 0.8501 - accuracy: 0.7367 - val_loss: 1.0756 - val_accuracy: 0.7348\n",
            "Epoch 29/100\n",
            "144/144 [==============================] - 3s 24ms/step - loss: 0.8220 - accuracy: 0.7465 - val_loss: 1.0677 - val_accuracy: 0.7186\n",
            "Epoch 30/100\n",
            "144/144 [==============================] - 3s 24ms/step - loss: 0.8030 - accuracy: 0.7469 - val_loss: 1.0488 - val_accuracy: 0.7204\n",
            "Epoch 31/100\n",
            "144/144 [==============================] - 3s 24ms/step - loss: 0.7653 - accuracy: 0.7557 - val_loss: 1.0969 - val_accuracy: 0.7007\n",
            "Epoch 32/100\n",
            "144/144 [==============================] - 3s 24ms/step - loss: 0.7498 - accuracy: 0.7594 - val_loss: 1.0075 - val_accuracy: 0.7366\n",
            "Epoch 33/100\n",
            "144/144 [==============================] - 4s 25ms/step - loss: 0.7407 - accuracy: 0.7626 - val_loss: 1.0560 - val_accuracy: 0.7115\n",
            "Epoch 34/100\n",
            "144/144 [==============================] - 4s 25ms/step - loss: 0.6917 - accuracy: 0.7729 - val_loss: 0.9933 - val_accuracy: 0.7401\n",
            "Epoch 35/100\n",
            "144/144 [==============================] - 4s 25ms/step - loss: 0.6930 - accuracy: 0.7766 - val_loss: 1.0400 - val_accuracy: 0.7222\n",
            "Epoch 36/100\n",
            "144/144 [==============================] - 4s 25ms/step - loss: 0.6705 - accuracy: 0.7816 - val_loss: 1.0302 - val_accuracy: 0.7366\n",
            "Epoch 37/100\n",
            "144/144 [==============================] - 4s 25ms/step - loss: 0.6624 - accuracy: 0.7829 - val_loss: 1.0721 - val_accuracy: 0.7133\n",
            "Epoch 38/100\n",
            "144/144 [==============================] - 4s 25ms/step - loss: 0.6299 - accuracy: 0.7982 - val_loss: 1.0425 - val_accuracy: 0.7222\n",
            "Epoch 39/100\n",
            "144/144 [==============================] - 4s 25ms/step - loss: 0.6002 - accuracy: 0.8049 - val_loss: 1.0433 - val_accuracy: 0.7348\n",
            "Epoch 40/100\n",
            "144/144 [==============================] - 4s 25ms/step - loss: 0.5960 - accuracy: 0.7999 - val_loss: 1.0352 - val_accuracy: 0.7240\n",
            "Epoch 41/100\n",
            "144/144 [==============================] - 4s 25ms/step - loss: 0.5688 - accuracy: 0.8117 - val_loss: 1.0904 - val_accuracy: 0.6935\n",
            "Epoch 42/100\n",
            "144/144 [==============================] - 4s 25ms/step - loss: 0.5811 - accuracy: 0.8058 - val_loss: 1.0323 - val_accuracy: 0.7330\n",
            "Epoch 43/100\n",
            "144/144 [==============================] - 4s 25ms/step - loss: 0.5400 - accuracy: 0.8261 - val_loss: 1.0016 - val_accuracy: 0.7384\n",
            "Epoch 44/100\n",
            "144/144 [==============================] - 4s 25ms/step - loss: 0.5316 - accuracy: 0.8267 - val_loss: 1.0107 - val_accuracy: 0.7312\n"
          ]
        }
      ]
    },
    {
      "cell_type": "markdown",
      "source": [
        "#### train on 23x30 dataset and modified lene5 model"
      ],
      "metadata": {
        "id": "BVNxEo-8SS9p"
      }
    },
    {
      "cell_type": "code",
      "source": [
        "history = modified_model_lenet5.fit(small_X_train, small_y_train, validation_data = (small_X_val, small_y_val), epochs=EPOCHS, batch_size=BATCH_SIZE,callbacks=[callback])"
      ],
      "metadata": {
        "colab": {
          "base_uri": "https://localhost:8080/"
        },
        "id": "xW1GBDVxIY1h",
        "outputId": "86b8578a-e070-42f0-d8ee-4ff39d38acd8"
      },
      "execution_count": null,
      "outputs": [
        {
          "output_type": "stream",
          "name": "stdout",
          "text": [
            "Epoch 1/100\n",
            "53/53 [==============================] - 2s 25ms/step - loss: 4.1348 - accuracy: 0.0197 - val_loss: 4.1047 - val_accuracy: 0.0215\n",
            "Epoch 2/100\n",
            "53/53 [==============================] - 1s 21ms/step - loss: 4.0749 - accuracy: 0.0346 - val_loss: 4.0123 - val_accuracy: 0.0753\n",
            "Epoch 3/100\n",
            "53/53 [==============================] - 1s 22ms/step - loss: 3.8403 - accuracy: 0.0830 - val_loss: 3.6112 - val_accuracy: 0.1075\n",
            "Epoch 4/100\n",
            "53/53 [==============================] - 1s 22ms/step - loss: 3.3544 - accuracy: 0.1697 - val_loss: 3.3228 - val_accuracy: 0.1559\n",
            "Epoch 5/100\n",
            "53/53 [==============================] - 1s 21ms/step - loss: 3.0550 - accuracy: 0.2127 - val_loss: 3.1823 - val_accuracy: 0.2151\n",
            "Epoch 6/100\n",
            "53/53 [==============================] - 1s 22ms/step - loss: 2.8569 - accuracy: 0.2616 - val_loss: 3.0589 - val_accuracy: 0.2419\n",
            "Epoch 7/100\n",
            "53/53 [==============================] - 1s 21ms/step - loss: 2.6494 - accuracy: 0.3130 - val_loss: 3.0046 - val_accuracy: 0.2473\n",
            "Epoch 8/100\n",
            "53/53 [==============================] - 1s 22ms/step - loss: 2.5678 - accuracy: 0.3136 - val_loss: 2.8804 - val_accuracy: 0.2634\n",
            "Epoch 9/100\n",
            "53/53 [==============================] - 1s 21ms/step - loss: 2.3877 - accuracy: 0.3572 - val_loss: 2.8255 - val_accuracy: 0.3118\n",
            "Epoch 10/100\n",
            "53/53 [==============================] - 1s 21ms/step - loss: 2.3353 - accuracy: 0.3584 - val_loss: 2.7606 - val_accuracy: 0.3280\n",
            "Epoch 11/100\n",
            "53/53 [==============================] - 1s 21ms/step - loss: 2.2066 - accuracy: 0.3889 - val_loss: 2.7200 - val_accuracy: 0.3441\n",
            "Epoch 12/100\n",
            "53/53 [==============================] - 1s 21ms/step - loss: 2.1302 - accuracy: 0.4062 - val_loss: 2.7741 - val_accuracy: 0.3387\n",
            "Epoch 13/100\n",
            "53/53 [==============================] - 1s 21ms/step - loss: 2.0269 - accuracy: 0.4343 - val_loss: 2.7018 - val_accuracy: 0.3441\n",
            "Epoch 14/100\n",
            "53/53 [==============================] - 1s 21ms/step - loss: 1.9551 - accuracy: 0.4397 - val_loss: 2.6564 - val_accuracy: 0.3763\n",
            "Epoch 15/100\n",
            "53/53 [==============================] - 1s 22ms/step - loss: 1.8659 - accuracy: 0.4606 - val_loss: 2.6278 - val_accuracy: 0.3602\n",
            "Epoch 16/100\n",
            "53/53 [==============================] - 1s 21ms/step - loss: 1.8285 - accuracy: 0.4671 - val_loss: 2.5879 - val_accuracy: 0.3871\n",
            "Epoch 17/100\n",
            "53/53 [==============================] - 1s 21ms/step - loss: 1.7440 - accuracy: 0.4815 - val_loss: 2.5654 - val_accuracy: 0.3817\n",
            "Epoch 18/100\n",
            "53/53 [==============================] - 1s 21ms/step - loss: 1.6976 - accuracy: 0.5072 - val_loss: 2.5835 - val_accuracy: 0.3925\n",
            "Epoch 19/100\n",
            "53/53 [==============================] - 1s 22ms/step - loss: 1.6129 - accuracy: 0.5346 - val_loss: 2.5490 - val_accuracy: 0.3925\n",
            "Epoch 20/100\n",
            "53/53 [==============================] - 1s 22ms/step - loss: 1.5524 - accuracy: 0.5430 - val_loss: 2.5500 - val_accuracy: 0.3978\n",
            "Epoch 21/100\n",
            "53/53 [==============================] - 1s 21ms/step - loss: 1.5244 - accuracy: 0.5424 - val_loss: 2.7035 - val_accuracy: 0.3656\n",
            "Epoch 22/100\n",
            "53/53 [==============================] - 1s 22ms/step - loss: 1.4647 - accuracy: 0.5609 - val_loss: 2.5334 - val_accuracy: 0.3978\n",
            "Epoch 23/100\n",
            "53/53 [==============================] - 1s 21ms/step - loss: 1.3941 - accuracy: 0.5753 - val_loss: 2.4940 - val_accuracy: 0.3978\n",
            "Epoch 24/100\n",
            "53/53 [==============================] - 1s 22ms/step - loss: 1.3529 - accuracy: 0.6171 - val_loss: 2.4740 - val_accuracy: 0.4301\n",
            "Epoch 25/100\n",
            "53/53 [==============================] - 1s 21ms/step - loss: 1.3331 - accuracy: 0.5854 - val_loss: 2.5273 - val_accuracy: 0.4194\n",
            "Epoch 26/100\n",
            "53/53 [==============================] - 1s 22ms/step - loss: 1.2819 - accuracy: 0.6147 - val_loss: 2.4575 - val_accuracy: 0.4301\n",
            "Epoch 27/100\n",
            "53/53 [==============================] - 1s 22ms/step - loss: 1.2289 - accuracy: 0.6237 - val_loss: 2.4982 - val_accuracy: 0.4194\n",
            "Epoch 28/100\n",
            "53/53 [==============================] - 1s 22ms/step - loss: 1.1944 - accuracy: 0.6434 - val_loss: 2.4740 - val_accuracy: 0.4462\n",
            "Epoch 29/100\n",
            "53/53 [==============================] - 1s 22ms/step - loss: 1.1847 - accuracy: 0.6350 - val_loss: 2.4957 - val_accuracy: 0.4247\n",
            "Epoch 30/100\n",
            "53/53 [==============================] - 1s 22ms/step - loss: 1.1653 - accuracy: 0.6434 - val_loss: 2.5572 - val_accuracy: 0.4086\n",
            "Epoch 31/100\n",
            "53/53 [==============================] - 1s 22ms/step - loss: 1.1080 - accuracy: 0.6673 - val_loss: 2.5240 - val_accuracy: 0.4086\n",
            "Epoch 32/100\n",
            "53/53 [==============================] - 1s 22ms/step - loss: 1.0926 - accuracy: 0.6691 - val_loss: 2.5087 - val_accuracy: 0.4301\n",
            "Epoch 33/100\n",
            "53/53 [==============================] - 1s 22ms/step - loss: 1.0108 - accuracy: 0.6876 - val_loss: 2.5121 - val_accuracy: 0.4624\n",
            "Epoch 34/100\n",
            "53/53 [==============================] - 1s 22ms/step - loss: 1.0234 - accuracy: 0.6667 - val_loss: 2.4580 - val_accuracy: 0.4624\n",
            "Epoch 35/100\n",
            "53/53 [==============================] - 1s 23ms/step - loss: 0.9894 - accuracy: 0.6864 - val_loss: 2.5065 - val_accuracy: 0.4462\n",
            "Epoch 36/100\n",
            "53/53 [==============================] - 1s 23ms/step - loss: 0.9310 - accuracy: 0.7198 - val_loss: 2.5356 - val_accuracy: 0.4247\n"
          ]
        }
      ]
    },
    {
      "cell_type": "code",
      "source": [
        "history = modified_model_lenet5_hd.fit(small_X_train_hd, small_y_train_hd, validation_data = (small_X_val_hd, small_y_val_hd), epochs=EPOCHS, batch_size=BATCH_SIZE,callbacks=[callback])"
      ],
      "metadata": {
        "colab": {
          "base_uri": "https://localhost:8080/"
        },
        "id": "0lz5_gkaIXpb",
        "outputId": "cc99f791-b2ea-423c-cb54-96bc8936ac21"
      },
      "execution_count": null,
      "outputs": [
        {
          "output_type": "stream",
          "name": "stdout",
          "text": [
            "Epoch 1/100\n",
            "53/53 [==============================] - 2s 25ms/step - loss: 4.1009 - accuracy: 0.0388 - val_loss: 4.0085 - val_accuracy: 0.1559\n",
            "Epoch 2/100\n",
            "53/53 [==============================] - 1s 23ms/step - loss: 3.7374 - accuracy: 0.1458 - val_loss: 3.1275 - val_accuracy: 0.3172\n",
            "Epoch 3/100\n",
            "53/53 [==============================] - 1s 22ms/step - loss: 2.7269 - accuracy: 0.3112 - val_loss: 2.0022 - val_accuracy: 0.6075\n",
            "Epoch 4/100\n",
            "53/53 [==============================] - 1s 22ms/step - loss: 1.9598 - accuracy: 0.4982 - val_loss: 1.4712 - val_accuracy: 0.6613\n",
            "Epoch 5/100\n",
            "53/53 [==============================] - 1s 22ms/step - loss: 1.5614 - accuracy: 0.5926 - val_loss: 1.2377 - val_accuracy: 0.7043\n",
            "Epoch 6/100\n",
            "53/53 [==============================] - 1s 22ms/step - loss: 1.3058 - accuracy: 0.6428 - val_loss: 1.0294 - val_accuracy: 0.7366\n",
            "Epoch 7/100\n",
            "53/53 [==============================] - 1s 22ms/step - loss: 1.1433 - accuracy: 0.6864 - val_loss: 0.9240 - val_accuracy: 0.7581\n",
            "Epoch 8/100\n",
            "53/53 [==============================] - 1s 23ms/step - loss: 0.9535 - accuracy: 0.7312 - val_loss: 0.8800 - val_accuracy: 0.7581\n",
            "Epoch 9/100\n",
            "53/53 [==============================] - 1s 22ms/step - loss: 0.8661 - accuracy: 0.7557 - val_loss: 0.7665 - val_accuracy: 0.7742\n",
            "Epoch 10/100\n",
            "53/53 [==============================] - 1s 22ms/step - loss: 0.7477 - accuracy: 0.7808 - val_loss: 0.6894 - val_accuracy: 0.8118\n",
            "Epoch 11/100\n",
            "53/53 [==============================] - 1s 22ms/step - loss: 0.7159 - accuracy: 0.7879 - val_loss: 0.6541 - val_accuracy: 0.8011\n",
            "Epoch 12/100\n",
            "53/53 [==============================] - 1s 22ms/step - loss: 0.6231 - accuracy: 0.8190 - val_loss: 0.5988 - val_accuracy: 0.8387\n",
            "Epoch 13/100\n",
            "53/53 [==============================] - 1s 22ms/step - loss: 0.5791 - accuracy: 0.8333 - val_loss: 0.5610 - val_accuracy: 0.8333\n",
            "Epoch 14/100\n",
            "53/53 [==============================] - 1s 22ms/step - loss: 0.5069 - accuracy: 0.8519 - val_loss: 0.5472 - val_accuracy: 0.8656\n",
            "Epoch 15/100\n",
            "53/53 [==============================] - 1s 22ms/step - loss: 0.4791 - accuracy: 0.8650 - val_loss: 0.5214 - val_accuracy: 0.8710\n",
            "Epoch 16/100\n",
            "53/53 [==============================] - 1s 22ms/step - loss: 0.4294 - accuracy: 0.8704 - val_loss: 0.5227 - val_accuracy: 0.8710\n",
            "Epoch 17/100\n",
            "53/53 [==============================] - 1s 22ms/step - loss: 0.3856 - accuracy: 0.8883 - val_loss: 0.5081 - val_accuracy: 0.8495\n",
            "Epoch 18/100\n",
            "53/53 [==============================] - 1s 22ms/step - loss: 0.3712 - accuracy: 0.8973 - val_loss: 0.4788 - val_accuracy: 0.8817\n",
            "Epoch 19/100\n",
            "53/53 [==============================] - 1s 22ms/step - loss: 0.3478 - accuracy: 0.8973 - val_loss: 0.4749 - val_accuracy: 0.8602\n",
            "Epoch 20/100\n",
            "53/53 [==============================] - 1s 22ms/step - loss: 0.3275 - accuracy: 0.8990 - val_loss: 0.4686 - val_accuracy: 0.8763\n",
            "Epoch 21/100\n",
            "53/53 [==============================] - 1s 27ms/step - loss: 0.2987 - accuracy: 0.9056 - val_loss: 0.4448 - val_accuracy: 0.8710\n",
            "Epoch 22/100\n",
            "53/53 [==============================] - 2s 38ms/step - loss: 0.2528 - accuracy: 0.9325 - val_loss: 0.4454 - val_accuracy: 0.8871\n",
            "Epoch 23/100\n",
            "53/53 [==============================] - 2s 36ms/step - loss: 0.2680 - accuracy: 0.9176 - val_loss: 0.4087 - val_accuracy: 0.8871\n",
            "Epoch 24/100\n",
            "53/53 [==============================] - 1s 22ms/step - loss: 0.2469 - accuracy: 0.9241 - val_loss: 0.3964 - val_accuracy: 0.8925\n",
            "Epoch 25/100\n",
            "53/53 [==============================] - 1s 22ms/step - loss: 0.2311 - accuracy: 0.9271 - val_loss: 0.4084 - val_accuracy: 0.8925\n",
            "Epoch 26/100\n",
            "53/53 [==============================] - 1s 22ms/step - loss: 0.1958 - accuracy: 0.9438 - val_loss: 0.4047 - val_accuracy: 0.9032\n",
            "Epoch 27/100\n",
            "53/53 [==============================] - 1s 22ms/step - loss: 0.2037 - accuracy: 0.9456 - val_loss: 0.3815 - val_accuracy: 0.9086\n",
            "Epoch 28/100\n",
            "53/53 [==============================] - 1s 22ms/step - loss: 0.1794 - accuracy: 0.9564 - val_loss: 0.3994 - val_accuracy: 0.8925\n",
            "Epoch 29/100\n",
            "53/53 [==============================] - 1s 22ms/step - loss: 0.1848 - accuracy: 0.9444 - val_loss: 0.3931 - val_accuracy: 0.8871\n",
            "Epoch 30/100\n",
            "53/53 [==============================] - 1s 22ms/step - loss: 0.1663 - accuracy: 0.9552 - val_loss: 0.3674 - val_accuracy: 0.9086\n",
            "Epoch 31/100\n",
            "53/53 [==============================] - 1s 22ms/step - loss: 0.1545 - accuracy: 0.9588 - val_loss: 0.3684 - val_accuracy: 0.8925\n",
            "Epoch 32/100\n",
            "53/53 [==============================] - 1s 22ms/step - loss: 0.1637 - accuracy: 0.9528 - val_loss: 0.3735 - val_accuracy: 0.8978\n",
            "Epoch 33/100\n",
            "53/53 [==============================] - 1s 22ms/step - loss: 0.1476 - accuracy: 0.9588 - val_loss: 0.3819 - val_accuracy: 0.8978\n",
            "Epoch 34/100\n",
            "53/53 [==============================] - 1s 22ms/step - loss: 0.1518 - accuracy: 0.9588 - val_loss: 0.3672 - val_accuracy: 0.9086\n",
            "Epoch 35/100\n",
            "53/53 [==============================] - 1s 22ms/step - loss: 0.1275 - accuracy: 0.9677 - val_loss: 0.3723 - val_accuracy: 0.9086\n",
            "Epoch 36/100\n",
            "53/53 [==============================] - 1s 22ms/step - loss: 0.1189 - accuracy: 0.9713 - val_loss: 0.3504 - val_accuracy: 0.9032\n",
            "Epoch 37/100\n",
            "53/53 [==============================] - 1s 22ms/step - loss: 0.1100 - accuracy: 0.9725 - val_loss: 0.3321 - val_accuracy: 0.9086\n",
            "Epoch 38/100\n",
            "53/53 [==============================] - 1s 22ms/step - loss: 0.1018 - accuracy: 0.9743 - val_loss: 0.3756 - val_accuracy: 0.9086\n",
            "Epoch 39/100\n",
            "53/53 [==============================] - 1s 22ms/step - loss: 0.1181 - accuracy: 0.9624 - val_loss: 0.3516 - val_accuracy: 0.8978\n",
            "Epoch 40/100\n",
            "53/53 [==============================] - 1s 22ms/step - loss: 0.0970 - accuracy: 0.9767 - val_loss: 0.3578 - val_accuracy: 0.9194\n",
            "Epoch 41/100\n",
            "53/53 [==============================] - 1s 22ms/step - loss: 0.0959 - accuracy: 0.9731 - val_loss: 0.4132 - val_accuracy: 0.9032\n",
            "Epoch 42/100\n",
            "53/53 [==============================] - 1s 22ms/step - loss: 0.0902 - accuracy: 0.9761 - val_loss: 0.3869 - val_accuracy: 0.9086\n",
            "Epoch 43/100\n",
            "53/53 [==============================] - 1s 22ms/step - loss: 0.0825 - accuracy: 0.9767 - val_loss: 0.3897 - val_accuracy: 0.8978\n",
            "Epoch 44/100\n",
            "53/53 [==============================] - 1s 23ms/step - loss: 0.0834 - accuracy: 0.9785 - val_loss: 0.3718 - val_accuracy: 0.9086\n",
            "Epoch 45/100\n",
            "53/53 [==============================] - 1s 22ms/step - loss: 0.0864 - accuracy: 0.9773 - val_loss: 0.3679 - val_accuracy: 0.9032\n",
            "Epoch 46/100\n",
            "53/53 [==============================] - 1s 22ms/step - loss: 0.0852 - accuracy: 0.9761 - val_loss: 0.3560 - val_accuracy: 0.9032\n",
            "Epoch 47/100\n",
            "53/53 [==============================] - 1s 23ms/step - loss: 0.0844 - accuracy: 0.9743 - val_loss: 0.3453 - val_accuracy: 0.9247\n"
          ]
        }
      ]
    },
    {
      "cell_type": "code",
      "source": [
        "history = modified_model_lenet5_concat.fit(small_X_train_concat, small_y_train_concat, validation_data = (small_X_val_concat, small_y_val_concat), epochs=EPOCHS, batch_size=BATCH_SIZE,callbacks=[callback])"
      ],
      "metadata": {
        "colab": {
          "base_uri": "https://localhost:8080/"
        },
        "id": "0xW_1tCPIdnf",
        "outputId": "6aca3b69-3c7e-4100-c526-6b95dfdee10c"
      },
      "execution_count": null,
      "outputs": [
        {
          "output_type": "stream",
          "name": "stdout",
          "text": [
            "Epoch 1/100\n",
            "144/144 [==============================] - 4s 23ms/step - loss: 4.0531 - accuracy: 0.0475 - val_loss: 3.6719 - val_accuracy: 0.1254\n",
            "Epoch 2/100\n",
            "144/144 [==============================] - 3s 22ms/step - loss: 3.2338 - accuracy: 0.1962 - val_loss: 2.7682 - val_accuracy: 0.2993\n",
            "Epoch 3/100\n",
            "144/144 [==============================] - 3s 22ms/step - loss: 2.6440 - accuracy: 0.3298 - val_loss: 2.3656 - val_accuracy: 0.4014\n",
            "Epoch 4/100\n",
            "144/144 [==============================] - 3s 22ms/step - loss: 2.3248 - accuracy: 0.3838 - val_loss: 2.1525 - val_accuracy: 0.4516\n",
            "Epoch 5/100\n",
            "144/144 [==============================] - 3s 21ms/step - loss: 2.0841 - accuracy: 0.4547 - val_loss: 2.0079 - val_accuracy: 0.4624\n",
            "Epoch 6/100\n",
            "144/144 [==============================] - 3s 22ms/step - loss: 1.9145 - accuracy: 0.4863 - val_loss: 1.8912 - val_accuracy: 0.4910\n",
            "Epoch 7/100\n",
            "144/144 [==============================] - 3s 22ms/step - loss: 1.8145 - accuracy: 0.5111 - val_loss: 1.7854 - val_accuracy: 0.5323\n",
            "Epoch 8/100\n",
            "144/144 [==============================] - 3s 22ms/step - loss: 1.6836 - accuracy: 0.5377 - val_loss: 1.6954 - val_accuracy: 0.5502\n",
            "Epoch 9/100\n",
            "144/144 [==============================] - 3s 22ms/step - loss: 1.5723 - accuracy: 0.5700 - val_loss: 1.6680 - val_accuracy: 0.5520\n",
            "Epoch 10/100\n",
            "144/144 [==============================] - 3s 22ms/step - loss: 1.5087 - accuracy: 0.5802 - val_loss: 1.5991 - val_accuracy: 0.5735\n",
            "Epoch 11/100\n",
            "144/144 [==============================] - 3s 22ms/step - loss: 1.4377 - accuracy: 0.5926 - val_loss: 1.5306 - val_accuracy: 0.5914\n",
            "Epoch 12/100\n",
            "144/144 [==============================] - 3s 22ms/step - loss: 1.3641 - accuracy: 0.6236 - val_loss: 1.4739 - val_accuracy: 0.6290\n",
            "Epoch 13/100\n",
            "144/144 [==============================] - 3s 22ms/step - loss: 1.3129 - accuracy: 0.6321 - val_loss: 1.4753 - val_accuracy: 0.6237\n",
            "Epoch 14/100\n",
            "144/144 [==============================] - 3s 22ms/step - loss: 1.2492 - accuracy: 0.6417 - val_loss: 1.4237 - val_accuracy: 0.6326\n",
            "Epoch 15/100\n",
            "144/144 [==============================] - 3s 22ms/step - loss: 1.2212 - accuracy: 0.6526 - val_loss: 1.3948 - val_accuracy: 0.6380\n",
            "Epoch 16/100\n",
            "144/144 [==============================] - 3s 22ms/step - loss: 1.1659 - accuracy: 0.6650 - val_loss: 1.3593 - val_accuracy: 0.6505\n",
            "Epoch 17/100\n",
            "144/144 [==============================] - 3s 22ms/step - loss: 1.1158 - accuracy: 0.6694 - val_loss: 1.3292 - val_accuracy: 0.6631\n",
            "Epoch 18/100\n",
            "144/144 [==============================] - 3s 22ms/step - loss: 1.0701 - accuracy: 0.6868 - val_loss: 1.3294 - val_accuracy: 0.6505\n",
            "Epoch 19/100\n",
            "144/144 [==============================] - 3s 22ms/step - loss: 1.0340 - accuracy: 0.6988 - val_loss: 1.3177 - val_accuracy: 0.6631\n",
            "Epoch 20/100\n",
            "144/144 [==============================] - 3s 22ms/step - loss: 0.9815 - accuracy: 0.7119 - val_loss: 1.2740 - val_accuracy: 0.6667\n",
            "Epoch 21/100\n",
            "144/144 [==============================] - 3s 22ms/step - loss: 0.9624 - accuracy: 0.7201 - val_loss: 1.2705 - val_accuracy: 0.6559\n",
            "Epoch 22/100\n",
            "144/144 [==============================] - 3s 22ms/step - loss: 0.9396 - accuracy: 0.7201 - val_loss: 1.2344 - val_accuracy: 0.6792\n",
            "Epoch 23/100\n",
            "144/144 [==============================] - 3s 22ms/step - loss: 0.8981 - accuracy: 0.7262 - val_loss: 1.2539 - val_accuracy: 0.6577\n",
            "Epoch 24/100\n",
            "144/144 [==============================] - 3s 22ms/step - loss: 0.8893 - accuracy: 0.7273 - val_loss: 1.2111 - val_accuracy: 0.6703\n",
            "Epoch 25/100\n",
            "144/144 [==============================] - 3s 22ms/step - loss: 0.8270 - accuracy: 0.7500 - val_loss: 1.2130 - val_accuracy: 0.6810\n",
            "Epoch 26/100\n",
            "144/144 [==============================] - 3s 22ms/step - loss: 0.8140 - accuracy: 0.7576 - val_loss: 1.2172 - val_accuracy: 0.6935\n",
            "Epoch 27/100\n",
            "144/144 [==============================] - 3s 22ms/step - loss: 0.7948 - accuracy: 0.7622 - val_loss: 1.1794 - val_accuracy: 0.6900\n",
            "Epoch 28/100\n",
            "144/144 [==============================] - 3s 21ms/step - loss: 0.7723 - accuracy: 0.7616 - val_loss: 1.1891 - val_accuracy: 0.6846\n",
            "Epoch 29/100\n",
            "144/144 [==============================] - 3s 22ms/step - loss: 0.7386 - accuracy: 0.7687 - val_loss: 1.1951 - val_accuracy: 0.6828\n",
            "Epoch 30/100\n",
            "144/144 [==============================] - 3s 22ms/step - loss: 0.7252 - accuracy: 0.7753 - val_loss: 1.1927 - val_accuracy: 0.6828\n",
            "Epoch 31/100\n",
            "144/144 [==============================] - 3s 22ms/step - loss: 0.7455 - accuracy: 0.7635 - val_loss: 1.1894 - val_accuracy: 0.7079\n",
            "Epoch 32/100\n",
            "144/144 [==============================] - 3s 22ms/step - loss: 0.6879 - accuracy: 0.7836 - val_loss: 1.1715 - val_accuracy: 0.6756\n",
            "Epoch 33/100\n",
            "144/144 [==============================] - 3s 22ms/step - loss: 0.6727 - accuracy: 0.7897 - val_loss: 1.1571 - val_accuracy: 0.6953\n",
            "Epoch 34/100\n",
            "144/144 [==============================] - 3s 22ms/step - loss: 0.6428 - accuracy: 0.7949 - val_loss: 1.1447 - val_accuracy: 0.6971\n",
            "Epoch 35/100\n",
            "144/144 [==============================] - 3s 22ms/step - loss: 0.6443 - accuracy: 0.7984 - val_loss: 1.1480 - val_accuracy: 0.6935\n",
            "Epoch 36/100\n",
            "144/144 [==============================] - 3s 22ms/step - loss: 0.6119 - accuracy: 0.8139 - val_loss: 1.1671 - val_accuracy: 0.7061\n",
            "Epoch 37/100\n",
            "144/144 [==============================] - 3s 22ms/step - loss: 0.5972 - accuracy: 0.8132 - val_loss: 1.1404 - val_accuracy: 0.6971\n",
            "Epoch 38/100\n",
            "144/144 [==============================] - 3s 22ms/step - loss: 0.5739 - accuracy: 0.8180 - val_loss: 1.1608 - val_accuracy: 0.7079\n",
            "Epoch 39/100\n",
            "144/144 [==============================] - 3s 22ms/step - loss: 0.5683 - accuracy: 0.8171 - val_loss: 1.1381 - val_accuracy: 0.7079\n",
            "Epoch 40/100\n",
            "144/144 [==============================] - 3s 22ms/step - loss: 0.5594 - accuracy: 0.8241 - val_loss: 1.1504 - val_accuracy: 0.7007\n",
            "Epoch 41/100\n",
            "144/144 [==============================] - 3s 22ms/step - loss: 0.5240 - accuracy: 0.8346 - val_loss: 1.1657 - val_accuracy: 0.7061\n",
            "Epoch 42/100\n",
            "144/144 [==============================] - 3s 22ms/step - loss: 0.5349 - accuracy: 0.8296 - val_loss: 1.1319 - val_accuracy: 0.7168\n",
            "Epoch 43/100\n",
            "144/144 [==============================] - 3s 22ms/step - loss: 0.5285 - accuracy: 0.8328 - val_loss: 1.1577 - val_accuracy: 0.7115\n",
            "Epoch 44/100\n",
            "144/144 [==============================] - 3s 22ms/step - loss: 0.5051 - accuracy: 0.8385 - val_loss: 1.1327 - val_accuracy: 0.7025\n",
            "Epoch 45/100\n",
            "144/144 [==============================] - 3s 22ms/step - loss: 0.4968 - accuracy: 0.8374 - val_loss: 1.1890 - val_accuracy: 0.7079\n",
            "Epoch 46/100\n",
            "144/144 [==============================] - 3s 22ms/step - loss: 0.4843 - accuracy: 0.8444 - val_loss: 1.1443 - val_accuracy: 0.7222\n",
            "Epoch 47/100\n",
            "144/144 [==============================] - 3s 22ms/step - loss: 0.4599 - accuracy: 0.8524 - val_loss: 1.1628 - val_accuracy: 0.7025\n",
            "Epoch 48/100\n",
            "144/144 [==============================] - 3s 22ms/step - loss: 0.4628 - accuracy: 0.8487 - val_loss: 1.1792 - val_accuracy: 0.7007\n",
            "Epoch 49/100\n",
            "144/144 [==============================] - 3s 22ms/step - loss: 0.4567 - accuracy: 0.8568 - val_loss: 1.1974 - val_accuracy: 0.6989\n",
            "Epoch 50/100\n",
            "144/144 [==============================] - 3s 22ms/step - loss: 0.4368 - accuracy: 0.8599 - val_loss: 1.1349 - val_accuracy: 0.7186\n",
            "Epoch 51/100\n",
            "144/144 [==============================] - 3s 22ms/step - loss: 0.4153 - accuracy: 0.8675 - val_loss: 1.1684 - val_accuracy: 0.7007\n",
            "Epoch 52/100\n",
            "144/144 [==============================] - 3s 22ms/step - loss: 0.4145 - accuracy: 0.8653 - val_loss: 1.1301 - val_accuracy: 0.7168\n",
            "Epoch 53/100\n",
            "144/144 [==============================] - 5s 35ms/step - loss: 0.4117 - accuracy: 0.8677 - val_loss: 1.1724 - val_accuracy: 0.7258\n",
            "Epoch 54/100\n",
            "144/144 [==============================] - 3s 22ms/step - loss: 0.4003 - accuracy: 0.8684 - val_loss: 1.1908 - val_accuracy: 0.7097\n",
            "Epoch 55/100\n",
            "144/144 [==============================] - 3s 22ms/step - loss: 0.3937 - accuracy: 0.8734 - val_loss: 1.1800 - val_accuracy: 0.7007\n",
            "Epoch 56/100\n",
            "144/144 [==============================] - 3s 22ms/step - loss: 0.3700 - accuracy: 0.8762 - val_loss: 1.1920 - val_accuracy: 0.7258\n",
            "Epoch 57/100\n",
            "144/144 [==============================] - 3s 22ms/step - loss: 0.3794 - accuracy: 0.8764 - val_loss: 1.1932 - val_accuracy: 0.7276\n",
            "Epoch 58/100\n",
            "144/144 [==============================] - 3s 22ms/step - loss: 0.3776 - accuracy: 0.8806 - val_loss: 1.1915 - val_accuracy: 0.7133\n",
            "Epoch 59/100\n",
            "144/144 [==============================] - 3s 22ms/step - loss: 0.3487 - accuracy: 0.8893 - val_loss: 1.1846 - val_accuracy: 0.7276\n",
            "Epoch 60/100\n",
            "144/144 [==============================] - 3s 22ms/step - loss: 0.3552 - accuracy: 0.8832 - val_loss: 1.1663 - val_accuracy: 0.7312\n",
            "Epoch 61/100\n",
            "144/144 [==============================] - 3s 22ms/step - loss: 0.3554 - accuracy: 0.8851 - val_loss: 1.1770 - val_accuracy: 0.7151\n",
            "Epoch 62/100\n",
            "144/144 [==============================] - 3s 22ms/step - loss: 0.3310 - accuracy: 0.8923 - val_loss: 1.1425 - val_accuracy: 0.7348\n"
          ]
        }
      ]
    },
    {
      "cell_type": "markdown",
      "source": [
        "### 4.1. Quantization-aware training"
      ],
      "metadata": {
        "id": "00vheVgFrso6"
      }
    },
    {
      "cell_type": "markdown",
      "source": [
        "post-processing quantization techniques rely on the reduction of the precision of the weights and the activation function and this can lead to a reduction in the accuracy. Quantization aware training emulates inference-time quantization. This avoids the reduction in accuracy of the deployed model."
      ],
      "metadata": {
        "id": "7PiCWJrHevVt"
      }
    },
    {
      "cell_type": "code",
      "source": [
        "\n",
        "\n",
        "quantize_model = tfmot.quantization.keras.quantize_model\n",
        "\n",
        "# q_aware stands for for quantization aware.\n",
        "q_aware_model = quantize_model(model_lenet5)\n",
        "\n",
        "# `quantize_model` requires a recompile.\n",
        "q_aware_model.compile(optimizer='adam',\n",
        "              loss=tf.keras.losses.SparseCategoricalCrossentropy(),\n",
        "              metrics=['accuracy'])\n",
        "\n",
        "# q_aware stands for for quantization aware.\n",
        "q_aware_model_hd = quantize_model(model_lenet5_hd)\n",
        "\n",
        "# `quantize_model` requires a recompile.\n",
        "q_aware_model_hd.compile(optimizer='adam',\n",
        "              loss=tf.keras.losses.SparseCategoricalCrossentropy(),\n",
        "              metrics=['accuracy'])\n",
        "\n",
        "# q_aware stands for for quantization aware.\n",
        "q_aware_model_concat = quantize_model(model_lenet5_concat)\n",
        "\n",
        "# `quantize_model` requires a recompile.\n",
        "q_aware_model_concat.compile(optimizer='adam',\n",
        "              loss=tf.keras.losses.SparseCategoricalCrossentropy(),\n",
        "              metrics=['accuracy'])\n",
        "\n",
        "# q_aware stands for for quantization aware.\n",
        "small_q_aware_model = quantize_model(modified_model_lenet5)\n",
        "\n",
        "# `quantize_model` requires a recompile.\n",
        "small_q_aware_model.compile(optimizer='adam',\n",
        "              loss=tf.keras.losses.SparseCategoricalCrossentropy(),\n",
        "              metrics=['accuracy'])\n",
        "\n",
        "# q_aware stands for for quantization aware.\n",
        "small_q_aware_model_hd = quantize_model(modified_model_lenet5_hd)\n",
        "\n",
        "# `quantize_model` requires a recompile.\n",
        "small_q_aware_model_hd.compile(optimizer='adam',\n",
        "              loss=tf.keras.losses.SparseCategoricalCrossentropy(),\n",
        "              metrics=['accuracy'])\n",
        "# q_aware stands for for quantization aware.\n",
        "small_q_aware_model_concat = quantize_model(modified_model_lenet5_concat)\n",
        "\n",
        "# `quantize_model` requires a recompile.\n",
        "small_q_aware_model_concat.compile(optimizer='adam',\n",
        "              loss=tf.keras.losses.SparseCategoricalCrossentropy(),\n",
        "              metrics=['accuracy'])"
      ],
      "metadata": {
        "id": "4IFi09G3uW2s"
      },
      "execution_count": null,
      "outputs": []
    },
    {
      "cell_type": "code",
      "source": [
        "# dataset = tf.data.Dataset.from_tensor_slices((X_val, y_val))\n",
        "\n",
        "q_aware_model.fit(X_val, y_val, epochs=5)"
      ],
      "metadata": {
        "colab": {
          "base_uri": "https://localhost:8080/"
        },
        "id": "QarX2JGruqZS",
        "outputId": "ae021f67-ee76-4092-cbd2-28612df19d4b"
      },
      "execution_count": null,
      "outputs": [
        {
          "output_type": "stream",
          "name": "stdout",
          "text": [
            "Epoch 1/5\n",
            "10/10 [==============================] - 1s 26ms/step - loss: 2.1144 - accuracy: 0.4097\n",
            "Epoch 2/5\n",
            "10/10 [==============================] - 0s 27ms/step - loss: 1.7931 - accuracy: 0.4710\n",
            "Epoch 3/5\n",
            "10/10 [==============================] - 0s 27ms/step - loss: 1.5073 - accuracy: 0.5226\n",
            "Epoch 4/5\n",
            "10/10 [==============================] - 0s 26ms/step - loss: 1.3031 - accuracy: 0.6097\n",
            "Epoch 5/5\n",
            "10/10 [==============================] - 0s 26ms/step - loss: 1.2592 - accuracy: 0.6000\n"
          ]
        },
        {
          "output_type": "execute_result",
          "data": {
            "text/plain": [
              "<keras.callbacks.History at 0x7f0c01d849d0>"
            ]
          },
          "metadata": {},
          "execution_count": 37
        }
      ]
    },
    {
      "cell_type": "code",
      "source": [
        "q_aware_model_hd.fit(X_val_hd, y_val_hd, epochs=5)"
      ],
      "metadata": {
        "colab": {
          "base_uri": "https://localhost:8080/"
        },
        "id": "YWxZakYRssXY",
        "outputId": "6359baa0-edde-4860-b182-3a7ccb4480c4"
      },
      "execution_count": null,
      "outputs": [
        {
          "output_type": "stream",
          "name": "stdout",
          "text": [
            "Epoch 1/5\n",
            "6/6 [==============================] - 2s 27ms/step - loss: 0.9551 - accuracy: 0.7204\n",
            "Epoch 2/5\n",
            "6/6 [==============================] - 0s 26ms/step - loss: 0.7157 - accuracy: 0.8333\n",
            "Epoch 3/5\n",
            "6/6 [==============================] - 0s 24ms/step - loss: 0.5220 - accuracy: 0.8495\n",
            "Epoch 4/5\n",
            "6/6 [==============================] - 0s 25ms/step - loss: 0.4889 - accuracy: 0.8710\n",
            "Epoch 5/5\n",
            "6/6 [==============================] - 0s 28ms/step - loss: 0.5683 - accuracy: 0.8602\n"
          ]
        },
        {
          "output_type": "execute_result",
          "data": {
            "text/plain": [
              "<keras.callbacks.History at 0x7f0c05d7ab50>"
            ]
          },
          "metadata": {},
          "execution_count": 38
        }
      ]
    },
    {
      "cell_type": "code",
      "source": [
        "q_aware_model_concat.fit(X_val_concat, y_val_concat, epochs=5)"
      ],
      "metadata": {
        "colab": {
          "base_uri": "https://localhost:8080/"
        },
        "id": "xFRlEjo5stDp",
        "outputId": "83d13a71-d378-43c8-e34e-1a6e6d04cc92"
      },
      "execution_count": null,
      "outputs": [
        {
          "output_type": "stream",
          "name": "stdout",
          "text": [
            "Epoch 1/5\n",
            "18/18 [==============================] - 2s 26ms/step - loss: 1.5506 - accuracy: 0.5251\n",
            "Epoch 2/5\n",
            "18/18 [==============================] - 0s 26ms/step - loss: 1.2156 - accuracy: 0.6111\n",
            "Epoch 3/5\n",
            "18/18 [==============================] - 0s 25ms/step - loss: 1.1362 - accuracy: 0.6183\n",
            "Epoch 4/5\n",
            "18/18 [==============================] - 0s 26ms/step - loss: 0.9926 - accuracy: 0.6828\n",
            "Epoch 5/5\n",
            "18/18 [==============================] - 0s 25ms/step - loss: 0.8892 - accuracy: 0.7222\n"
          ]
        },
        {
          "output_type": "execute_result",
          "data": {
            "text/plain": [
              "<keras.callbacks.History at 0x7f0c02abd450>"
            ]
          },
          "metadata": {},
          "execution_count": 39
        }
      ]
    },
    {
      "cell_type": "code",
      "source": [
        "small_q_aware_model.fit(small_X_val, small_y_val, epochs = 5)"
      ],
      "metadata": {
        "colab": {
          "base_uri": "https://localhost:8080/"
        },
        "id": "fnyRicEHI2Aa",
        "outputId": "5ab31f15-c94f-41a8-d9a0-337ff43f481a"
      },
      "execution_count": null,
      "outputs": [
        {
          "output_type": "stream",
          "name": "stdout",
          "text": [
            "Epoch 1/5\n",
            "6/6 [==============================] - 1s 24ms/step - loss: 2.6873 - accuracy: 0.3495\n",
            "Epoch 2/5\n",
            "6/6 [==============================] - 0s 23ms/step - loss: 2.4521 - accuracy: 0.4355\n",
            "Epoch 3/5\n",
            "6/6 [==============================] - 0s 24ms/step - loss: 2.1378 - accuracy: 0.4624\n",
            "Epoch 4/5\n",
            "6/6 [==============================] - 0s 26ms/step - loss: 1.9994 - accuracy: 0.5108\n",
            "Epoch 5/5\n",
            "6/6 [==============================] - 0s 25ms/step - loss: 1.8910 - accuracy: 0.5054\n"
          ]
        },
        {
          "output_type": "execute_result",
          "data": {
            "text/plain": [
              "<keras.callbacks.History at 0x7f0bfeff0750>"
            ]
          },
          "metadata": {},
          "execution_count": 40
        }
      ]
    },
    {
      "cell_type": "code",
      "source": [
        "small_q_aware_model_hd.fit(small_X_val_hd, small_y_val_hd, epochs = 5)"
      ],
      "metadata": {
        "colab": {
          "base_uri": "https://localhost:8080/"
        },
        "id": "cDne5zOzI2hi",
        "outputId": "ff6b7055-0259-450d-90e9-d8dec79cdee8"
      },
      "execution_count": null,
      "outputs": [
        {
          "output_type": "stream",
          "name": "stdout",
          "text": [
            "Epoch 1/5\n",
            "6/6 [==============================] - 1s 25ms/step - loss: 0.6582 - accuracy: 0.8387\n",
            "Epoch 2/5\n",
            "6/6 [==============================] - 0s 26ms/step - loss: 0.5337 - accuracy: 0.8495\n",
            "Epoch 3/5\n",
            "6/6 [==============================] - 0s 23ms/step - loss: 0.3754 - accuracy: 0.8871\n",
            "Epoch 4/5\n",
            "6/6 [==============================] - 0s 25ms/step - loss: 0.2599 - accuracy: 0.9140\n",
            "Epoch 5/5\n",
            "6/6 [==============================] - 0s 22ms/step - loss: 0.2501 - accuracy: 0.9409\n"
          ]
        },
        {
          "output_type": "execute_result",
          "data": {
            "text/plain": [
              "<keras.callbacks.History at 0x7f0bfee28150>"
            ]
          },
          "metadata": {},
          "execution_count": 41
        }
      ]
    },
    {
      "cell_type": "code",
      "source": [
        "small_q_aware_model_concat.fit(small_X_val_concat, small_y_val_concat, epochs = 5)"
      ],
      "metadata": {
        "colab": {
          "base_uri": "https://localhost:8080/"
        },
        "id": "FMDCe1jzI2Vz",
        "outputId": "74705dce-cdcf-49b0-8a47-ba23c5a9d1cd"
      },
      "execution_count": null,
      "outputs": [
        {
          "output_type": "stream",
          "name": "stdout",
          "text": [
            "Epoch 1/5\n",
            "18/18 [==============================] - 1s 22ms/step - loss: 1.5162 - accuracy: 0.5878\n",
            "Epoch 2/5\n",
            "18/18 [==============================] - 0s 23ms/step - loss: 1.2010 - accuracy: 0.6828\n",
            "Epoch 3/5\n",
            "18/18 [==============================] - 0s 22ms/step - loss: 1.0485 - accuracy: 0.7133\n",
            "Epoch 4/5\n",
            "18/18 [==============================] - 0s 23ms/step - loss: 0.9826 - accuracy: 0.7133\n",
            "Epoch 5/5\n",
            "18/18 [==============================] - 0s 22ms/step - loss: 0.8492 - accuracy: 0.7634\n"
          ]
        },
        {
          "output_type": "execute_result",
          "data": {
            "text/plain": [
              "<keras.callbacks.History at 0x7f0bfebb7d10>"
            ]
          },
          "metadata": {},
          "execution_count": 42
        }
      ]
    },
    {
      "cell_type": "markdown",
      "source": [
        "## 5. Model test"
      ],
      "metadata": {
        "id": "hjI58AGtqQra"
      }
    },
    {
      "cell_type": "code",
      "execution_count": null,
      "metadata": {
        "id": "hISRuqKsUf7S"
      },
      "outputs": [],
      "source": [
        "from sys import getsizeof\n",
        "def get_file_size(file_path):\n",
        "    size = os.path.getsize(file_path)\n",
        "    return size\n",
        "\n",
        "def convert_bytes(size, unit=None):\n",
        "    if unit == \"KB\":\n",
        "        return print('File size: ' + str(round(size / 1024, 3)) + ' Kilobytes')\n",
        "    elif unit == \"MB\":\n",
        "        return print('File size: ' + str(round(size / (1024 * 1024), 3)) + ' Megabytes')\n",
        "    else:\n",
        "        return print('File size: ' + str(size) + ' bytes')"
      ]
    },
    {
      "cell_type": "markdown",
      "source": [
        "### 5.1 evaluation on lenet5 models"
      ],
      "metadata": {
        "id": "ej_9Ke3ATIwf"
      }
    },
    {
      "cell_type": "code",
      "source": [
        "model_name = \"tf_lenet5.h5\"\n",
        "model_lenet5.save(model_name)\n",
        "convert_bytes(get_file_size(model_name),\"MB\")"
      ],
      "metadata": {
        "id": "F_hEmctxUsMz",
        "colab": {
          "base_uri": "https://localhost:8080/"
        },
        "outputId": "925f1e72-6036-4b03-a6bc-713d20b328b0"
      },
      "execution_count": null,
      "outputs": [
        {
          "output_type": "stream",
          "name": "stdout",
          "text": [
            "File size: 0.81 Megabytes\n"
          ]
        }
      ]
    },
    {
      "cell_type": "code",
      "execution_count": null,
      "metadata": {
        "id": "_kiG1uWqUQ54",
        "colab": {
          "base_uri": "https://localhost:8080/"
        },
        "outputId": "fca88268-97cb-4d08-c2b8-6a5ffa25398f"
      },
      "outputs": [
        {
          "output_type": "stream",
          "name": "stdout",
          "text": [
            "6/6 [==============================] - 0s 12ms/step - loss: 1.5031 - accuracy: 0.5753\n"
          ]
        }
      ],
      "source": [
        "test_loss, test_acc = model_lenet5.evaluate(X_test, y_test)"
      ]
    },
    {
      "cell_type": "code",
      "source": [
        "test_loss, test_acc = model_lenet5_hd.evaluate(X_test_hd, y_test_hd)"
      ],
      "metadata": {
        "colab": {
          "base_uri": "https://localhost:8080/"
        },
        "id": "ZxdzPHccs2pu",
        "outputId": "de7ac506-6038-43f2-ca43-a3458132106c"
      },
      "execution_count": null,
      "outputs": [
        {
          "output_type": "stream",
          "name": "stdout",
          "text": [
            "4/4 [==============================] - 0s 12ms/step - loss: 0.5535 - accuracy: 0.8790\n"
          ]
        }
      ]
    },
    {
      "cell_type": "code",
      "source": [
        "test_loss, test_acc = model_lenet5_concat.evaluate(X_test_concat, y_test_concat)"
      ],
      "metadata": {
        "colab": {
          "base_uri": "https://localhost:8080/"
        },
        "id": "mZtFqSS_s3Kz",
        "outputId": "5e4981a0-7119-492d-9a29-4e5f438a14df"
      },
      "execution_count": null,
      "outputs": [
        {
          "output_type": "stream",
          "name": "stdout",
          "text": [
            "8/8 [==============================] - 0s 13ms/step - loss: 1.0461 - accuracy: 0.6895\n"
          ]
        }
      ]
    },
    {
      "cell_type": "code",
      "source": [
        "for img, label in zip(X_test, y_test):\n",
        "  pred = model_lenet5.predict(np.expand_dims(img, 0))\n",
        "  predicted_label = index_to_labels_mapping[np.argmax(pred)]\n",
        "  true_label = index_to_labels_mapping[label]\n",
        "  if predicted_label != true_label:\n",
        "    print(f\"predicted label: {predicted_label}, true label: {true_label}\")\n",
        "    print(\"image: \")\n",
        "    cv2_imshow(img * 255)\n",
        "    print(\"\\n\")\n",
        "  "
      ],
      "metadata": {
        "id": "g593j44lTbBs",
        "colab": {
          "base_uri": "https://localhost:8080/",
          "height": 1000
        },
        "outputId": "a9f8e5e2-e853-4a94-e75e-20beec678191"
      },
      "execution_count": null,
      "outputs": [
        {
          "output_type": "stream",
          "name": "stdout",
          "text": [
            "predicted label: O, true label: 0\n",
            "image: \n"
          ]
        },
        {
          "output_type": "display_data",
          "data": {
            "text/plain": [
              "<PIL.Image.Image image mode=L size=28x28 at 0x7F0BF9F325D0>"
            ],
            "image/png": "[encoded data removed]"
          },
          "metadata": {}
        },
        {
          "output_type": "stream",
          "name": "stdout",
          "text": [
            "\n",
            "\n",
            "predicted label: u, true label: 0\n",
            "image: \n"
          ]
        },
        {
          "output_type": "display_data",
          "data": {
            "text/plain": [
              "<PIL.Image.Image image mode=L size=28x28 at 0x7F0BF9F5FC90>"
            ],
            "image/png": "[encoded data removed]"
          },
          "metadata": {}
        },
        {
          "output_type": "stream",
          "name": "stdout",
          "text": [
            "\n",
            "\n",
            "predicted label: r, true label: 1\n",
            "image: \n"
          ]
        },
        {
          "output_type": "display_data",
          "data": {
            "text/plain": [
              "<PIL.Image.Image image mode=L size=28x28 at 0x7F0BF988D1D0>"
            ],
            "image/png": "[encoded data removed]"
          },
          "metadata": {}
        },
        {
          "output_type": "stream",
          "name": "stdout",
          "text": [
            "\n",
            "\n",
            "predicted label: l, true label: 1\n",
            "image: \n"
          ]
        },
        {
          "output_type": "display_data",
          "data": {
            "text/plain": [
              "<PIL.Image.Image image mode=L size=28x28 at 0x7F0BF9880C10>"
            ],
            "image/png": "[encoded data removed]"
          },
          "metadata": {}
        },
        {
          "output_type": "stream",
          "name": "stdout",
          "text": [
            "\n",
            "\n",
            "predicted label: c, true label: 2\n",
            "image: \n"
          ]
        },
        {
          "output_type": "display_data",
          "data": {
            "text/plain": [
              "<PIL.Image.Image image mode=L size=28x28 at 0x7F0BF941E290>"
            ],
            "image/png": "[encoded data removed]"
          },
          "metadata": {}
        },
        {
          "output_type": "stream",
          "name": "stdout",
          "text": [
            "\n",
            "\n",
            "predicted label: 1, true label: 2\n",
            "image: \n"
          ]
        },
        {
          "output_type": "display_data",
          "data": {
            "text/plain": [
              "<PIL.Image.Image image mode=L size=28x28 at 0x7F0BF9889A50>"
            ],
            "image/png": "[encoded data removed]"
          },
          "metadata": {}
        },
        {
          "output_type": "stream",
          "name": "stdout",
          "text": [
            "\n",
            "\n",
            "predicted label: 9, true label: 3\n",
            "image: \n"
          ]
        },
        {
          "output_type": "display_data",
          "data": {
            "text/plain": [
              "<PIL.Image.Image image mode=L size=28x28 at 0x7F0BF9CE9110>"
            ],
            "image/png": "[encoded data removed]"
          },
          "metadata": {}
        },
        {
          "output_type": "stream",
          "name": "stdout",
          "text": [
            "\n",
            "\n",
            "predicted label: r, true label: 3\n",
            "image: \n"
          ]
        },
        {
          "output_type": "display_data",
          "data": {
            "text/plain": [
              "<PIL.Image.Image image mode=L size=28x28 at 0x7F0BF981DFD0>"
            ],
            "image/png": "[encoded data removed]"
          },
          "metadata": {}
        },
        {
          "output_type": "stream",
          "name": "stdout",
          "text": [
            "\n",
            "\n",
            "predicted label: f, true label: 4\n",
            "image: \n"
          ]
        },
        {
          "output_type": "display_data",
          "data": {
            "text/plain": [
              "<PIL.Image.Image image mode=L size=28x28 at 0x7F0BFA00D310>"
            ],
            "image/png": "[encoded data removed]"
          },
          "metadata": {}
        },
        {
          "output_type": "stream",
          "name": "stdout",
          "text": [
            "\n",
            "\n",
            "predicted label: d, true label: 4\n",
            "image: \n"
          ]
        },
        {
          "output_type": "display_data",
          "data": {
            "text/plain": [
              "<PIL.Image.Image image mode=L size=28x28 at 0x7F0BF9FE6210>"
            ],
            "image/png": "[encoded data removed]"
          },
          "metadata": {}
        },
        {
          "output_type": "stream",
          "name": "stdout",
          "text": [
            "\n",
            "\n",
            "predicted label: f, true label: 5\n",
            "image: \n"
          ]
        },
        {
          "output_type": "display_data",
          "data": {
            "text/plain": [
              "<PIL.Image.Image image mode=L size=28x28 at 0x7F0BF9FE6410>"
            ],
            "image/png": "[encoded data removed]"
          },
          "metadata": {}
        },
        {
          "output_type": "stream",
          "name": "stdout",
          "text": [
            "\n",
            "\n",
            "predicted label: S, true label: 5\n",
            "image: \n"
          ]
        },
        {
          "output_type": "display_data",
          "data": {
            "text/plain": [
              "<PIL.Image.Image image mode=L size=28x28 at 0x7F0BF9D17910>"
            ],
            "image/png": "[encoded data removed]"
          },
          "metadata": {}
        },
        {
          "output_type": "stream",
          "name": "stdout",
          "text": [
            "\n",
            "\n",
            "predicted label: i, true label: 6\n",
            "image: \n"
          ]
        },
        {
          "output_type": "display_data",
          "data": {
            "text/plain": [
              "<PIL.Image.Image image mode=L size=28x28 at 0x7F0BF9879D90>"
            ],
            "image/png": "[encoded data removed]"
          },
          "metadata": {}
        },
        {
          "output_type": "stream",
          "name": "stdout",
          "text": [
            "\n",
            "\n",
            "predicted label: 4, true label: 6\n",
            "image: \n"
          ]
        },
        {
          "output_type": "display_data",
          "data": {
            "text/plain": [
              "<PIL.Image.Image image mode=L size=28x28 at 0x7F0BF9893A10>"
            ],
            "image/png": "[encoded data removed]"
          },
          "metadata": {}
        },
        {
          "output_type": "stream",
          "name": "stdout",
          "text": [
            "\n",
            "\n",
            "predicted label: T, true label: 7\n",
            "image: \n"
          ]
        },
        {
          "output_type": "display_data",
          "data": {
            "text/plain": [
              "<PIL.Image.Image image mode=L size=28x28 at 0x7F0BF9806810>"
            ],
            "image/png": "[encoded data removed]"
          },
          "metadata": {}
        },
        {
          "output_type": "stream",
          "name": "stdout",
          "text": [
            "\n",
            "\n",
            "predicted label: Y, true label: 7\n",
            "image: \n"
          ]
        },
        {
          "output_type": "display_data",
          "data": {
            "text/plain": [
              "<PIL.Image.Image image mode=L size=28x28 at 0x7F0BF9881550>"
            ],
            "image/png": "[encoded data removed]"
          },
          "metadata": {}
        },
        {
          "output_type": "stream",
          "name": "stdout",
          "text": [
            "\n",
            "\n",
            "predicted label: q, true label: 9\n",
            "image: \n"
          ]
        },
        {
          "output_type": "display_data",
          "data": {
            "text/plain": [
              "<PIL.Image.Image image mode=L size=28x28 at 0x7F0BF9D02E10>"
            ],
            "image/png": "[encoded data removed]"
          },
          "metadata": {}
        },
        {
          "output_type": "stream",
          "name": "stdout",
          "text": [
            "\n",
            "\n",
            "predicted label: k, true label: A\n",
            "image: \n"
          ]
        },
        {
          "output_type": "display_data",
          "data": {
            "text/plain": [
              "<PIL.Image.Image image mode=L size=28x28 at 0x7F0BF9F5F3D0>"
            ],
            "image/png": "[encoded data removed]"
          },
          "metadata": {}
        },
        {
          "output_type": "stream",
          "name": "stdout",
          "text": [
            "\n",
            "\n",
            "predicted label: k, true label: A\n",
            "image: \n"
          ]
        },
        {
          "output_type": "display_data",
          "data": {
            "text/plain": [
              "<PIL.Image.Image image mode=L size=28x28 at 0x7F0BF988D710>"
            ],
            "image/png": "[encoded data removed]"
          },
          "metadata": {}
        },
        {
          "output_type": "stream",
          "name": "stdout",
          "text": [
            "\n",
            "\n",
            "predicted label: c, true label: C\n",
            "image: \n"
          ]
        },
        {
          "output_type": "display_data",
          "data": {
            "text/plain": [
              "<PIL.Image.Image image mode=L size=28x28 at 0x7F0BF9893110>"
            ],
            "image/png": "[encoded data removed]"
          },
          "metadata": {}
        },
        {
          "output_type": "stream",
          "name": "stdout",
          "text": [
            "\n",
            "\n",
            "predicted label: F, true label: E\n",
            "image: \n"
          ]
        },
        {
          "output_type": "display_data",
          "data": {
            "text/plain": [
              "<PIL.Image.Image image mode=L size=28x28 at 0x7F0BF9F41B50>"
            ],
            "image/png": "[encoded data removed]"
          },
          "metadata": {}
        },
        {
          "output_type": "stream",
          "name": "stdout",
          "text": [
            "\n",
            "\n",
            "predicted label: P, true label: F\n",
            "image: \n"
          ]
        },
        {
          "output_type": "display_data",
          "data": {
            "text/plain": [
              "<PIL.Image.Image image mode=L size=28x28 at 0x7F0BF982BE10>"
            ],
            "image/png": "[encoded data removed]"
          },
          "metadata": {}
        },
        {
          "output_type": "stream",
          "name": "stdout",
          "text": [
            "\n",
            "\n",
            "predicted label: 6, true label: G\n",
            "image: \n"
          ]
        },
        {
          "output_type": "display_data",
          "data": {
            "text/plain": [
              "<PIL.Image.Image image mode=L size=28x28 at 0x7F0BF9D0DB50>"
            ],
            "image/png": "[encoded data removed]"
          },
          "metadata": {}
        },
        {
          "output_type": "stream",
          "name": "stdout",
          "text": [
            "\n",
            "\n",
            "predicted label: 4, true label: G\n",
            "image: \n"
          ]
        },
        {
          "output_type": "display_data",
          "data": {
            "text/plain": [
              "<PIL.Image.Image image mode=L size=28x28 at 0x7F0BF9CE3610>"
            ],
            "image/png": "[encoded data removed]"
          },
          "metadata": {}
        },
        {
          "output_type": "stream",
          "name": "stdout",
          "text": [
            "\n",
            "\n",
            "predicted label: M, true label: H\n",
            "image: \n"
          ]
        },
        {
          "output_type": "display_data",
          "data": {
            "text/plain": [
              "<PIL.Image.Image image mode=L size=28x28 at 0x7F0BF9F41E10>"
            ],
            "image/png": "[encoded data removed]"
          },
          "metadata": {}
        },
        {
          "output_type": "stream",
          "name": "stdout",
          "text": [
            "\n",
            "\n",
            "predicted label: w, true label: H\n",
            "image: \n"
          ]
        },
        {
          "output_type": "display_data",
          "data": {
            "text/plain": [
              "<PIL.Image.Image image mode=L size=28x28 at 0x7F0BF9889890>"
            ],
            "image/png": "[encoded data removed]"
          },
          "metadata": {}
        },
        {
          "output_type": "stream",
          "name": "stdout",
          "text": [
            "\n",
            "\n",
            "predicted label: N, true label: H\n",
            "image: \n"
          ]
        },
        {
          "output_type": "display_data",
          "data": {
            "text/plain": [
              "<PIL.Image.Image image mode=L size=28x28 at 0x7F0BF9889D90>"
            ],
            "image/png": "[encoded data removed]"
          },
          "metadata": {}
        },
        {
          "output_type": "stream",
          "name": "stdout",
          "text": [
            "\n",
            "\n",
            "predicted label: 1, true label: I\n",
            "image: \n"
          ]
        },
        {
          "output_type": "display_data",
          "data": {
            "text/plain": [
              "<PIL.Image.Image image mode=L size=28x28 at 0x7F0BF9453250>"
            ],
            "image/png": "[encoded data removed]"
          },
          "metadata": {}
        },
        {
          "output_type": "stream",
          "name": "stdout",
          "text": [
            "\n",
            "\n",
            "predicted label: l, true label: I\n",
            "image: \n"
          ]
        },
        {
          "output_type": "display_data",
          "data": {
            "text/plain": [
              "<PIL.Image.Image image mode=L size=28x28 at 0x7F0BF9CE94D0>"
            ],
            "image/png": "[encoded data removed]"
          },
          "metadata": {}
        },
        {
          "output_type": "stream",
          "name": "stdout",
          "text": [
            "\n",
            "\n",
            "predicted label: j, true label: J\n",
            "image: \n"
          ]
        },
        {
          "output_type": "display_data",
          "data": {
            "text/plain": [
              "<PIL.Image.Image image mode=L size=28x28 at 0x7F0BF983E650>"
            ],
            "image/png": "[encoded data removed]"
          },
          "metadata": {}
        },
        {
          "output_type": "stream",
          "name": "stdout",
          "text": [
            "\n",
            "\n",
            "predicted label: r, true label: K\n",
            "image: \n"
          ]
        },
        {
          "output_type": "display_data",
          "data": {
            "text/plain": [
              "<PIL.Image.Image image mode=L size=28x28 at 0x7F0BF9F54FD0>"
            ],
            "image/png": "[encoded data removed]"
          },
          "metadata": {}
        },
        {
          "output_type": "stream",
          "name": "stdout",
          "text": [
            "\n",
            "\n",
            "predicted label: A, true label: M\n",
            "image: \n"
          ]
        },
        {
          "output_type": "display_data",
          "data": {
            "text/plain": [
              "<PIL.Image.Image image mode=L size=28x28 at 0x7F0BF9CE3DD0>"
            ],
            "image/png": "[encoded data removed]"
          },
          "metadata": {}
        },
        {
          "output_type": "stream",
          "name": "stdout",
          "text": [
            "\n",
            "\n",
            "predicted label: m, true label: N\n",
            "image: \n"
          ]
        },
        {
          "output_type": "display_data",
          "data": {
            "text/plain": [
              "<PIL.Image.Image image mode=L size=28x28 at 0x7F0BF98936D0>"
            ],
            "image/png": "[encoded data removed]"
          },
          "metadata": {}
        },
        {
          "output_type": "stream",
          "name": "stdout",
          "text": [
            "\n",
            "\n",
            "predicted label: 0, true label: O\n",
            "image: \n"
          ]
        },
        {
          "output_type": "display_data",
          "data": {
            "text/plain": [
              "<PIL.Image.Image image mode=L size=28x28 at 0x7F0BF9FB7410>"
            ],
            "image/png": "[encoded data removed]"
          },
          "metadata": {}
        },
        {
          "output_type": "stream",
          "name": "stdout",
          "text": [
            "\n",
            "\n",
            "predicted label: F, true label: P\n",
            "image: \n"
          ]
        },
        {
          "output_type": "display_data",
          "data": {
            "text/plain": [
              "<PIL.Image.Image image mode=L size=28x28 at 0x7F0BFA1211D0>"
            ],
            "image/png": "[encoded data removed]"
          },
          "metadata": {}
        },
        {
          "output_type": "stream",
          "name": "stdout",
          "text": [
            "\n",
            "\n",
            "predicted label: O, true label: Q\n",
            "image: \n"
          ]
        },
        {
          "output_type": "display_data",
          "data": {
            "text/plain": [
              "<PIL.Image.Image image mode=L size=28x28 at 0x7F0BF9879110>"
            ],
            "image/png": "[encoded data removed]"
          },
          "metadata": {}
        },
        {
          "output_type": "stream",
          "name": "stdout",
          "text": [
            "\n",
            "\n",
            "predicted label: 5, true label: S\n",
            "image: \n"
          ]
        },
        {
          "output_type": "display_data",
          "data": {
            "text/plain": [
              "<PIL.Image.Image image mode=L size=28x28 at 0x7F0BF70EC250>"
            ],
            "image/png": "[encoded data removed]"
          },
          "metadata": {}
        },
        {
          "output_type": "stream",
          "name": "stdout",
          "text": [
            "\n",
            "\n",
            "predicted label: 7, true label: T\n",
            "image: \n"
          ]
        },
        {
          "output_type": "display_data",
          "data": {
            "text/plain": [
              "<PIL.Image.Image image mode=L size=28x28 at 0x7F0BF95736D0>"
            ],
            "image/png": "[encoded data removed]"
          },
          "metadata": {}
        },
        {
          "output_type": "stream",
          "name": "stdout",
          "text": [
            "\n",
            "\n",
            "predicted label: K, true label: X\n",
            "image: \n"
          ]
        },
        {
          "output_type": "display_data",
          "data": {
            "text/plain": [
              "<PIL.Image.Image image mode=L size=28x28 at 0x7F0BF9586B50>"
            ],
            "image/png": "[encoded data removed]"
          },
          "metadata": {}
        },
        {
          "output_type": "stream",
          "name": "stdout",
          "text": [
            "\n",
            "\n",
            "predicted label: y, true label: Y\n",
            "image: \n"
          ]
        },
        {
          "output_type": "display_data",
          "data": {
            "text/plain": [
              "<PIL.Image.Image image mode=L size=28x28 at 0x7F0BF9E09C50>"
            ],
            "image/png": "[encoded data removed]"
          },
          "metadata": {}
        },
        {
          "output_type": "stream",
          "name": "stdout",
          "text": [
            "\n",
            "\n",
            "predicted label: I, true label: Z\n",
            "image: \n"
          ]
        },
        {
          "output_type": "display_data",
          "data": {
            "text/plain": [
              "<PIL.Image.Image image mode=L size=28x28 at 0x7F0BF71155D0>"
            ],
            "image/png": "[encoded data removed]"
          },
          "metadata": {}
        },
        {
          "output_type": "stream",
          "name": "stdout",
          "text": [
            "\n",
            "\n",
            "predicted label: e, true label: a\n",
            "image: \n"
          ]
        },
        {
          "output_type": "display_data",
          "data": {
            "text/plain": [
              "<PIL.Image.Image image mode=L size=28x28 at 0x7F0BF98C2C90>"
            ],
            "image/png": "[encoded data removed]"
          },
          "metadata": {}
        },
        {
          "output_type": "stream",
          "name": "stdout",
          "text": [
            "\n",
            "\n",
            "predicted label: n, true label: a\n",
            "image: \n"
          ]
        },
        {
          "output_type": "display_data",
          "data": {
            "text/plain": [
              "<PIL.Image.Image image mode=L size=28x28 at 0x7F0BF988DE90>"
            ],
            "image/png": "[encoded data removed]"
          },
          "metadata": {}
        },
        {
          "output_type": "stream",
          "name": "stdout",
          "text": [
            "\n",
            "\n",
            "predicted label: 6, true label: b\n",
            "image: \n"
          ]
        },
        {
          "output_type": "display_data",
          "data": {
            "text/plain": [
              "<PIL.Image.Image image mode=L size=28x28 at 0x7F0BF9E09550>"
            ],
            "image/png": "[encoded data removed]"
          },
          "metadata": {}
        },
        {
          "output_type": "stream",
          "name": "stdout",
          "text": [
            "\n",
            "\n",
            "predicted label: C, true label: c\n",
            "image: \n"
          ]
        },
        {
          "output_type": "display_data",
          "data": {
            "text/plain": [
              "<PIL.Image.Image image mode=L size=28x28 at 0x7F0BF982BB50>"
            ],
            "image/png": "[encoded data removed]"
          },
          "metadata": {}
        },
        {
          "output_type": "stream",
          "name": "stdout",
          "text": [
            "\n",
            "\n",
            "predicted label: z, true label: e\n",
            "image: \n"
          ]
        },
        {
          "output_type": "display_data",
          "data": {
            "text/plain": [
              "<PIL.Image.Image image mode=L size=28x28 at 0x7F0BF940D910>"
            ],
            "image/png": "[encoded data removed]"
          },
          "metadata": {}
        },
        {
          "output_type": "stream",
          "name": "stdout",
          "text": [
            "\n",
            "\n",
            "predicted label: 1, true label: f\n",
            "image: \n"
          ]
        },
        {
          "output_type": "display_data",
          "data": {
            "text/plain": [
              "<PIL.Image.Image image mode=L size=28x28 at 0x7F0BF9FABB50>"
            ],
            "image/png": "[encoded data removed]"
          },
          "metadata": {}
        },
        {
          "output_type": "stream",
          "name": "stdout",
          "text": [
            "\n",
            "\n",
            "predicted label: p, true label: f\n",
            "image: \n"
          ]
        },
        {
          "output_type": "display_data",
          "data": {
            "text/plain": [
              "<PIL.Image.Image image mode=L size=28x28 at 0x7F0BF7115BD0>"
            ],
            "image/png": "[encoded data removed]"
          },
          "metadata": {}
        },
        {
          "output_type": "stream",
          "name": "stdout",
          "text": [
            "\n",
            "\n",
            "predicted label: q, true label: g\n",
            "image: \n"
          ]
        },
        {
          "output_type": "display_data",
          "data": {
            "text/plain": [
              "<PIL.Image.Image image mode=L size=28x28 at 0x7F0BF9CE3B10>"
            ],
            "image/png": "[encoded data removed]"
          },
          "metadata": {}
        },
        {
          "output_type": "stream",
          "name": "stdout",
          "text": [
            "\n",
            "\n",
            "predicted label: y, true label: g\n",
            "image: \n"
          ]
        },
        {
          "output_type": "display_data",
          "data": {
            "text/plain": [
              "<PIL.Image.Image image mode=L size=28x28 at 0x7F0BF97E6F90>"
            ],
            "image/png": "[encoded data removed]"
          },
          "metadata": {}
        },
        {
          "output_type": "stream",
          "name": "stdout",
          "text": [
            "\n",
            "\n",
            "predicted label: 6, true label: h\n",
            "image: \n"
          ]
        },
        {
          "output_type": "display_data",
          "data": {
            "text/plain": [
              "<PIL.Image.Image image mode=L size=28x28 at 0x7F0BF98A6190>"
            ],
            "image/png": "[encoded data removed]"
          },
          "metadata": {}
        },
        {
          "output_type": "stream",
          "name": "stdout",
          "text": [
            "\n",
            "\n",
            "predicted label: b, true label: h\n",
            "image: \n"
          ]
        },
        {
          "output_type": "display_data",
          "data": {
            "text/plain": [
              "<PIL.Image.Image image mode=L size=28x28 at 0x7F0BF9FAB8D0>"
            ],
            "image/png": "[encoded data removed]"
          },
          "metadata": {}
        },
        {
          "output_type": "stream",
          "name": "stdout",
          "text": [
            "\n",
            "\n",
            "predicted label: 1, true label: i\n",
            "image: \n"
          ]
        },
        {
          "output_type": "display_data",
          "data": {
            "text/plain": [
              "<PIL.Image.Image image mode=L size=28x28 at 0x7F0BFA01B990>"
            ],
            "image/png": "[encoded data removed]"
          },
          "metadata": {}
        },
        {
          "output_type": "stream",
          "name": "stdout",
          "text": [
            "\n",
            "\n",
            "predicted label: h, true label: k\n",
            "image: \n"
          ]
        },
        {
          "output_type": "display_data",
          "data": {
            "text/plain": [
              "<PIL.Image.Image image mode=L size=28x28 at 0x7F0BF9D17750>"
            ],
            "image/png": "[encoded data removed]"
          },
          "metadata": {}
        },
        {
          "output_type": "stream",
          "name": "stdout",
          "text": [
            "\n",
            "\n",
            "predicted label: x, true label: k\n",
            "image: \n"
          ]
        },
        {
          "output_type": "display_data",
          "data": {
            "text/plain": [
              "<PIL.Image.Image image mode=L size=28x28 at 0x7F0BF719C7D0>"
            ],
            "image/png": "[encoded data removed]"
          },
          "metadata": {}
        },
        {
          "output_type": "stream",
          "name": "stdout",
          "text": [
            "\n",
            "\n",
            "predicted label: i, true label: l\n",
            "image: \n"
          ]
        },
        {
          "output_type": "display_data",
          "data": {
            "text/plain": [
              "<PIL.Image.Image image mode=L size=28x28 at 0x7F0BF9F5AF10>"
            ],
            "image/png": "[encoded data removed]"
          },
          "metadata": {}
        },
        {
          "output_type": "stream",
          "name": "stdout",
          "text": [
            "\n",
            "\n",
            "predicted label: E, true label: l\n",
            "image: \n"
          ]
        },
        {
          "output_type": "display_data",
          "data": {
            "text/plain": [
              "<PIL.Image.Image image mode=L size=28x28 at 0x7F0BF71BC950>"
            ],
            "image/png": "[encoded data removed]"
          },
          "metadata": {}
        },
        {
          "output_type": "stream",
          "name": "stdout",
          "text": [
            "\n",
            "\n",
            "predicted label: M, true label: m\n",
            "image: \n"
          ]
        },
        {
          "output_type": "display_data",
          "data": {
            "text/plain": [
              "<PIL.Image.Image image mode=L size=28x28 at 0x7F0BF98183D0>"
            ],
            "image/png": "[encoded data removed]"
          },
          "metadata": {}
        },
        {
          "output_type": "stream",
          "name": "stdout",
          "text": [
            "\n",
            "\n",
            "predicted label: n, true label: m\n",
            "image: \n"
          ]
        },
        {
          "output_type": "display_data",
          "data": {
            "text/plain": [
              "<PIL.Image.Image image mode=L size=28x28 at 0x7F0BFA065590>"
            ],
            "image/png": "[encoded data removed]"
          },
          "metadata": {}
        },
        {
          "output_type": "stream",
          "name": "stdout",
          "text": [
            "\n",
            "\n",
            "predicted label: k, true label: n\n",
            "image: \n"
          ]
        },
        {
          "output_type": "display_data",
          "data": {
            "text/plain": [
              "<PIL.Image.Image image mode=L size=28x28 at 0x7F0BFA01B890>"
            ],
            "image/png": "[encoded data removed]"
          },
          "metadata": {}
        },
        {
          "output_type": "stream",
          "name": "stdout",
          "text": [
            "\n",
            "\n",
            "predicted label: a, true label: n\n",
            "image: \n"
          ]
        },
        {
          "output_type": "display_data",
          "data": {
            "text/plain": [
              "<PIL.Image.Image image mode=L size=28x28 at 0x7F0BF984BCD0>"
            ],
            "image/png": "[encoded data removed]"
          },
          "metadata": {}
        },
        {
          "output_type": "stream",
          "name": "stdout",
          "text": [
            "\n",
            "\n",
            "predicted label: O, true label: o\n",
            "image: \n"
          ]
        },
        {
          "output_type": "display_data",
          "data": {
            "text/plain": [
              "<PIL.Image.Image image mode=L size=28x28 at 0x7F0BF98389D0>"
            ],
            "image/png": "[encoded data removed]"
          },
          "metadata": {}
        },
        {
          "output_type": "stream",
          "name": "stdout",
          "text": [
            "\n",
            "\n",
            "predicted label: o, true label: p\n",
            "image: \n"
          ]
        },
        {
          "output_type": "display_data",
          "data": {
            "text/plain": [
              "<PIL.Image.Image image mode=L size=28x28 at 0x7F0BFA01AB90>"
            ],
            "image/png": "[encoded data removed]"
          },
          "metadata": {}
        },
        {
          "output_type": "stream",
          "name": "stdout",
          "text": [
            "\n",
            "\n",
            "predicted label: c, true label: q\n",
            "image: \n"
          ]
        },
        {
          "output_type": "display_data",
          "data": {
            "text/plain": [
              "<PIL.Image.Image image mode=L size=28x28 at 0x7F0BF9FAA950>"
            ],
            "image/png": "[encoded data removed]"
          },
          "metadata": {}
        },
        {
          "output_type": "stream",
          "name": "stdout",
          "text": [
            "\n",
            "\n",
            "predicted label: k, true label: q\n",
            "image: \n"
          ]
        },
        {
          "output_type": "display_data",
          "data": {
            "text/plain": [
              "<PIL.Image.Image image mode=L size=28x28 at 0x7F0BF981D910>"
            ],
            "image/png": "[encoded data removed]"
          },
          "metadata": {}
        },
        {
          "output_type": "stream",
          "name": "stdout",
          "text": [
            "\n",
            "\n",
            "predicted label: v, true label: r\n",
            "image: \n"
          ]
        },
        {
          "output_type": "display_data",
          "data": {
            "text/plain": [
              "<PIL.Image.Image image mode=L size=28x28 at 0x7F0BF97E6810>"
            ],
            "image/png": "[encoded data removed]"
          },
          "metadata": {}
        },
        {
          "output_type": "stream",
          "name": "stdout",
          "text": [
            "\n",
            "\n",
            "predicted label: A, true label: r\n",
            "image: \n"
          ]
        },
        {
          "output_type": "display_data",
          "data": {
            "text/plain": [
              "<PIL.Image.Image image mode=L size=28x28 at 0x7F0BF9409A90>"
            ],
            "image/png": "[encoded data removed]"
          },
          "metadata": {}
        },
        {
          "output_type": "stream",
          "name": "stdout",
          "text": [
            "\n",
            "\n",
            "predicted label: c, true label: s\n",
            "image: \n"
          ]
        },
        {
          "output_type": "display_data",
          "data": {
            "text/plain": [
              "<PIL.Image.Image image mode=L size=28x28 at 0x7F0BF9F547D0>"
            ],
            "image/png": "[encoded data removed]"
          },
          "metadata": {}
        },
        {
          "output_type": "stream",
          "name": "stdout",
          "text": [
            "\n",
            "\n",
            "predicted label: B, true label: s\n",
            "image: \n"
          ]
        },
        {
          "output_type": "display_data",
          "data": {
            "text/plain": [
              "<PIL.Image.Image image mode=L size=28x28 at 0x7F0BF95632D0>"
            ],
            "image/png": "[encoded data removed]"
          },
          "metadata": {}
        },
        {
          "output_type": "stream",
          "name": "stdout",
          "text": [
            "\n",
            "\n",
            "predicted label: l, true label: t\n",
            "image: \n"
          ]
        },
        {
          "output_type": "display_data",
          "data": {
            "text/plain": [
              "<PIL.Image.Image image mode=L size=28x28 at 0x7F0BF9C27F10>"
            ],
            "image/png": "[encoded data removed]"
          },
          "metadata": {}
        },
        {
          "output_type": "stream",
          "name": "stdout",
          "text": [
            "\n",
            "\n",
            "predicted label: n, true label: u\n",
            "image: \n"
          ]
        },
        {
          "output_type": "display_data",
          "data": {
            "text/plain": [
              "<PIL.Image.Image image mode=L size=28x28 at 0x7F0BF98D0790>"
            ],
            "image/png": "[encoded data removed]"
          },
          "metadata": {}
        },
        {
          "output_type": "stream",
          "name": "stdout",
          "text": [
            "\n",
            "\n",
            "predicted label: U, true label: u\n",
            "image: \n"
          ]
        },
        {
          "output_type": "display_data",
          "data": {
            "text/plain": [
              "<PIL.Image.Image image mode=L size=28x28 at 0x7F0BF98D0810>"
            ],
            "image/png": "[encoded data removed]"
          },
          "metadata": {}
        },
        {
          "output_type": "stream",
          "name": "stdout",
          "text": [
            "\n",
            "\n",
            "predicted label: U, true label: u\n",
            "image: \n"
          ]
        },
        {
          "output_type": "display_data",
          "data": {
            "text/plain": [
              "<PIL.Image.Image image mode=L size=28x28 at 0x7F0BF9CE3FD0>"
            ],
            "image/png": "[encoded data removed]"
          },
          "metadata": {}
        },
        {
          "output_type": "stream",
          "name": "stdout",
          "text": [
            "\n",
            "\n",
            "predicted label: c, true label: x\n",
            "image: \n"
          ]
        },
        {
          "output_type": "display_data",
          "data": {
            "text/plain": [
              "<PIL.Image.Image image mode=L size=28x28 at 0x7F0BF984BE50>"
            ],
            "image/png": "[encoded data removed]"
          },
          "metadata": {}
        },
        {
          "output_type": "stream",
          "name": "stdout",
          "text": [
            "\n",
            "\n",
            "predicted label: c, true label: x\n",
            "image: \n"
          ]
        },
        {
          "output_type": "display_data",
          "data": {
            "text/plain": [
              "<PIL.Image.Image image mode=L size=28x28 at 0x7F0BF9423250>"
            ],
            "image/png": "[encoded data removed]"
          },
          "metadata": {}
        },
        {
          "output_type": "stream",
          "name": "stdout",
          "text": [
            "\n",
            "\n",
            "predicted label: p, true label: y\n",
            "image: \n"
          ]
        },
        {
          "output_type": "display_data",
          "data": {
            "text/plain": [
              "<PIL.Image.Image image mode=L size=28x28 at 0x7F0BF719C910>"
            ],
            "image/png": "[encoded data removed]"
          },
          "metadata": {}
        },
        {
          "output_type": "stream",
          "name": "stdout",
          "text": [
            "\n",
            "\n",
            "predicted label: Y, true label: y\n",
            "image: \n"
          ]
        },
        {
          "output_type": "display_data",
          "data": {
            "text/plain": [
              "<PIL.Image.Image image mode=L size=28x28 at 0x7F0BF988D190>"
            ],
            "image/png": "[encoded data removed]"
          },
          "metadata": {}
        },
        {
          "output_type": "stream",
          "name": "stdout",
          "text": [
            "\n",
            "\n",
            "predicted label: q, true label: z\n",
            "image: \n"
          ]
        },
        {
          "output_type": "display_data",
          "data": {
            "text/plain": [
              "<PIL.Image.Image image mode=L size=28x28 at 0x7F0BF7064550>"
            ],
            "image/png": "[encoded data removed]"
          },
          "metadata": {}
        },
        {
          "output_type": "stream",
          "name": "stdout",
          "text": [
            "\n",
            "\n",
            "predicted label: x, true label: z\n",
            "image: \n"
          ]
        },
        {
          "output_type": "display_data",
          "data": {
            "text/plain": [
              "<PIL.Image.Image image mode=L size=28x28 at 0x7F0BF7062B10>"
            ],
            "image/png": "[encoded data removed]"
          },
          "metadata": {}
        },
        {
          "output_type": "stream",
          "name": "stdout",
          "text": [
            "\n",
            "\n"
          ]
        }
      ]
    },
    {
      "cell_type": "code",
      "source": [
        "from sklearn import metrics\n",
        "preds = np.argmax(model_lenet5_concat.predict(X_test_concat),axis = 1)\n",
        "print(metrics.classification_report(y_test_concat, preds,  zero_division=True))"
      ],
      "metadata": {
        "id": "D-fzqgFpTfMt",
        "colab": {
          "base_uri": "https://localhost:8080/"
        },
        "outputId": "f2b84265-ea78-46ee-d18d-3a6ecffb52a2"
      },
      "execution_count": null,
      "outputs": [
        {
          "output_type": "stream",
          "name": "stdout",
          "text": [
            "              precision    recall  f1-score   support\n",
            "\n",
            "           0       0.60      0.75      0.67         4\n",
            "           1       1.00      0.25      0.40         4\n",
            "           2       0.80      1.00      0.89         4\n",
            "           3       0.75      0.75      0.75         4\n",
            "           4       0.67      1.00      0.80         4\n",
            "           5       0.60      0.75      0.67         4\n",
            "           6       1.00      0.75      0.86         4\n",
            "           7       0.75      0.75      0.75         4\n",
            "           8       1.00      0.75      0.86         4\n",
            "           9       0.75      0.75      0.75         4\n",
            "          10       0.67      1.00      0.80         4\n",
            "          11       0.50      0.75      0.60         4\n",
            "          12       0.67      0.50      0.57         4\n",
            "          13       1.00      0.75      0.86         4\n",
            "          14       1.00      0.25      0.40         4\n",
            "          15       1.00      0.50      0.67         4\n",
            "          16       0.60      0.75      0.67         4\n",
            "          17       1.00      1.00      1.00         4\n",
            "          18       0.50      0.50      0.50         4\n",
            "          19       1.00      0.25      0.40         4\n",
            "          20       1.00      0.75      0.86         4\n",
            "          21       0.57      1.00      0.73         4\n",
            "          22       0.75      0.75      0.75         4\n",
            "          23       0.80      1.00      0.89         4\n",
            "          24       0.60      0.75      0.67         4\n",
            "          25       0.50      0.50      0.50         4\n",
            "          26       0.60      0.75      0.67         4\n",
            "          27       0.75      0.75      0.75         4\n",
            "          28       0.67      0.50      0.57         4\n",
            "          29       0.50      0.75      0.60         4\n",
            "          30       1.00      1.00      1.00         4\n",
            "          31       0.80      1.00      0.89         4\n",
            "          32       1.00      1.00      1.00         4\n",
            "          33       0.80      1.00      0.89         4\n",
            "          34       0.60      0.75      0.67         4\n",
            "          35       1.00      0.75      0.86         4\n",
            "          36       1.00      0.00      0.00         4\n",
            "          37       0.67      1.00      0.80         4\n",
            "          38       1.00      0.75      0.86         4\n",
            "          39       1.00      0.50      0.67         4\n",
            "          40       1.00      0.75      0.86         4\n",
            "          41       0.67      1.00      0.80         4\n",
            "          42       0.50      0.75      0.60         4\n",
            "          43       1.00      0.75      0.86         4\n",
            "          44       0.67      0.50      0.57         4\n",
            "          45       0.57      1.00      0.73         4\n",
            "          46       0.50      0.25      0.33         4\n",
            "          47       0.50      0.50      0.50         4\n",
            "          48       0.29      0.50      0.36         4\n",
            "          49       0.57      1.00      0.73         4\n",
            "          50       0.75      0.75      0.75         4\n",
            "          51       0.50      0.50      0.50         4\n",
            "          52       1.00      0.75      0.86         4\n",
            "          53       0.00      0.00      0.00         4\n",
            "          54       0.00      0.00      0.00         4\n",
            "          55       0.57      1.00      0.73         4\n",
            "          56       1.00      0.00      0.00         4\n",
            "          57       0.50      0.75      0.60         4\n",
            "          58       0.80      1.00      0.89         4\n",
            "          59       1.00      1.00      1.00         4\n",
            "          60       1.00      0.75      0.86         4\n",
            "          61       0.33      0.25      0.29         4\n",
            "\n",
            "    accuracy                           0.69       248\n",
            "   macro avg       0.73      0.69      0.67       248\n",
            "weighted avg       0.73      0.69      0.67       248\n",
            "\n"
          ]
        }
      ]
    },
    {
      "cell_type": "markdown",
      "source": [
        "### 5.2 evaluation on modified lenet5 models"
      ],
      "metadata": {
        "id": "EdrOIzboTMh4"
      }
    },
    {
      "cell_type": "code",
      "source": [
        "model_name = \"modified_tf_lenet5.h5\"\n",
        "modified_model_lenet5.save(model_name)\n",
        "convert_bytes(get_file_size(model_name),\"MB\")"
      ],
      "metadata": {
        "id": "Chs8ABELUyiY",
        "colab": {
          "base_uri": "https://localhost:8080/"
        },
        "outputId": "dcd650d7-666c-4505-cabe-ce8014af93bd"
      },
      "execution_count": null,
      "outputs": [
        {
          "output_type": "stream",
          "name": "stdout",
          "text": [
            "File size: 0.964 Megabytes\n"
          ]
        }
      ]
    },
    {
      "cell_type": "code",
      "execution_count": null,
      "metadata": {
        "colab": {
          "base_uri": "https://localhost:8080/"
        },
        "outputId": "6ab4a727-c5c4-4f53-aabc-fc9ac2966638",
        "id": "PF5Ctbp9Sysr"
      },
      "outputs": [
        {
          "output_type": "stream",
          "name": "stdout",
          "text": [
            "49/49 [==============================] - 1s 10ms/step - loss: 2.1323 - accuracy: 0.4729\n"
          ]
        }
      ],
      "source": [
        "test_loss, test_acc = modified_model_lenet5.evaluate(small_X_test, small_y_test)"
      ]
    },
    {
      "cell_type": "code",
      "source": [
        "test_loss, test_acc = modified_model_lenet5_hd.evaluate(small_X_test_hd, small_y_test_hd)"
      ],
      "metadata": {
        "colab": {
          "base_uri": "https://localhost:8080/"
        },
        "outputId": "31482596-acfe-4ce9-bd2a-40095f00cbde",
        "id": "XueCNcMISyss"
      },
      "execution_count": null,
      "outputs": [
        {
          "output_type": "stream",
          "name": "stdout",
          "text": [
            "4/4 [==============================] - 0s 11ms/step - loss: 0.4574 - accuracy: 0.9032\n"
          ]
        }
      ]
    },
    {
      "cell_type": "code",
      "source": [
        "test_loss, test_acc = modified_model_lenet5_concat.evaluate(small_X_test_concat, small_y_test_concat)"
      ],
      "metadata": {
        "colab": {
          "base_uri": "https://localhost:8080/"
        },
        "outputId": "3307ef56-fc28-4c4f-de49-b6d08555376f",
        "id": "C8Q9AY6tSyst"
      },
      "execution_count": null,
      "outputs": [
        {
          "output_type": "stream",
          "name": "stdout",
          "text": [
            "8/8 [==============================] - 0s 13ms/step - loss: 1.0405 - accuracy: 0.7258\n"
          ]
        }
      ]
    },
    {
      "cell_type": "code",
      "source": [
        "from sklearn import metrics\n",
        "preds = np.argmax(modified_model_lenet5_concat.predict(small_X_test_concat),axis = 1)\n",
        "print(metrics.classification_report(small_y_test_concat, preds,  zero_division=True))"
      ],
      "metadata": {
        "id": "1LIel9r_nTvo",
        "colab": {
          "base_uri": "https://localhost:8080/"
        },
        "outputId": "c48e84aa-c52d-4056-fba5-65d069bb8397"
      },
      "execution_count": null,
      "outputs": [
        {
          "output_type": "stream",
          "name": "stdout",
          "text": [
            "              precision    recall  f1-score   support\n",
            "\n",
            "           0       0.50      0.25      0.33         4\n",
            "           1       0.33      0.50      0.40         4\n",
            "           2       0.75      0.75      0.75         4\n",
            "           3       0.80      1.00      0.89         4\n",
            "           4       0.50      0.50      0.50         4\n",
            "           5       0.67      1.00      0.80         4\n",
            "           6       0.60      0.75      0.67         4\n",
            "           7       0.80      1.00      0.89         4\n",
            "           8       0.50      0.25      0.33         4\n",
            "           9       1.00      0.50      0.67         4\n",
            "          10       0.80      1.00      0.89         4\n",
            "          11       0.50      0.50      0.50         4\n",
            "          12       1.00      0.75      0.86         4\n",
            "          13       0.50      0.50      0.50         4\n",
            "          14       1.00      1.00      1.00         4\n",
            "          15       1.00      1.00      1.00         4\n",
            "          16       0.67      0.50      0.57         4\n",
            "          17       0.67      1.00      0.80         4\n",
            "          18       1.00      0.50      0.67         4\n",
            "          19       0.50      0.75      0.60         4\n",
            "          20       1.00      0.50      0.67         4\n",
            "          21       1.00      1.00      1.00         4\n",
            "          22       1.00      0.75      0.86         4\n",
            "          23       0.80      1.00      0.89         4\n",
            "          24       0.50      0.50      0.50         4\n",
            "          25       1.00      1.00      1.00         4\n",
            "          26       1.00      1.00      1.00         4\n",
            "          27       1.00      0.50      0.67         4\n",
            "          28       1.00      0.75      0.86         4\n",
            "          29       0.80      1.00      0.89         4\n",
            "          30       1.00      0.75      0.86         4\n",
            "          31       0.80      1.00      0.89         4\n",
            "          32       1.00      1.00      1.00         4\n",
            "          33       1.00      1.00      1.00         4\n",
            "          34       0.75      0.75      0.75         4\n",
            "          35       1.00      0.50      0.67         4\n",
            "          36       0.75      0.75      0.75         4\n",
            "          37       1.00      1.00      1.00         4\n",
            "          38       0.80      1.00      0.89         4\n",
            "          39       1.00      0.50      0.67         4\n",
            "          40       1.00      1.00      1.00         4\n",
            "          41       0.75      0.75      0.75         4\n",
            "          42       1.00      1.00      1.00         4\n",
            "          43       0.50      0.25      0.33         4\n",
            "          44       0.40      0.50      0.44         4\n",
            "          45       0.75      0.75      0.75         4\n",
            "          46       0.50      0.75      0.60         4\n",
            "          47       0.33      0.25      0.29         4\n",
            "          48       1.00      0.75      0.86         4\n",
            "          49       0.29      0.50      0.36         4\n",
            "          50       1.00      1.00      1.00         4\n",
            "          51       0.60      0.75      0.67         4\n",
            "          52       1.00      0.75      0.86         4\n",
            "          53       0.50      0.25      0.33         4\n",
            "          54       0.40      1.00      0.57         4\n",
            "          55       0.67      0.50      0.57         4\n",
            "          56       0.60      0.75      0.67         4\n",
            "          57       1.00      0.75      0.86         4\n",
            "          58       0.80      1.00      0.89         4\n",
            "          59       0.67      0.50      0.57         4\n",
            "          60       1.00      0.50      0.67         4\n",
            "          61       0.33      0.50      0.40         4\n",
            "\n",
            "    accuracy                           0.73       248\n",
            "   macro avg       0.76      0.73      0.72       248\n",
            "weighted avg       0.76      0.73      0.72       248\n",
            "\n"
          ]
        }
      ]
    },
    {
      "cell_type": "markdown",
      "metadata": {
        "id": "lgL1mjjIVNfv"
      },
      "source": [
        "## 6. Quantization"
      ]
    },
    {
      "cell_type": "markdown",
      "source": [
        "Tensorflow lite currently support the follow post processing quantization techniques:\n",
        "\n",
        "\n",
        "*   Dynamic range quantization\n",
        "*   Full integer quantization\n",
        "*   Float16 quantization\n",
        "\n",
        "We apply all these techniques to our models and we evaluate them based on the size and accuracy"
      ],
      "metadata": {
        "id": "XUacKCp5gdwu"
      }
    },
    {
      "cell_type": "code",
      "source": [
        "def save_tflite_model(model, path):\n",
        "  open(path, \"wb\").write(model)\n",
        "  return os.path.getsize(path)\n",
        "\n",
        "def gen_tflite(model):\n",
        "  converter = tf.lite.TFLiteConverter.from_keras_model(model)\n",
        "  return converter"
      ],
      "metadata": {
        "id": "WoK0cuMerFWQ"
      },
      "execution_count": null,
      "outputs": []
    },
    {
      "cell_type": "markdown",
      "source": [
        "### 6.1. Post-training dynamic range quantization"
      ],
      "metadata": {
        "id": "l1xBx_Izrqgi"
      }
    },
    {
      "cell_type": "markdown",
      "source": [
        "This techniques statically quantizes only the weights and the activation from floating point to integer (8 bit precision). The outputs are still stored using floating point."
      ],
      "metadata": {
        "id": "Ej-LqL4ZhImU"
      }
    },
    {
      "cell_type": "code",
      "source": [
        "def gen_dynamic_range_quantization(model):\n",
        "  converter = tf.lite.TFLiteConverter.from_keras_model(model)\n",
        "  converter.optimizations = [tf.lite.Optimize.DEFAULT]\n",
        "  return converter\n",
        "# tf_lite_converter = tf.lite.TFLiteConverter.from_keras_model(lenet5)\n",
        "\n",
        "\n",
        "# tf_lite_converter.optimizations = [tf.lite.Optimize.DEFAULT]\n",
        "\n",
        "# tflite_model = tf_lite_converter.convert()\n",
        "# # Save the model to disk\n",
        "# open(TF_LITE_DYNAMIC_RANGE_MODEL, \"wb\").write(tflite_model)"
      ],
      "metadata": {
        "id": "Wtlhe37_sTbW"
      },
      "execution_count": null,
      "outputs": []
    },
    {
      "cell_type": "markdown",
      "source": [
        "### 6.2. Post-training float16 quantization"
      ],
      "metadata": {
        "id": "-a7n3Y5rrpd3"
      }
    },
    {
      "cell_type": "markdown",
      "source": [
        "This technique convert weights and activation to 16-bit floating point (from 32."
      ],
      "metadata": {
        "id": "Q7-9i0lAhaWS"
      }
    },
    {
      "cell_type": "code",
      "source": [
        "def gen_float16_quantization(model):\n",
        "  converter = tf.lite.TFLiteConverter.from_keras_model(model)\n",
        "  converter.optimizations = [tf.lite.Optimize.DEFAULT]\n",
        "  converter.target_spec.supported_types = [tf.float16]\n",
        "  return converter\n"
      ],
      "metadata": {
        "id": "OQfD410UsRnP"
      },
      "execution_count": null,
      "outputs": []
    },
    {
      "cell_type": "markdown",
      "source": [
        "### 6.3. Post-training integer quantization"
      ],
      "metadata": {
        "id": "uQJjry9VrsWi"
      }
    },
    {
      "cell_type": "markdown",
      "source": [
        "This technique convert weights and activation to 8-bit fixed-point point (from 32. This results in the smallest possible model and increased inferencing speed."
      ],
      "metadata": {
        "id": "vwiAag-EhyDZ"
      }
    },
    {
      "cell_type": "code",
      "source": [
        "data = None"
      ],
      "metadata": {
        "id": "7G2bAgrE-v34"
      },
      "execution_count": null,
      "outputs": []
    },
    {
      "cell_type": "code",
      "source": [
        "def representative_data_gen():\n",
        "  for img in tf.data.Dataset.from_tensor_slices(data).batch(1).take(100):\n",
        "    img = np.expand_dims(img, 0).astype(np.float32)\n",
        "    yield [img]\n",
        "\n",
        "def gen_integer_quantization(model):\n",
        "  converter = tf.lite.TFLiteConverter.from_keras_model(model)\n",
        "  converter.optimizations = [tf.lite.Optimize.DEFAULT]\n",
        "  converter.representative_dataset = representative_data_gen\n",
        "  converter.target_spec.supported_ops = [tf.lite.OpsSet.TFLITE_BUILTINS_INT8]\n",
        "  converter.inference_input_type = tf.uint8\n",
        "  converter.inference_output_type = tf.uint8\n",
        "  return converter"
      ],
      "metadata": {
        "id": "aY3E1miPsZId"
      },
      "execution_count": null,
      "outputs": []
    },
    {
      "cell_type": "markdown",
      "source": [
        "### 6.3 Save models"
      ],
      "metadata": {
        "id": "ibJNa-YQv3BM"
      }
    },
    {
      "cell_type": "code",
      "source": [
        "converter_configs = {\n",
        "    \"tf lite\": {\n",
        "        \"gen\": gen_tflite,\n",
        "        \"path\": 'tf_lite_model.tflite'\n",
        "                },\n",
        "    \"dynamic range quantization\":{\n",
        "        \"gen\": gen_dynamic_range_quantization,\n",
        "        \"path\": 'dynamic_range_quantization_model.tflite'},\n",
        "    \"float 16 quantization\": {\n",
        "        \"gen\": gen_float16_quantization,\n",
        "        \"path\": 'float16_quantization_model.tflite'},\n",
        "    \"integer quantization\": {\n",
        "        \"gen\": gen_integer_quantization,\n",
        "        \"path\": 'integer_quantization_model.tflite'\n",
        "    },\n",
        "    \"quantization aware\": {\n",
        "        \"gen\": gen_tflite,\n",
        "        \"path\": 'quantization_aware_model.tflite'\n",
        "    }\n",
        "}"
      ],
      "metadata": {
        "id": "Rc_j3L4sv6q2"
      },
      "execution_count": null,
      "outputs": []
    },
    {
      "cell_type": "code",
      "source": [
        "for config in tqdm(converter_configs):\n",
        "  data = X_train\n",
        "  converter = converter_configs[config][\"gen\"](model_lenet5)\n",
        "  model = converter.convert()\n",
        "  path = model_path + os.path.join(\"lenet5\", \"dataset\", converter_configs[config][\"path\"])\n",
        "  save_tflite_model(model, path)\n",
        "\n",
        "  data = X_train_hd\n",
        "  converter = converter_configs[config][\"gen\"](model_lenet5_hd)\n",
        "  model = converter.convert()\n",
        "  path = model_path + os.path.join(\"lenet5\",\"handmade\", converter_configs[config][\"path\"])\n",
        "  save_tflite_model(model, path)\n",
        "\n",
        "  data = X_train_concat\n",
        "  converter = converter_configs[config][\"gen\"](model_lenet5_concat)\n",
        "  model = converter.convert()\n",
        "  path = model_path + os.path.join(\"lenet5\",\"concat\", converter_configs[config][\"path\"])\n",
        "  save_tflite_model(model, path)\n",
        "\n",
        "  data = small_X_train\n",
        "  converter = converter_configs[config][\"gen\"](modified_model_lenet5)\n",
        "  model = converter.convert()\n",
        "  path =  model_path + os.path.join(\"modified_lenet5\", \"dataset\", converter_configs[config][\"path\"])\n",
        "  save_tflite_model(model, path)\n",
        "\n",
        "  data = small_X_train_hd\n",
        "  converter = converter_configs[config][\"gen\"](modified_model_lenet5_hd)\n",
        "  model = converter.convert()\n",
        "  path =  model_path + os.path.join(\"modified_lenet5\", \"handmade\", converter_configs[config][\"path\"])\n",
        "  save_tflite_model(model, path)\n",
        "\n",
        "  data = small_X_train_concat\n",
        "  converter = converter_configs[config][\"gen\"](modified_model_lenet5_concat)\n",
        "  model = converter.convert()\n",
        "  path =  model_path + os.path.join(\"modified_lenet5\", \"concat\", converter_configs[config][\"path\"])\n",
        "  save_tflite_model(model, path)\n"
      ],
      "metadata": {
        "colab": {
          "base_uri": "https://localhost:8080/"
        },
        "id": "nOhdlHnmv2HE",
        "outputId": "73604a32-4844-414f-9b62-c33bf5c77740"
      },
      "execution_count": null,
      "outputs": [
        {
          "output_type": "stream",
          "name": "stderr",
          "text": [
            " 60%|██████    | 3/5 [00:44<00:29, 14.67s/it]/usr/local/lib/python3.7/dist-packages/tensorflow/lite/python/convert.py:746: UserWarning: Statistics for quantized inputs were expected, but not specified; continuing anyway.\n",
            "  warnings.warn(\"Statistics for quantized inputs were expected, but not \"\n",
            "/usr/local/lib/python3.7/dist-packages/tensorflow/lite/python/convert.py:746: UserWarning: Statistics for quantized inputs were expected, but not specified; continuing anyway.\n",
            "  warnings.warn(\"Statistics for quantized inputs were expected, but not \"\n",
            "/usr/local/lib/python3.7/dist-packages/tensorflow/lite/python/convert.py:746: UserWarning: Statistics for quantized inputs were expected, but not specified; continuing anyway.\n",
            "  warnings.warn(\"Statistics for quantized inputs were expected, but not \"\n",
            "/usr/local/lib/python3.7/dist-packages/tensorflow/lite/python/convert.py:746: UserWarning: Statistics for quantized inputs were expected, but not specified; continuing anyway.\n",
            "  warnings.warn(\"Statistics for quantized inputs were expected, but not \"\n",
            "/usr/local/lib/python3.7/dist-packages/tensorflow/lite/python/convert.py:746: UserWarning: Statistics for quantized inputs were expected, but not specified; continuing anyway.\n",
            "  warnings.warn(\"Statistics for quantized inputs were expected, but not \"\n",
            "/usr/local/lib/python3.7/dist-packages/tensorflow/lite/python/convert.py:746: UserWarning: Statistics for quantized inputs were expected, but not specified; continuing anyway.\n",
            "  warnings.warn(\"Statistics for quantized inputs were expected, but not \"\n",
            "100%|██████████| 5/5 [01:13<00:00, 14.75s/it]\n"
          ]
        }
      ]
    },
    {
      "cell_type": "markdown",
      "source": [
        "## 7. Model Comparison"
      ],
      "metadata": {
        "id": "RwRS0mFz7hvG"
      }
    },
    {
      "cell_type": "markdown",
      "source": [
        "### 7.1 lenet5 models comparison"
      ],
      "metadata": {
        "id": "IygI25d3T-8r"
      }
    },
    {
      "cell_type": "code",
      "source": [
        "models_results = {\n",
        "    \"dataset\": {\n",
        "    \"tf lite\": [],\n",
        "    \"dynamic range quantization\": [],\n",
        "    \"float16 quantization\": [],\n",
        "    \"integer quantization\": [],\n",
        "    \"quantization aware\": []\n",
        "    },\n",
        "    \"handmade\": {\n",
        "    \"tf lite\": [],\n",
        "    \"dynamic range quantization\":[],\n",
        "    \"float16 quantization\": [],\n",
        "    \"integer quantization\": [],\n",
        "    \"quantization aware\": []\n",
        "    },\n",
        "    \"concat\":\n",
        "    {\n",
        "        \"tf lite\": [],\n",
        "    \"dynamic range quantization\":[],\n",
        "    \"float16 quantization\": [],\n",
        "    \"integer quantization\": [],\n",
        "    \"quantization aware\": []\n",
        "    }\n",
        "}"
      ],
      "metadata": {
        "id": "L6OzHKqvuGqM"
      },
      "execution_count": null,
      "outputs": []
    },
    {
      "cell_type": "code",
      "source": [
        "# size_tf = os.path.getsize(TF_LITE_MODEL)\n",
        "# size_tf_dynamic_range = os.path.getsize(TF_LITE_DYNAMIC_RANGE_MODEL)\n",
        "# size_tf_float16 = os.path.getsize(TF_LITE_FLOAT16_MODEL)\n",
        "# size_tf_integer_quantization = os.path.getsize(TF_LITE_INTEGER_QUANTIZATION_MODEL)\n",
        "# size_tf_quantization_aware = os.path.getsize(TF_LITE_QUANTIZATION_AWARE_MODEL)"
      ],
      "metadata": {
        "id": "7QK1SmQr8B-a"
      },
      "execution_count": null,
      "outputs": []
    },
    {
      "cell_type": "code",
      "source": [
        "def evaluate(model_path, test_set, img_heigth=28, img_width=28):\n",
        "  interpreter = tf.lite.Interpreter(model_path = model_path, experimental_op_resolver_type=tf.lite.experimental.OpResolverType.BUILTIN_REF )\n",
        "  interpreter.allocate_tensors()\n",
        "\n",
        "  X_test, y_test = test_set\n",
        "  input_details = interpreter.get_input_details()[0]\n",
        "  output_details = interpreter.get_output_details()[0]\n",
        "  \n",
        "  interpreter.resize_tensor_input(input_details['index'], (X_test.shape[0], img_heigth, img_width))\n",
        "  interpreter.resize_tensor_input(output_details['index'], (y_test.shape[0], 62))\n",
        "  interpreter.allocate_tensors()\n",
        "  # print(\"Input Shape:\", input_details[0]['shape'])\n",
        "  # print(\"Input Type:\", input_details[0]['dtype'])\n",
        "  # print(\"Output Shape:\", output_details[0]['shape'])\n",
        "  # print(\"Output Type:\", output_details[0]['dtype'])\n",
        "\n",
        "  input_shape = input_details['shape']\n",
        "  input_type = input_details['dtype']\n",
        "\n",
        "  input_data = X_test\n",
        "  if input_type == np.uint8: # quantized input\n",
        "  \n",
        "    input_scale, input_zero_point = input_details['quantization']\n",
        "    input_data = X_test / input_scale + input_zero_point\n",
        "    \n",
        "  interpreter.set_tensor(input_details['index'], input_data.astype(input_type))\n",
        "\n",
        "  interpreter.invoke()\n",
        "  output_type = output_details['dtype']\n",
        "  output_data = interpreter.get_tensor(output_details['index'])\n",
        "  if output_type == np.uint8:\n",
        "    output_scale, output_zero_point = output_details['quantization']\n",
        "    output_data = (output_data - output_zero_point) * output_scale\n",
        "  prediction_classes = np.argmax(output_data, axis=1)\n",
        "  \n",
        "  return os.path.getsize(model_path), accuracy_score(prediction_classes, y_test)"
      ],
      "metadata": {
        "id": "QzRuZJa78vnP"
      },
      "execution_count": null,
      "outputs": []
    },
    {
      "cell_type": "code",
      "source": [
        "test_sets = [(X_test, y_test), (X_test_hd, y_test_hd), (X_test_concat, y_test_concat)]\n",
        "for model, test_set in zip(models_results, test_sets):\n",
        "  for quantization in models_results[model]:\n",
        "    name = \"_\".join(quantization.split(\" \")) + \"_model.tflite\"\n",
        "    path = model_path + os.path.join(\"lenet5\", model, name)\n",
        "    size, accuracy = evaluate(path, test_set)\n",
        "    \n",
        "    models_results[model][quantization].append(size)\n",
        "    models_results[model][quantization].append(format(accuracy, \".2%\"))\n"
      ],
      "metadata": {
        "id": "LU-TI-gnwDMT"
      },
      "execution_count": null,
      "outputs": []
    },
    {
      "cell_type": "code",
      "source": [
        "results = pd.concat({k: pd.DataFrame(v).T for k, v in models_results.items()}, axis=0)\n",
        "results.columns =['size', 'accuracy']\n",
        "\n",
        "results"
      ],
      "metadata": {
        "id": "STN_ofv8USSc",
        "colab": {
          "base_uri": "https://localhost:8080/",
          "height": 520
        },
        "outputId": "6e4b21e6-85fa-4d7b-8222-d90005d52e13"
      },
      "execution_count": null,
      "outputs": [
        {
          "output_type": "execute_result",
          "data": {
            "text/plain": [
              "                                       size accuracy\n",
              "dataset  tf lite                     269508   57.53%\n",
              "         dynamic range quantization   75376   57.53%\n",
              "         float16 quantization        138552   57.53%\n",
              "         integer quantization         76488   58.06%\n",
              "         quantization aware          269508   57.53%\n",
              "handmade tf lite                     269640   87.90%\n",
              "         dynamic range quantization   75504   87.90%\n",
              "         float16 quantization        138708   87.90%\n",
              "         integer quantization         76672   86.29%\n",
              "         quantization aware          269640   87.90%\n",
              "concat   tf lite                     269640   68.95%\n",
              "         dynamic range quantization   75504   69.35%\n",
              "         float16 quantization        138708   68.95%\n",
              "         integer quantization         76672   68.95%\n",
              "         quantization aware          269640   68.95%"
            ],
            "text/html": [
              "\n",
              "  <div id=\"df-c7eb0438-a282-4eb6-bbbe-08c69bd3e61a\">\n",
              "    <div class=\"colab-df-container\">\n",
              "      <div>\n",
              "<style scoped>\n",
              "    .dataframe tbody tr th:only-of-type {\n",
              "        vertical-align: middle;\n",
              "    }\n",
              "\n",
              "    .dataframe tbody tr th {\n",
              "        vertical-align: top;\n",
              "    }\n",
              "\n",
              "    .dataframe thead th {\n",
              "        text-align: right;\n",
              "    }\n",
              "</style>\n",
              "<table border=\"1\" class=\"dataframe\">\n",
              "  <thead>\n",
              "    <tr style=\"text-align: right;\">\n",
              "      <th></th>\n",
              "      <th></th>\n",
              "      <th>size</th>\n",
              "      <th>accuracy</th>\n",
              "    </tr>\n",
              "  </thead>\n",
              "  <tbody>\n",
              "    <tr>\n",
              "      <th rowspan=\"5\" valign=\"top\">dataset</th>\n",
              "      <th>tf lite</th>\n",
              "      <td>269508</td>\n",
              "      <td>57.53%</td>\n",
              "    </tr>\n",
              "    <tr>\n",
              "      <th>dynamic range quantization</th>\n",
              "      <td>75376</td>\n",
              "      <td>57.53%</td>\n",
              "    </tr>\n",
              "    <tr>\n",
              "      <th>float16 quantization</th>\n",
              "      <td>138552</td>\n",
              "      <td>57.53%</td>\n",
              "    </tr>\n",
              "    <tr>\n",
              "      <th>integer quantization</th>\n",
              "      <td>76488</td>\n",
              "      <td>58.06%</td>\n",
              "    </tr>\n",
              "    <tr>\n",
              "      <th>quantization aware</th>\n",
              "      <td>269508</td>\n",
              "      <td>57.53%</td>\n",
              "    </tr>\n",
              "    <tr>\n",
              "      <th rowspan=\"5\" valign=\"top\">handmade</th>\n",
              "      <th>tf lite</th>\n",
              "      <td>269640</td>\n",
              "      <td>87.90%</td>\n",
              "    </tr>\n",
              "    <tr>\n",
              "      <th>dynamic range quantization</th>\n",
              "      <td>75504</td>\n",
              "      <td>87.90%</td>\n",
              "    </tr>\n",
              "    <tr>\n",
              "      <th>float16 quantization</th>\n",
              "      <td>138708</td>\n",
              "      <td>87.90%</td>\n",
              "    </tr>\n",
              "    <tr>\n",
              "      <th>integer quantization</th>\n",
              "      <td>76672</td>\n",
              "      <td>86.29%</td>\n",
              "    </tr>\n",
              "    <tr>\n",
              "      <th>quantization aware</th>\n",
              "      <td>269640</td>\n",
              "      <td>87.90%</td>\n",
              "    </tr>\n",
              "    <tr>\n",
              "      <th rowspan=\"5\" valign=\"top\">concat</th>\n",
              "      <th>tf lite</th>\n",
              "      <td>269640</td>\n",
              "      <td>68.95%</td>\n",
              "    </tr>\n",
              "    <tr>\n",
              "      <th>dynamic range quantization</th>\n",
              "      <td>75504</td>\n",
              "      <td>69.35%</td>\n",
              "    </tr>\n",
              "    <tr>\n",
              "      <th>float16 quantization</th>\n",
              "      <td>138708</td>\n",
              "      <td>68.95%</td>\n",
              "    </tr>\n",
              "    <tr>\n",
              "      <th>integer quantization</th>\n",
              "      <td>76672</td>\n",
              "      <td>68.95%</td>\n",
              "    </tr>\n",
              "    <tr>\n",
              "      <th>quantization aware</th>\n",
              "      <td>269640</td>\n",
              "      <td>68.95%</td>\n",
              "    </tr>\n",
              "  </tbody>\n",
              "</table>\n",
              "</div>\n",
              "      <button class=\"colab-df-convert\" onclick=\"convertToInteractive('df-c7eb0438-a282-4eb6-bbbe-08c69bd3e61a')\"\n",
              "              title=\"Convert this dataframe to an interactive table.\"\n",
              "              style=\"display:none;\">\n",
              "        \n",
              "  <svg xmlns=\"http://www.w3.org/2000/svg\" height=\"24px\"viewBox=\"0 0 24 24\"\n",
              "       width=\"24px\">\n",
              "    <path d=\"M0 0h24v24H0V0z\" fill=\"none\"/>\n",
              "    <path d=\"M18.56 5.44l.94 2.06.94-2.06 2.06-.94-2.06-.94-.94-2.06-.94 2.06-2.06.94zm-11 1L8.5 8.5l.94-2.06 2.06-.94-2.06-.94L8.5 2.5l-.94 2.06-2.06.94zm10 10l.94 2.06.94-2.06 2.06-.94-2.06-.94-.94-2.06-.94 2.06-2.06.94z\"/><path d=\"M17.41 7.96l-1.37-1.37c-.4-.4-.92-.59-1.43-.59-.52 0-1.04.2-1.43.59L10.3 9.45l-7.72 7.72c-.78.78-.78 2.05 0 2.83L4 21.41c.39.39.9.59 1.41.59.51 0 1.02-.2 1.41-.59l7.78-7.78 2.81-2.81c.8-.78.8-2.07 0-2.86zM5.41 20L4 18.59l7.72-7.72 1.47 1.35L5.41 20z\"/>\n",
              "  </svg>\n",
              "      </button>\n",
              "      \n",
              "  <style>\n",
              "    .colab-df-container {\n",
              "      display:flex;\n",
              "      flex-wrap:wrap;\n",
              "      gap: 12px;\n",
              "    }\n",
              "\n",
              "    .colab-df-convert {\n",
              "      background-color: #E8F0FE;\n",
              "      border: none;\n",
              "      border-radius: 50%;\n",
              "      cursor: pointer;\n",
              "      display: none;\n",
              "      fill: #1967D2;\n",
              "      height: 32px;\n",
              "      padding: 0 0 0 0;\n",
              "      width: 32px;\n",
              "    }\n",
              "\n",
              "    .colab-df-convert:hover {\n",
              "      background-color: #E2EBFA;\n",
              "      box-shadow: 0px 1px 2px rgba(60, 64, 67, 0.3), 0px 1px 3px 1px rgba(60, 64, 67, 0.15);\n",
              "      fill: #174EA6;\n",
              "    }\n",
              "\n",
              "    [theme=dark] .colab-df-convert {\n",
              "      background-color: #3B4455;\n",
              "      fill: #D2E3FC;\n",
              "    }\n",
              "\n",
              "    [theme=dark] .colab-df-convert:hover {\n",
              "      background-color: #434B5C;\n",
              "      box-shadow: 0px 1px 3px 1px rgba(0, 0, 0, 0.15);\n",
              "      filter: drop-shadow(0px 1px 2px rgba(0, 0, 0, 0.3));\n",
              "      fill: #FFFFFF;\n",
              "    }\n",
              "  </style>\n",
              "\n",
              "      <script>\n",
              "        const buttonEl =\n",
              "          document.querySelector('#df-c7eb0438-a282-4eb6-bbbe-08c69bd3e61a button.colab-df-convert');\n",
              "        buttonEl.style.display =\n",
              "          google.colab.kernel.accessAllowed ? 'block' : 'none';\n",
              "\n",
              "        async function convertToInteractive(key) {\n",
              "          const element = document.querySelector('#df-c7eb0438-a282-4eb6-bbbe-08c69bd3e61a');\n",
              "          const dataTable =\n",
              "            await google.colab.kernel.invokeFunction('convertToInteractive',\n",
              "                                                     [key], {});\n",
              "          if (!dataTable) return;\n",
              "\n",
              "          const docLinkHtml = 'Like what you see? Visit the ' +\n",
              "            '<a target=\"_blank\" href=https://colab.research.google.com/notebooks/data_table.ipynb>data table notebook</a>'\n",
              "            + ' to learn more about interactive tables.';\n",
              "          element.innerHTML = '';\n",
              "          dataTable['output_type'] = 'display_data';\n",
              "          await google.colab.output.renderOutput(dataTable, element);\n",
              "          const docLink = document.createElement('div');\n",
              "          docLink.innerHTML = docLinkHtml;\n",
              "          element.appendChild(docLink);\n",
              "        }\n",
              "      </script>\n",
              "    </div>\n",
              "  </div>\n",
              "  "
            ]
          },
          "metadata": {},
          "execution_count": 67
        }
      ]
    },
    {
      "cell_type": "markdown",
      "source": [
        "### 7.1 modified lenet5 models comparison"
      ],
      "metadata": {
        "id": "Dm6ozPoHUKBB"
      }
    },
    {
      "cell_type": "code",
      "source": [
        "modified_models_results = {\n",
        "    \"dataset\": {\n",
        "    \"tf lite\": [],\n",
        "    \"dynamic range quantization\": [],\n",
        "    \"float16 quantization\": [],\n",
        "    \"integer quantization\": [],\n",
        "    \"quantization aware\": []\n",
        "    },\n",
        "    \"handmade\": {\n",
        "    \"tf lite\": [],\n",
        "    \"dynamic range quantization\":[],\n",
        "    \"float16 quantization\": [],\n",
        "    \"integer quantization\": [],\n",
        "    \"quantization aware\": []\n",
        "    },\n",
        "    \"concat\":\n",
        "    {\n",
        "        \"tf lite\": [],\n",
        "    \"dynamic range quantization\":[],\n",
        "    \"float16 quantization\": [],\n",
        "    \"integer quantization\": [],\n",
        "    \"quantization aware\": []\n",
        "    }\n",
        "}"
      ],
      "metadata": {
        "id": "-M22sQsIUO4j"
      },
      "execution_count": null,
      "outputs": []
    },
    {
      "cell_type": "code",
      "source": [
        "test_sets = [(small_X_test, small_y_test), (small_X_test_hd, small_y_test_hd), (small_X_test_concat, small_y_test_concat)]\n",
        "for model, test_set in zip(models_results, test_sets):\n",
        "  for quantization in models_results[model]:\n",
        "    name = \"_\".join(quantization.split(\" \")) + \"_model.tflite\"\n",
        "    path = model_path + os.path.join(\"modified_lenet5\", model, name)\n",
        "    size, accuracy = evaluate(path, test_set, 23, 30)\n",
        "    \n",
        "    modified_models_results[model][quantization].append(size)\n",
        "    modified_models_results[model][quantization].append(format(accuracy, \".2%\"))\n",
        "\n",
        "\n",
        "# for quantization in modified_model_results['handmade']:\n",
        "#   name = \"_\".join(quantization.split(\" \")) + \"_model.tflite\"\n",
        "#   path = model_path + os.path.join(\"modified_lenet5\", model, name)\n",
        "#   size, accuracy = evaluate(path, (small_X_test_hd, small_y_test_hd), img_heigth=23, img_width=30)\n",
        "#   modified_model_results['handmade'][quantization].append(size)\n",
        "#   modified_model_results['handmade'][quantization].append(format(accuracy, \".2%\"))"
      ],
      "metadata": {
        "id": "ZUUkPzMfu4kM"
      },
      "execution_count": null,
      "outputs": []
    },
    {
      "cell_type": "code",
      "source": [
        "results = pd.concat({k: pd.DataFrame(v).T for k, v in modified_models_results.items()}, axis=0)\n",
        "results.columns =['size', 'accuracy']\n",
        "results"
      ],
      "metadata": {
        "colab": {
          "base_uri": "https://localhost:8080/",
          "height": 520
        },
        "id": "VizSf_Y40BT_",
        "outputId": "809c457e-f2a9-4da2-b5ff-1883bc2cda1f"
      },
      "execution_count": null,
      "outputs": [
        {
          "output_type": "execute_result",
          "data": {
            "text/plain": [
              "                                       size accuracy\n",
              "dataset  tf lite                     325440   47.29%\n",
              "         dynamic range quantization   86792   47.16%\n",
              "         float16 quantization        166084   47.16%\n",
              "         integer quantization         87400   46.77%\n",
              "         quantization aware          325440   47.29%\n",
              "handmade tf lite                     325444   90.32%\n",
              "         dynamic range quantization   86792   90.32%\n",
              "         float16 quantization        166096   90.32%\n",
              "         integer quantization         87400   90.32%\n",
              "         quantization aware          325444   90.32%\n",
              "concat   tf lite                     325460   72.58%\n",
              "         dynamic range quantization   86808   72.58%\n",
              "         float16 quantization        166120   72.58%\n",
              "         integer quantization         87400   72.58%\n",
              "         quantization aware          325460   72.58%"
            ],
            "text/html": [
              "\n",
              "  <div id=\"df-b324fa96-4cb1-4404-bd68-ebc636a6e97b\">\n",
              "    <div class=\"colab-df-container\">\n",
              "      <div>\n",
              "<style scoped>\n",
              "    .dataframe tbody tr th:only-of-type {\n",
              "        vertical-align: middle;\n",
              "    }\n",
              "\n",
              "    .dataframe tbody tr th {\n",
              "        vertical-align: top;\n",
              "    }\n",
              "\n",
              "    .dataframe thead th {\n",
              "        text-align: right;\n",
              "    }\n",
              "</style>\n",
              "<table border=\"1\" class=\"dataframe\">\n",
              "  <thead>\n",
              "    <tr style=\"text-align: right;\">\n",
              "      <th></th>\n",
              "      <th></th>\n",
              "      <th>size</th>\n",
              "      <th>accuracy</th>\n",
              "    </tr>\n",
              "  </thead>\n",
              "  <tbody>\n",
              "    <tr>\n",
              "      <th rowspan=\"5\" valign=\"top\">dataset</th>\n",
              "      <th>tf lite</th>\n",
              "      <td>325440</td>\n",
              "      <td>47.29%</td>\n",
              "    </tr>\n",
              "    <tr>\n",
              "      <th>dynamic range quantization</th>\n",
              "      <td>86792</td>\n",
              "      <td>47.16%</td>\n",
              "    </tr>\n",
              "    <tr>\n",
              "      <th>float16 quantization</th>\n",
              "      <td>166084</td>\n",
              "      <td>47.16%</td>\n",
              "    </tr>\n",
              "    <tr>\n",
              "      <th>integer quantization</th>\n",
              "      <td>87400</td>\n",
              "      <td>46.77%</td>\n",
              "    </tr>\n",
              "    <tr>\n",
              "      <th>quantization aware</th>\n",
              "      <td>325440</td>\n",
              "      <td>47.29%</td>\n",
              "    </tr>\n",
              "    <tr>\n",
              "      <th rowspan=\"5\" valign=\"top\">handmade</th>\n",
              "      <th>tf lite</th>\n",
              "      <td>325444</td>\n",
              "      <td>90.32%</td>\n",
              "    </tr>\n",
              "    <tr>\n",
              "      <th>dynamic range quantization</th>\n",
              "      <td>86792</td>\n",
              "      <td>90.32%</td>\n",
              "    </tr>\n",
              "    <tr>\n",
              "      <th>float16 quantization</th>\n",
              "      <td>166096</td>\n",
              "      <td>90.32%</td>\n",
              "    </tr>\n",
              "    <tr>\n",
              "      <th>integer quantization</th>\n",
              "      <td>87400</td>\n",
              "      <td>90.32%</td>\n",
              "    </tr>\n",
              "    <tr>\n",
              "      <th>quantization aware</th>\n",
              "      <td>325444</td>\n",
              "      <td>90.32%</td>\n",
              "    </tr>\n",
              "    <tr>\n",
              "      <th rowspan=\"5\" valign=\"top\">concat</th>\n",
              "      <th>tf lite</th>\n",
              "      <td>325460</td>\n",
              "      <td>72.58%</td>\n",
              "    </tr>\n",
              "    <tr>\n",
              "      <th>dynamic range quantization</th>\n",
              "      <td>86808</td>\n",
              "      <td>72.58%</td>\n",
              "    </tr>\n",
              "    <tr>\n",
              "      <th>float16 quantization</th>\n",
              "      <td>166120</td>\n",
              "      <td>72.58%</td>\n",
              "    </tr>\n",
              "    <tr>\n",
              "      <th>integer quantization</th>\n",
              "      <td>87400</td>\n",
              "      <td>72.58%</td>\n",
              "    </tr>\n",
              "    <tr>\n",
              "      <th>quantization aware</th>\n",
              "      <td>325460</td>\n",
              "      <td>72.58%</td>\n",
              "    </tr>\n",
              "  </tbody>\n",
              "</table>\n",
              "</div>\n",
              "      <button class=\"colab-df-convert\" onclick=\"convertToInteractive('df-b324fa96-4cb1-4404-bd68-ebc636a6e97b')\"\n",
              "              title=\"Convert this dataframe to an interactive table.\"\n",
              "              style=\"display:none;\">\n",
              "        \n",
              "  <svg xmlns=\"http://www.w3.org/2000/svg\" height=\"24px\"viewBox=\"0 0 24 24\"\n",
              "       width=\"24px\">\n",
              "    <path d=\"M0 0h24v24H0V0z\" fill=\"none\"/>\n",
              "    <path d=\"M18.56 5.44l.94 2.06.94-2.06 2.06-.94-2.06-.94-.94-2.06-.94 2.06-2.06.94zm-11 1L8.5 8.5l.94-2.06 2.06-.94-2.06-.94L8.5 2.5l-.94 2.06-2.06.94zm10 10l.94 2.06.94-2.06 2.06-.94-2.06-.94-.94-2.06-.94 2.06-2.06.94z\"/><path d=\"M17.41 7.96l-1.37-1.37c-.4-.4-.92-.59-1.43-.59-.52 0-1.04.2-1.43.59L10.3 9.45l-7.72 7.72c-.78.78-.78 2.05 0 2.83L4 21.41c.39.39.9.59 1.41.59.51 0 1.02-.2 1.41-.59l7.78-7.78 2.81-2.81c.8-.78.8-2.07 0-2.86zM5.41 20L4 18.59l7.72-7.72 1.47 1.35L5.41 20z\"/>\n",
              "  </svg>\n",
              "      </button>\n",
              "      \n",
              "  <style>\n",
              "    .colab-df-container {\n",
              "      display:flex;\n",
              "      flex-wrap:wrap;\n",
              "      gap: 12px;\n",
              "    }\n",
              "\n",
              "    .colab-df-convert {\n",
              "      background-color: #E8F0FE;\n",
              "      border: none;\n",
              "      border-radius: 50%;\n",
              "      cursor: pointer;\n",
              "      display: none;\n",
              "      fill: #1967D2;\n",
              "      height: 32px;\n",
              "      padding: 0 0 0 0;\n",
              "      width: 32px;\n",
              "    }\n",
              "\n",
              "    .colab-df-convert:hover {\n",
              "      background-color: #E2EBFA;\n",
              "      box-shadow: 0px 1px 2px rgba(60, 64, 67, 0.3), 0px 1px 3px 1px rgba(60, 64, 67, 0.15);\n",
              "      fill: #174EA6;\n",
              "    }\n",
              "\n",
              "    [theme=dark] .colab-df-convert {\n",
              "      background-color: #3B4455;\n",
              "      fill: #D2E3FC;\n",
              "    }\n",
              "\n",
              "    [theme=dark] .colab-df-convert:hover {\n",
              "      background-color: #434B5C;\n",
              "      box-shadow: 0px 1px 3px 1px rgba(0, 0, 0, 0.15);\n",
              "      filter: drop-shadow(0px 1px 2px rgba(0, 0, 0, 0.3));\n",
              "      fill: #FFFFFF;\n",
              "    }\n",
              "  </style>\n",
              "\n",
              "      <script>\n",
              "        const buttonEl =\n",
              "          document.querySelector('#df-b324fa96-4cb1-4404-bd68-ebc636a6e97b button.colab-df-convert');\n",
              "        buttonEl.style.display =\n",
              "          google.colab.kernel.accessAllowed ? 'block' : 'none';\n",
              "\n",
              "        async function convertToInteractive(key) {\n",
              "          const element = document.querySelector('#df-b324fa96-4cb1-4404-bd68-ebc636a6e97b');\n",
              "          const dataTable =\n",
              "            await google.colab.kernel.invokeFunction('convertToInteractive',\n",
              "                                                     [key], {});\n",
              "          if (!dataTable) return;\n",
              "\n",
              "          const docLinkHtml = 'Like what you see? Visit the ' +\n",
              "            '<a target=\"_blank\" href=https://colab.research.google.com/notebooks/data_table.ipynb>data table notebook</a>'\n",
              "            + ' to learn more about interactive tables.';\n",
              "          element.innerHTML = '';\n",
              "          dataTable['output_type'] = 'display_data';\n",
              "          await google.colab.output.renderOutput(dataTable, element);\n",
              "          const docLink = document.createElement('div');\n",
              "          docLink.innerHTML = docLinkHtml;\n",
              "          element.appendChild(docLink);\n",
              "        }\n",
              "      </script>\n",
              "    </div>\n",
              "  </div>\n",
              "  "
            ]
          },
          "metadata": {},
          "execution_count": 70
        }
      ]
    }
  ],
  "metadata": {
    "colab": {
      "collapsed_sections": [
        "00vheVgFrso6",
        "l1xBx_Izrqgi"
      ],
      "provenance": []
    },
    "kernelspec": {
      "display_name": "Python 3",
      "name": "python3"
    },
    "language_info": {
      "name": "python"
    },
    "gpuClass": "standard"
  },
  "nbformat": 4,
  "nbformat_minor": 0
}